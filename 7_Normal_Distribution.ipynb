{
  "nbformat": 4,
  "nbformat_minor": 0,
  "metadata": {
    "colab": {
      "name": "7_Normal_Distribution",
      "provenance": [],
      "collapsed_sections": [],
      "authorship_tag": "ABX9TyN6LFFrnCKNJudob4mn3CIz"
    },
    "kernelspec": {
      "name": "python3",
      "display_name": "Python 3"
    }
  },
  "cells": [
    {
      "cell_type": "markdown",
      "metadata": {
        "id": "7wWDdR3AoMWX"
      },
      "source": [
        "# Chapter 7 - The Normal Distribution\n",
        "\n",
        "This notebook shows the working out for all exercises listed in Chapter 7 of *Principles of Statistics* (MG Bulmer, 1965)"
      ]
    },
    {
      "cell_type": "code",
      "metadata": {
        "id": "PhNm2u4boH8x"
      },
      "source": [
        "# Import libraries\n",
        "from math import sqrt\n",
        "from scipy.stats import norm\n",
        "\n",
        "# Define function that standardizes input\n",
        "def standardize(x=0, mean=0, var=None, sdev=None):\n",
        "  if var is not None:\n",
        "    return (x - mean) / sqrt(var)\n",
        "  if sdev is not None:\n",
        "    return (x - mean) / sdev"
      ],
      "execution_count": null,
      "outputs": []
    },
    {
      "cell_type": "markdown",
      "metadata": {
        "id": "IAMFctHwpIOH"
      },
      "source": [
        "## Question 1\n",
        "\n",
        "IQ is approximately normally distributed with mean 100 and a standard deviation of 16.\n",
        "\n",
        "To model this, let $X$ be a random variable such taht $X \\sim N(100, 16^{2})$\n",
        "\n",
        "a) Probability that X < 90"
      ]
    },
    {
      "cell_type": "code",
      "metadata": {
        "colab": {
          "base_uri": "https://localhost:8080/"
        },
        "id": "3OhvcPamoK7Z",
        "outputId": "81c30f01-c1f8-46ba-a769-9a05700aee06"
      },
      "source": [
        "round(norm.cdf(standardize(x=90, mean=100, sdev=16)), 3)"
      ],
      "execution_count": null,
      "outputs": [
        {
          "output_type": "execute_result",
          "data": {
            "text/plain": [
              "0.266"
            ]
          },
          "metadata": {
            "tags": []
          },
          "execution_count": 7
        }
      ]
    },
    {
      "cell_type": "markdown",
      "metadata": {
        "id": "dPXjy993rh0Z"
      },
      "source": [
        "b) Probability that X > 130"
      ]
    },
    {
      "cell_type": "code",
      "metadata": {
        "colab": {
          "base_uri": "https://localhost:8080/"
        },
        "id": "TMdXwxKkoL9Q",
        "outputId": "3a927ea7-00fe-4e47-9450-dd5dd38fb183"
      },
      "source": [
        "round(1 - norm.cdf(standardize(x=130, mean=100, sdev=16)), 2)"
      ],
      "execution_count": null,
      "outputs": [
        {
          "output_type": "execute_result",
          "data": {
            "text/plain": [
              "0.03"
            ]
          },
          "metadata": {
            "tags": []
          },
          "execution_count": 9
        }
      ]
    },
    {
      "cell_type": "markdown",
      "metadata": {
        "id": "Au9i-DxOr_QD"
      },
      "source": [
        "c) Probability that 95 < X < 105"
      ]
    },
    {
      "cell_type": "code",
      "metadata": {
        "colab": {
          "base_uri": "https://localhost:8080/"
        },
        "id": "Z3ZdVlKKoKRU",
        "outputId": "e9557e13-99ae-40e6-c7c6-e8eb096ce882"
      },
      "source": [
        "round(norm.cdf(standardize(x=105, mean=100, sdev=16)) - norm.cdf(standardize(x=95, mean=100, sdev=16)), 3)"
      ],
      "execution_count": null,
      "outputs": [
        {
          "output_type": "execute_result",
          "data": {
            "text/plain": [
              "0.245"
            ]
          },
          "metadata": {
            "tags": []
          },
          "execution_count": 12
        }
      ]
    },
    {
      "cell_type": "markdown",
      "metadata": {
        "id": "m8NcZ996stQU"
      },
      "source": [
        "## Question 2\n",
        "\n",
        "a) What is the probability that the mean IQ of a randomly chosen group of 12 people will lie between 95 and 105?\n",
        "\n",
        "*We know that $\\bar{X} \\sim N(100, \\frac{16^2}{12})$*"
      ]
    },
    {
      "cell_type": "code",
      "metadata": {
        "colab": {
          "base_uri": "https://localhost:8080/"
        },
        "id": "9CKma8Y8sjZY",
        "outputId": "39e113b1-2326-44fb-eeca-faa90e2b52d5"
      },
      "source": [
        "print(round(norm.cdf(standardize(x=105, mean=100, var=16**2/12)) - norm.cdf(standardize(x=95, mean=100, var=16**2/12)), 3))"
      ],
      "execution_count": null,
      "outputs": [
        {
          "output_type": "stream",
          "text": [
            "0.721\n"
          ],
          "name": "stdout"
        }
      ]
    },
    {
      "cell_type": "markdown",
      "metadata": {
        "id": "UEDqjwUet880"
      },
      "source": [
        "b) How large a sample is required to have a chance of 95% that the mean IQ of this group will lie between these limits?\n",
        "\n",
        "*We are looking for $n^*$ such that $\\Phi(\\frac{105 - 100}{\\frac{16}{\\sqrt{n^*}}}) -  \\Phi(\\frac{95 - 100}{\\frac{16}{\\sqrt{n^*}}}) = 0.95$*\n",
        "\n",
        "*Note that the LHS of the above equation is equivalent to*\n",
        "\n",
        "$\\Phi(\\frac{5}{\\frac{16}{\\sqrt{n^*}}}) -  \\Phi(\\frac{-5}{\\frac{16}{\\sqrt{n^*}}})$\n",
        "\n",
        "$\\Phi(\\frac{5}{\\frac{16}{\\sqrt{n^*}}}) - (1 - \\Phi(\\frac{5}{\\frac{16}{\\sqrt{n^*}}}) )$\n",
        "\n",
        "$2 \\Phi(\\frac{5}{\\frac{16}{\\sqrt{n^*}}}) - 1 \\stackrel{\\text{must}}=0.95$\n",
        "\n",
        "*Thus*\n",
        "\n",
        "$\\Phi(\\frac{5}{\\frac{16}{\\sqrt{n^*}}}) \\stackrel{\\text{must}} = \\frac{0.95 + 1}{2} = 0.975$"
      ]
    },
    {
      "cell_type": "code",
      "metadata": {
        "colab": {
          "base_uri": "https://localhost:8080/"
        },
        "id": "y5fvwh9Hto1v",
        "outputId": "9ba14f5c-2428-436e-908a-a2de617f48b7"
      },
      "source": [
        "# Find arg where norm.cdf(x) ≈ 0.975\n",
        "x = 1.9\n",
        "while round(norm.cdf(x), 3) < 0.975:\n",
        "  x += 0.01 \n",
        "# Solve for n\n",
        "print('n is nearly', round(((16 * x) / 5)**2, 0))"
      ],
      "execution_count": null,
      "outputs": [
        {
          "output_type": "stream",
          "text": [
            "n is nearly 39.0\n"
          ],
          "name": "stdout"
        }
      ]
    },
    {
      "cell_type": "code",
      "metadata": {
        "id": "sra9mJOCx4xh"
      },
      "source": [
        ""
      ],
      "execution_count": null,
      "outputs": []
    },
    {
      "cell_type": "code",
      "metadata": {
        "id": "vTVucVyRt6ik"
      },
      "source": [
        ""
      ],
      "execution_count": null,
      "outputs": []
    },
    {
      "cell_type": "code",
      "metadata": {
        "id": "rCnVRxMpt7b2"
      },
      "source": [
        ""
      ],
      "execution_count": null,
      "outputs": []
    }
  ]
}