{
  "nbformat": 4,
  "nbformat_minor": 0,
  "metadata": {
    "colab": {
      "name": "7_Normal_Distribution",
      "provenance": [],
      "collapsed_sections": [],
      "authorship_tag": "ABX9TyMyBShQnCX9m8XM5V3l0m3m"
    },
    "kernelspec": {
      "name": "python3",
      "display_name": "Python 3"
    }
  },
  "cells": [
    {
      "cell_type": "markdown",
      "metadata": {
        "id": "7wWDdR3AoMWX"
      },
      "source": [
        "# Chapter 7 - The Normal Distribution\n",
        "Solutions for all exercises listed in Chapter 7 of *Principles of Statistics* (MG Bulmer, 1965)\n",
        "\n",
        "\n",
        "---\n",
        "\n",
        "\n",
        "Set local environment"
      ]
    },
    {
      "cell_type": "code",
      "metadata": {
        "id": "PhNm2u4boH8x"
      },
      "source": [
        "# Import libraries\n",
        "import numpy as np\n",
        "from math import sqrt\n",
        "from scipy.stats import norm\n",
        "import matplotlib.pyplot as plt\n",
        "\n",
        "# Define function that standardizes an input\n",
        "def standardize(x=0, mean=0, var=None, sdev=None):\n",
        "  if var is not None:\n",
        "    return (x - mean) / sqrt(var)\n",
        "  if sdev is not None:\n",
        "    return (x - mean) / sdev"
      ],
      "execution_count": 1,
      "outputs": []
    },
    {
      "cell_type": "markdown",
      "metadata": {
        "id": "IAMFctHwpIOH"
      },
      "source": [
        "## Exercise 7.1\n",
        "\n",
        "IQ is approximately normally distributed with mean 100 and a standard deviation of 16.\n",
        "\n",
        "To model this, let $X$ be a random variable such taht $X \\sim N(100, 16^{2})$\n",
        "\n",
        "a) Probability that X < 90"
      ]
    },
    {
      "cell_type": "code",
      "metadata": {
        "colab": {
          "base_uri": "https://localhost:8080/"
        },
        "id": "3OhvcPamoK7Z",
        "outputId": "f4cc6acf-cc45-4a75-86af-78e274607f3d"
      },
      "source": [
        "round(norm.cdf(standardize(x=90, mean=100, sdev=16)), 3)"
      ],
      "execution_count": 2,
      "outputs": [
        {
          "output_type": "execute_result",
          "data": {
            "text/plain": [
              "0.266"
            ]
          },
          "metadata": {
            "tags": []
          },
          "execution_count": 2
        }
      ]
    },
    {
      "cell_type": "markdown",
      "metadata": {
        "id": "dPXjy993rh0Z"
      },
      "source": [
        "b) Probability that X > 130"
      ]
    },
    {
      "cell_type": "code",
      "metadata": {
        "colab": {
          "base_uri": "https://localhost:8080/"
        },
        "id": "TMdXwxKkoL9Q",
        "outputId": "0825ca88-fdd8-4776-8baf-2883fceae532"
      },
      "source": [
        "round(1 - norm.cdf(standardize(x=130, mean=100, sdev=16)), 2)"
      ],
      "execution_count": 3,
      "outputs": [
        {
          "output_type": "execute_result",
          "data": {
            "text/plain": [
              "0.03"
            ]
          },
          "metadata": {
            "tags": []
          },
          "execution_count": 3
        }
      ]
    },
    {
      "cell_type": "markdown",
      "metadata": {
        "id": "Au9i-DxOr_QD"
      },
      "source": [
        "c) Probability that 95 < X < 105"
      ]
    },
    {
      "cell_type": "code",
      "metadata": {
        "colab": {
          "base_uri": "https://localhost:8080/"
        },
        "id": "Z3ZdVlKKoKRU",
        "outputId": "6d746d5a-bda5-498b-d161-d46881633985"
      },
      "source": [
        "round(norm.cdf(standardize(x=105, mean=100, sdev=16)) - norm.cdf(standardize(x=95, mean=100, sdev=16)), 3)"
      ],
      "execution_count": 4,
      "outputs": [
        {
          "output_type": "execute_result",
          "data": {
            "text/plain": [
              "0.245"
            ]
          },
          "metadata": {
            "tags": []
          },
          "execution_count": 4
        }
      ]
    },
    {
      "cell_type": "markdown",
      "metadata": {
        "id": "m8NcZ996stQU"
      },
      "source": [
        "## **Exercise 7.2**\n",
        "a) What is the probability that the mean IQ of a randomly chosen group of 12 people will lie between 95 and 105?\n",
        "\n",
        "**Solution**\n",
        "\n",
        "We know that $\\bar{X} \\sim N(100, \\frac{16^2}{12})$"
      ]
    },
    {
      "cell_type": "code",
      "metadata": {
        "colab": {
          "base_uri": "https://localhost:8080/"
        },
        "id": "9CKma8Y8sjZY",
        "outputId": "7458457c-30ce-48d5-e23b-4b24401dede5"
      },
      "source": [
        "print(round(norm.cdf(standardize(x=105, mean=100, var=16**2/12)) - norm.cdf(standardize(x=95, mean=100, var=16**2/12)), 3))"
      ],
      "execution_count": 5,
      "outputs": [
        {
          "output_type": "stream",
          "text": [
            "0.721\n"
          ],
          "name": "stdout"
        }
      ]
    },
    {
      "cell_type": "markdown",
      "metadata": {
        "id": "UEDqjwUet880"
      },
      "source": [
        "b) How large a sample is required to have a chance of 95% that the mean IQ of this group will lie between these limits?\n",
        "\n",
        "*We are looking for $n^*$ such that $\\Phi(\\frac{105 - 100}{\\frac{16}{\\sqrt{n^*}}}) -  \\Phi(\\frac{95 - 100}{\\frac{16}{\\sqrt{n^*}}}) = 0.95$*\n",
        "\n",
        "*Note that the LHS of the above equation is equivalent to*\n",
        "\n",
        "$\\Phi(\\frac{5}{\\frac{16}{\\sqrt{n^*}}}) -  \\Phi(\\frac{-5}{\\frac{16}{\\sqrt{n^*}}})$\n",
        "\n",
        "$\\Phi(\\frac{5}{\\frac{16}{\\sqrt{n^*}}}) - (1 - \\Phi(\\frac{5}{\\frac{16}{\\sqrt{n^*}}}) )$\n",
        "\n",
        "$2 \\Phi(\\frac{5}{\\frac{16}{\\sqrt{n^*}}}) - 1 \\stackrel{\\text{must}}=0.95$\n",
        "\n",
        "*Thus*\n",
        "\n",
        "$\\Phi(\\frac{5}{\\frac{16}{\\sqrt{n^*}}}) \\stackrel{\\text{must}} = \\frac{0.95 + 1}{2} = 0.975$"
      ]
    },
    {
      "cell_type": "code",
      "metadata": {
        "colab": {
          "base_uri": "https://localhost:8080/"
        },
        "id": "y5fvwh9Hto1v",
        "outputId": "36fce259-6060-417c-9f24-4897657dcdce"
      },
      "source": [
        "# Find arg where norm.cdf(x) ≈ 0.975\n",
        "x = 1.9\n",
        "while round(norm.cdf(x), 3) < 0.975:\n",
        "  x += 0.01 \n",
        "# Solve for n\n",
        "print('n is nearly', round(((16 * x) / 5)**2, 0))"
      ],
      "execution_count": 6,
      "outputs": [
        {
          "output_type": "stream",
          "text": [
            "n is nearly 39.0\n"
          ],
          "name": "stdout"
        }
      ]
    },
    {
      "cell_type": "markdown",
      "metadata": {
        "id": "sHqWkl6V5ZOP"
      },
      "source": [
        "## **Exercise 7.3**\n",
        "\n",
        "Fit a normal curve to the observed distribution of head breadths\n",
        "\n",
        "*X is random variable for head breadth (cm)*\n",
        "\n",
        "$X \\sim N(\\mu=15.049, \\sigma^2=0.249)$\n",
        "\n"
      ]
    },
    {
      "cell_type": "code",
      "metadata": {
        "id": "sra9mJOCx4xh",
        "colab": {
          "base_uri": "https://localhost:8080/",
          "height": 295
        },
        "outputId": "5d019379-759e-48de-b302-0d413649b715"
      },
      "source": [
        "# Declare parameters\n",
        "mu = 15.049\n",
        "s2 = 0.249\n",
        "\n",
        "# Create evenly-split array (±3 standard deviations from the mean)\n",
        "x = np.linspace(start=mu - 3 * sqrt(s2), stop=mu + 3 * sqrt(s2), num=50, endpoint=True)\n",
        "\n",
        "# Calculate probability density at each x\n",
        "Px = norm.pdf(x=x, loc=mu, scale=sqrt(s2))\n",
        "\n",
        "# Plot pdf\n",
        "plt.plot(x, Px)\n",
        "plt.title('Theoretical probability distribution of Head Breadth')\n",
        "plt.xlabel('Head breadth (cm)')\n",
        "plt.ylabel('Probability mass')\n",
        "plt.show()"
      ],
      "execution_count": 7,
      "outputs": [
        {
          "output_type": "display_data",
          "data": {
            "image/png": "[encoded data removed]",
            "text/plain": [
              "<Figure size 432x288 with 1 Axes>"
            ]
          },
          "metadata": {
            "tags": [],
            "needs_background": "light"
          }
        }
      ]
    },
    {
      "cell_type": "markdown",
      "metadata": {
        "id": "aU1MEeb9CMSw"
      },
      "source": [
        "## **Exercise 7.4**\n",
        "\n",
        "Find the expected frequencies in the distribution of head breadths (p. 40) on the assumption of normality using the CDF"
      ]
    },
    {
      "cell_type": "code",
      "metadata": {
        "colab": {
          "base_uri": "https://localhost:8080/",
          "height": 295
        },
        "id": "a40C_a9KEEb7",
        "outputId": "3054f308-f492-4d23-85a6-5edd33f07ee5"
      },
      "source": [
        "# Number of observations\n",
        "n = 3000\n",
        "\n",
        "# Bins (according to book)\n",
        "x = np.arange(start=13, stop=17, step=0.5)\n",
        "\n",
        "# Expected number of observations per bin\n",
        "freq = []\n",
        "for lower_bound in x[:-1]:\n",
        "  # Upper bound is the next element\n",
        "  upper_bound = x[np.argwhere(x == lower_bound).item() + 1]\n",
        "  # Expected number of observations (n * probability)\n",
        "  freq.append(n * (norm.cdf(standardize(x=upper_bound, mean=mu, var=s2)) - norm.cdf(standardize(x=lower_bound, mean=mu, var=s2))))\n",
        "\n",
        "# Plot observed frequencies\n",
        "plt.bar(x[:-1], freq, width=1, align='edge')\n",
        "plt.title('Expected number of observations per interval')\n",
        "plt.xlabel('Head breadth (cm)')\n",
        "plt.ylabel('Expected number of observations')\n",
        "plt.show()"
      ],
      "execution_count": 8,
      "outputs": [
        {
          "output_type": "display_data",
          "data": {
            "image/png": "[encoded data removed]",
            "text/plain": [
              "<Figure size 432x288 with 1 Axes>"
            ]
          },
          "metadata": {
            "tags": [],
            "needs_background": "light"
          }
        }
      ]
    },
    {
      "cell_type": "markdown",
      "metadata": {
        "id": "yk7n6OQoOjSY"
      },
      "source": [
        "## **Exercise 7.5**\n",
        "From the data in table 13 on p. 113 estimate the proportion of men with heights:\n",
        "\n",
        "1. More than 1 standard deviation above the mean and compare with a normal\n"
      ]
    },
    {
      "cell_type": "code",
      "metadata": {
        "colab": {
          "base_uri": "https://localhost:8080/"
        },
        "id": "qHxZbjQuM9r2",
        "outputId": "6a6cf703-d8b7-456d-a765-e6fb69d7d82e"
      },
      "source": [
        "# Declare parameters\n",
        "mu = 65.535\n",
        "sd = 2.557\n",
        "\n",
        "# Print the heights we're looking for\n",
        "x = mu + sd\n",
        "print('People taller than', round(x, 0), 'inches.')"
      ],
      "execution_count": 9,
      "outputs": [
        {
          "output_type": "stream",
          "text": [
            "People taller than 68.0 inches.\n"
          ],
          "name": "stdout"
        }
      ]
    },
    {
      "cell_type": "code",
      "metadata": {
        "colab": {
          "base_uri": "https://localhost:8080/"
        },
        "id": "LA7EbsLFRFyg",
        "outputId": "59fa3201-a8b4-40e0-bafa-995419a4e5ef"
      },
      "source": [
        "print('Proportion of people taller than', round(x, 0), 'inches:', round((264 + 177 + 97 + 46 + 17 + 7 + 4 + 1) / 3000, 3))\n",
        "print('Expected proportion according to normal curve:', round(1 - norm.cdf(standardize(x=x, mean=mu, sdev=sd)), 3))"
      ],
      "execution_count": 10,
      "outputs": [
        {
          "output_type": "stream",
          "text": [
            "Proportion of people taller than 68.0 inches: 0.204\n",
            "Expected proportion according to normal curve: 0.159\n"
          ],
          "name": "stdout"
        }
      ]
    },
    {
      "cell_type": "markdown",
      "metadata": {
        "id": "ZHrSJxjZQqrC"
      },
      "source": [
        "2. More than 2 standart deviations above the mean and compare with a normal"
      ]
    },
    {
      "cell_type": "code",
      "metadata": {
        "colab": {
          "base_uri": "https://localhost:8080/"
        },
        "id": "4vS2yR2-SkDm",
        "outputId": "d30a4dcc-84a1-4aa4-e80d-7ed7d35af232"
      },
      "source": [
        "# Print height we're looking for\n",
        "x = mu + 2 * sd\n",
        "print('People taller than', round(x, 0), 'inches.')"
      ],
      "execution_count": 11,
      "outputs": [
        {
          "output_type": "stream",
          "text": [
            "People taller than 71.0 inches.\n"
          ],
          "name": "stdout"
        }
      ]
    },
    {
      "cell_type": "code",
      "metadata": {
        "colab": {
          "base_uri": "https://localhost:8080/"
        },
        "id": "T0YLnVd7QZuu",
        "outputId": "dd14f7c3-b457-461b-9fd3-8daa9bdeadbe"
      },
      "source": [
        "print('Proportion of people taller than', round(x, 0), 'inches:', round((46 + 17 + 7 + 4 + 1) / 3000, 3))\n",
        "print('Expected proportion according to normal curve:', round(1 - norm.cdf(standardize(x=x, mean=mu, sdev=sd)), 3))"
      ],
      "execution_count": 12,
      "outputs": [
        {
          "output_type": "stream",
          "text": [
            "Proportion of people taller than 71.0 inches: 0.025\n",
            "Expected proportion according to normal curve: 0.023\n"
          ],
          "name": "stdout"
        }
      ]
    },
    {
      "cell_type": "markdown",
      "metadata": {
        "id": "thV8pYDDTkjK"
      },
      "source": [
        "## **Exercise 7.6**\n",
        "\n",
        "$X$ is the breaking distance (in yards) that a motorist takes to go from 30 mph down to 0 mph.\n",
        "\n",
        "$X_A \\sim N(\\mu=30, \\sigma^2=36)$\n",
        "\n",
        "$X_B \\sim N(\\mu=40, \\sigma^2=64)$\n",
        "\n",
        "$X_A$ and $X_B$ are independent.\n",
        "\n",
        "Motorists A and B approach each other at 30mph on a single-lane road and they first see each other when they are 90 yards apart, what is the probability that they avoid collision?\n",
        "\n",
        "**Solution**\n",
        "\n",
        "The drivers will avoid collision whenever their aggregate breaking distance is less than 90. Note that:\n",
        "\n",
        "$Y = X_A + X_B$\n",
        "\n",
        "$E(Y) = E(X_A) + E(X_B)$\n",
        "\n",
        "$V(X) = V(X_A) + V(X_B)$\n",
        "\n",
        "We're therefore looking for $P(Y < 90)$"
      ]
    },
    {
      "cell_type": "code",
      "metadata": {
        "colab": {
          "base_uri": "https://localhost:8080/"
        },
        "id": "wros5jZhULpe",
        "outputId": "93990b29-6f86-4e00-9de4-3d97c45daa0d"
      },
      "source": [
        "print(\"Probability that they won't crash:\", round(norm.cdf(standardize(90, mean=30 + 40, var=36 + 64)), 3))"
      ],
      "execution_count": 13,
      "outputs": [
        {
          "output_type": "stream",
          "text": [
            "Probability that they won't crash: 0.977\n"
          ],
          "name": "stdout"
        }
      ]
    },
    {
      "cell_type": "markdown",
      "metadata": {
        "id": "VLqBfhQpXEjo"
      },
      "source": [
        "## **Exercise 7.7**\n",
        "\n",
        "$X$ is the number of fume cupboards needed by a chemist during their shift.\n",
        "\n",
        "$P(X=0) = 0.6$\n",
        "\n",
        "$P(X=1) = 0.3$\n",
        "\n",
        "$P(X=2) = 0.1$\n",
        "\n",
        "How many cupboards would be required to satisfy a group of 50 chemists at least 95% of the time?\n",
        "\n",
        "**Solution**\n",
        "\n",
        "The number of cupboards required by one chemist follows a multinomial distribution. Since $n=50$ and they're all working independently from one another, we can use the normal distribution to approximate chance that the number of cupboards will be greater or equal to the number of cupboards needed 95% of the time.\n",
        "\n",
        "$E(X) = (0 \\times 0.6) + (1 \\times 0.3) + (2 \\times 0.1) = 0.5$\n",
        "\n",
        "$V(X) = (0 - 0.5)^2 \\times 0.6 + (1 - 0.5)^2 \\times 0.3 + (2 - 0.5)^2 \\times 0.1 = 0.45$\n",
        "\n",
        "Let $Y = \\sum_{i=1}^{50} X_i$ be the number of cupboards needed by all 50 chemists. Therefore:\n",
        " \n",
        " $E(Y) = 50 \\times E(X)$ and\n",
        " \n",
        " $V(Y) = 50 \\times v(X)$\n",
        " \n",
        "Since $Y$ is a sum of 50 identically and independently ditributed random variables, it follows that $X \\sim N(\\mu = 25, \\sigma^2 = 22.5)$\n",
        "\n",
        "We are therefore looking for $y^*$ such that $\\Phi(\\frac{y^* - 25}{\\sqrt{22.5}})$ >= 0.95"
      ]
    },
    {
      "cell_type": "code",
      "metadata": {
        "colab": {
          "base_uri": "https://localhost:8080/"
        },
        "id": "QY9fUSihyCG1",
        "outputId": "5641e9f1-3d5f-44a8-ea51-edb69a9bc151"
      },
      "source": [
        "# Find the argument that accumulates 95% the probabiltiy below it\n",
        "z = 1.5\n",
        "while round(norm.cdf(z), 3) < 0.95:\n",
        "  z += 0.01\n",
        "\n",
        "# Solve for y*\n",
        "print('Approximately,', round(z * sqrt(22.5) + 25, 0), 'cupboards are required.')"
      ],
      "execution_count": 14,
      "outputs": [
        {
          "output_type": "stream",
          "text": [
            "Approximately, 33.0 cupboards are required.\n"
          ],
          "name": "stdout"
        }
      ]
    },
    {
      "cell_type": "markdown",
      "metadata": {
        "id": "XkOdr9yM2DA1"
      },
      "source": [
        "## Excercise 7.8\n",
        "\n",
        "1. If the probability of a male birth is $0.514$, what is the probability that there will be fewer boys than girls in 1000 births?\n",
        "\n",
        "**Solution**\n",
        "\n",
        "$X \\sim B(n=1000, P=0.514)$\n",
        "\n",
        "$E(X) = n \\times P = 514$\n",
        "\n",
        "$V(X) = n \\times P \\times (1-P) = 249.804$\n",
        "\n",
        "A binomial distribution is the sum of $n$ iid Bernoulli variables, so we can use the CLT to approximate the probability that $X \\leq 499$"
      ]
    },
    {
      "cell_type": "code",
      "metadata": {
        "colab": {
          "base_uri": "https://localhost:8080/"
        },
        "id": "ea1Ob91u4BcW",
        "outputId": "c382e9c7-74b0-4a1c-f4dc-2cd7d872b379"
      },
      "source": [
        "# Set parameters of nomral distribution\n",
        "n = 1000\n",
        "P = 0.514\n",
        "mu = n * P\n",
        "s2 = n * P * (1 - P)\n",
        "\n",
        "# Get Prob. with standardized normal\n",
        "print('Probability that there will be more girls than boys in 1000 births:', round(norm.cdf(standardize(x=499, mean=mu, var=s2)), 3))"
      ],
      "execution_count": 15,
      "outputs": [
        {
          "output_type": "stream",
          "text": [
            "Probability that there will be more girls than boys in 1000 births: 0.171\n"
          ],
          "name": "stdout"
        }
      ]
    },
    {
      "cell_type": "markdown",
      "metadata": {
        "id": "t6pdbrjz7J__"
      },
      "source": [
        "2. How large a sample must be take to make the probability of this occurrence less than 5%?"
      ]
    },
    {
      "cell_type": "code",
      "metadata": {
        "colab": {
          "base_uri": "https://localhost:8080/"
        },
        "id": "CaYucHnB-e29",
        "outputId": "e73ab5f0-ffbc-4cb1-c162-60f329c0b3df"
      },
      "source": [
        "norm.cdf(-2)"
      ],
      "execution_count": 16,
      "outputs": [
        {
          "output_type": "execute_result",
          "data": {
            "text/plain": [
              "0.022750131948179195"
            ]
          },
          "metadata": {
            "tags": []
          },
          "execution_count": 16
        }
      ]
    },
    {
      "cell_type": "code",
      "metadata": {
        "colab": {
          "base_uri": "https://localhost:8080/"
        },
        "id": "kuhaSpJn-Xrg",
        "outputId": "16a7f9f3-6f84-47d8-e8ed-64b7b51957be"
      },
      "source": [
        "norm.cdf(-1.5)"
      ],
      "execution_count": 17,
      "outputs": [
        {
          "output_type": "execute_result",
          "data": {
            "text/plain": [
              "0.06680720126885807"
            ]
          },
          "metadata": {
            "tags": []
          },
          "execution_count": 17
        }
      ]
    },
    {
      "cell_type": "code",
      "metadata": {
        "id": "Yu08AVqX44If"
      },
      "source": [
        "# Find argument that accumulates 0.05\n",
        "z = -2\n",
        "while norm.cdf(z) < 0.05:\n",
        "  z += 0.01\n",
        "\n",
        "# Solve for n (naively)"
      ],
      "execution_count": 19,
      "outputs": []
    }
  ]
}