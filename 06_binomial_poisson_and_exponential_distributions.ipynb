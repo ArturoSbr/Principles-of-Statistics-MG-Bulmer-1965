{
  "nbformat": 4,
  "nbformat_minor": 0,
  "metadata": {
    "colab": {
      "name": "6_binomial_poisson_and_exponential_distributions",
      "provenance": [],
      "collapsed_sections": [],
      "authorship_tag": "ABX9TyOUvG+p7KeaGeDWAAMMSNHQ",
      "include_colab_link": true
    },
    "kernelspec": {
      "name": "python3",
      "display_name": "Python 3"
    }
  },
  "cells": [
    {
      "cell_type": "markdown",
      "metadata": {
        "id": "view-in-github",
        "colab_type": "text"
      },
      "source": [
        "<a href=\"https://colab.research.google.com/github/ArturoSbr/Principles-of-Statistics-MG-Bulmer-1965/blob/main/6_binomial_poisson_and_exponential_distributions.ipynb\" target=\"_parent\"><img src=\"https://colab.research.google.com/assets/colab-badge.svg\" alt=\"Open In Colab\"/></a>"
      ]
    },
    {
      "cell_type": "markdown",
      "metadata": {
        "id": "eCv9iY6ikGAQ"
      },
      "source": [
        "# Chapter 6 - The binomial, Poisson and exponential distributions\n",
        "\n",
        "This notebook contains the solutions to all the exercises from Chapter 6 of *Principles of Statistics (MG Bulmer, 1965)*.\n",
        "\n",
        "\n",
        "---\n",
        "\n",
        "Set local environment"
      ]
    },
    {
      "cell_type": "code",
      "metadata": {
        "id": "l19rqF3vwNsS"
      },
      "source": [
        "import numpy as np\n",
        "import pandas as pd\n",
        "from scipy import stats\n",
        "from scipy.special import comb"
      ],
      "execution_count": 1,
      "outputs": []
    },
    {
      "cell_type": "markdown",
      "metadata": {
        "id": "qmXISbnmVNWh"
      },
      "source": [
        "## Exercise 6.1\n",
        "\n",
        "In a table of random numbers, digits are arranged in groups of four. One proposed test of randomness is the poker test in which the groups are classified as\n",
        "\n",
        "1. all four digits are the same\n",
        "2. three digits the same, and one different\n",
        "3. two of one digit and two of another\n",
        "4. two of one digit and two different digits\n",
        "5. all four different\n",
        "\n",
        "and the observed frequencies compared with expectation. Find the probabilities of each of these events. (P. P. P., Hilary, 1963.)"
      ]
    },
    {
      "cell_type": "markdown",
      "metadata": {
        "id": "rXjHP6B3XsBw"
      },
      "source": [
        "1. all four digits are the same"
      ]
    },
    {
      "cell_type": "code",
      "metadata": {
        "colab": {
          "base_uri": "https://localhost:8080/"
        },
        "id": "1O8MRDFLVME9",
        "outputId": "de36bb47-7fc9-4d4d-f9e5-d524569a9929"
      },
      "source": [
        "round((10 / 10**4), 3)"
      ],
      "execution_count": 2,
      "outputs": [
        {
          "output_type": "execute_result",
          "data": {
            "text/plain": [
              "0.001"
            ]
          },
          "metadata": {
            "tags": []
          },
          "execution_count": 2
        }
      ]
    },
    {
      "cell_type": "markdown",
      "metadata": {
        "id": "E1MC9Z_jYhFb"
      },
      "source": [
        "2. three digits the same, and one different"
      ]
    },
    {
      "cell_type": "code",
      "metadata": {
        "colab": {
          "base_uri": "https://localhost:8080/"
        },
        "id": "jth2EhTEWvrr",
        "outputId": "0657a07b-9df7-46bb-9e29-1bab961b467b"
      },
      "source": [
        "round(((4 * 3 * 2) / (3 * 2)) * ((10 * 9 * 1 * 1) / 10**4), 3)"
      ],
      "execution_count": 3,
      "outputs": [
        {
          "output_type": "execute_result",
          "data": {
            "text/plain": [
              "0.036"
            ]
          },
          "metadata": {
            "tags": []
          },
          "execution_count": 3
        }
      ]
    },
    {
      "cell_type": "markdown",
      "metadata": {
        "id": "cP3Qil5igTEi"
      },
      "source": [
        "3. two of one digit and two of another"
      ]
    },
    {
      "cell_type": "code",
      "metadata": {
        "colab": {
          "base_uri": "https://localhost:8080/"
        },
        "id": "z0A6_OG0dLuB",
        "outputId": "1a152979-d005-4853-d03a-48502103702b"
      },
      "source": [
        "round(((4 * 3 * 2) / (2 * 2)) * (comb(N=10, k=2) / 10**4), 3)"
      ],
      "execution_count": 4,
      "outputs": [
        {
          "output_type": "execute_result",
          "data": {
            "text/plain": [
              "0.027"
            ]
          },
          "metadata": {
            "tags": []
          },
          "execution_count": 4
        }
      ]
    },
    {
      "cell_type": "markdown",
      "metadata": {
        "id": "gXe5mGQxiLFV"
      },
      "source": [
        "4. two of one digit and two of another"
      ]
    },
    {
      "cell_type": "code",
      "metadata": {
        "colab": {
          "base_uri": "https://localhost:8080/"
        },
        "id": "AfgPmw8RiKpW",
        "outputId": "7a4f5142-06d6-4b64-c1b8-e17053ab6485"
      },
      "source": [
        "round(((4 * 3 * 2) / 2) * (comb(N=10, k=3) / 10**4) * 3, 3)"
      ],
      "execution_count": 5,
      "outputs": [
        {
          "output_type": "execute_result",
          "data": {
            "text/plain": [
              "0.432"
            ]
          },
          "metadata": {
            "tags": []
          },
          "execution_count": 5
        }
      ]
    },
    {
      "cell_type": "markdown",
      "metadata": {
        "id": "hVBuFbP_h2-u"
      },
      "source": [
        "5. all four different"
      ]
    },
    {
      "cell_type": "code",
      "metadata": {
        "colab": {
          "base_uri": "https://localhost:8080/"
        },
        "id": "CsX4wZeEZCaK",
        "outputId": "04daa124-77db-46f2-98d9-24571c937e49"
      },
      "source": [
        "round((4 * 3 * 2) * (comb(N=10, k=4) / 10**4), 3)"
      ],
      "execution_count": 6,
      "outputs": [
        {
          "output_type": "execute_result",
          "data": {
            "text/plain": [
              "0.504"
            ]
          },
          "metadata": {
            "tags": []
          },
          "execution_count": 6
        }
      ]
    },
    {
      "cell_type": "markdown",
      "metadata": {
        "id": "OS6Z059VwURP"
      },
      "source": [
        "## Exercise 6.2\n",
        "\n",
        "When Mendell crossed a tall with a dwarf strain of pea and allowed the hybrids to self-fertilise he found that $\\frac{3}{4}$ of the offspring were tall and $\\frac{1}{4}$ dwarf. If 9 such offspring were observed, what is the chance (a) that less than half of them would be tall?; (b) that all of them would be tall?\n",
        "\n",
        "**Solution**\n",
        "\n",
        " $X \\sim Bin(n=9, P=0.75)$\n",
        "\n",
        " (a) The probability that less than half of them are tall is:\n",
        "\n",
        " $P(X < 5) = P(X \\leq 4) = \\sum_{x=0}^4 P(x)$\n",
        "\n"
      ]
    },
    {
      "cell_type": "code",
      "metadata": {
        "colab": {
          "base_uri": "https://localhost:8080/"
        },
        "id": "i6jHD0Tlx1RB",
        "outputId": "90f9cc75-458a-456d-f6c7-bcabfea86f63"
      },
      "source": [
        "X = stats.binom(n=9, p=0.75)\n",
        "round(X.cdf(4), 4)"
      ],
      "execution_count": 7,
      "outputs": [
        {
          "output_type": "execute_result",
          "data": {
            "text/plain": [
              "0.0489"
            ]
          },
          "metadata": {
            "tags": []
          },
          "execution_count": 7
        }
      ]
    },
    {
      "cell_type": "markdown",
      "metadata": {
        "id": "kf60o8G0zrjH"
      },
      "source": [
        "(b) The probability that all of the would be tall is:\n",
        "\n",
        "$P(X = 9)$"
      ]
    },
    {
      "cell_type": "code",
      "metadata": {
        "colab": {
          "base_uri": "https://localhost:8080/"
        },
        "id": "d2hCzBH60Csn",
        "outputId": "cbbbea03-f83e-46d4-c7d5-5d7c328b8dd4"
      },
      "source": [
        "round(X.pmf(9), 4)"
      ],
      "execution_count": 8,
      "outputs": [
        {
          "output_type": "execute_result",
          "data": {
            "text/plain": [
              "0.0751"
            ]
          },
          "metadata": {
            "tags": []
          },
          "execution_count": 8
        }
      ]
    },
    {
      "cell_type": "markdown",
      "metadata": {
        "id": "i3yqziOd0Va2"
      },
      "source": [
        "# Exercise 6.3\n",
        "\n",
        "Find the mean and variance of the observed frequency distribution and of the theoretical probability distribution in Table 11 on p.82 directly, using the exact probabilities in fractional form for the latter; compare these values with those obtained from the formula for the binomial distribution with $n=5$ and $P=\\frac{1}{2}$\n",
        "\n",
        "**Solution**\n",
        "\n",
        "The observed mean is:"
      ]
    },
    {
      "cell_type": "code",
      "metadata": {
        "colab": {
          "base_uri": "https://localhost:8080/"
        },
        "id": "gz06O-Q00Scd",
        "outputId": "407c2635-c42d-4821-8243-5473e0653022"
      },
      "source": [
        "mean = (316 + 596 * 2 + 3 * 633 + 4 * 320 + 5 * 76) / 2000\n",
        "round(mean, 2)"
      ],
      "execution_count": 9,
      "outputs": [
        {
          "output_type": "execute_result",
          "data": {
            "text/plain": [
              "2.53"
            ]
          },
          "metadata": {
            "tags": []
          },
          "execution_count": 9
        }
      ]
    },
    {
      "cell_type": "markdown",
      "metadata": {
        "id": "oQUxFYx819xP"
      },
      "source": [
        "The observed variance is:"
      ]
    },
    {
      "cell_type": "code",
      "metadata": {
        "colab": {
          "base_uri": "https://localhost:8080/"
        },
        "id": "W3OSFk4q19BA",
        "outputId": "90d1ba61-e809-4f50-95d2-287294444384"
      },
      "source": [
        "var = ((mean)**2 * 59 + (1 - mean)**2 * 316 + (2 - mean)**2 *  596 + \\\n",
        "(3 - mean)**2 * 633 + (4 - mean)**2 * 320 + (5 - mean)**2 * 76) / 2000\n",
        "round(var, 2)"
      ],
      "execution_count": 10,
      "outputs": [
        {
          "output_type": "execute_result",
          "data": {
            "text/plain": [
              "1.29"
            ]
          },
          "metadata": {
            "tags": []
          },
          "execution_count": 10
        }
      ]
    },
    {
      "cell_type": "markdown",
      "metadata": {
        "id": "EbSrNDWF3P_E"
      },
      "source": [
        "The theoretical mean and values of $X \\sim Bin(n=5, P=0.5)$ are $nP$ and $nP(1-P)$ respectively. We can get these values from a `scipy.stats.binom` random variable."
      ]
    },
    {
      "cell_type": "code",
      "metadata": {
        "colab": {
          "base_uri": "https://localhost:8080/"
        },
        "id": "I0oGcF-K3LWJ",
        "outputId": "36be34cf-7616-4fb4-c0eb-65a54219a71e"
      },
      "source": [
        "X = stats.binom(n=5, p=0.5)\n",
        "X.stats('mv')"
      ],
      "execution_count": 11,
      "outputs": [
        {
          "output_type": "execute_result",
          "data": {
            "text/plain": [
              "(array(2.5), array(1.25))"
            ]
          },
          "metadata": {
            "tags": []
          },
          "execution_count": 11
        }
      ]
    },
    {
      "cell_type": "markdown",
      "metadata": {
        "id": "l7rS_BOk33sv"
      },
      "source": [
        "## Exercise 6.4\n",
        "\n",
        "Weldon threw 12 dice 4096 times, a throw of 4, 5 or 6 being called a success, and obtained the following results\n",
        "\n",
        "| Successes |0|1|2|3|4|5|6|7|8|9|10|11|12|\n",
        "|-----------|-|-|-|-|-|-|-|-|-|-|-|-|-|\n",
        "| Frequency |0|7|60|198|430|731|948|847|536|257|71|11|0\n",
        "\n",
        "(a) Calculate the mean of the distribution and compare it with that of a binomial distribution with $P=\\frac{1}{2}$; find the observed proportion of successes per throw ($p$).\n",
        "\n",
        "**Solution**\n",
        "\n",
        "Each of the 12 dice in each throw are independent of one another. The probability of success in a single die is $\\frac{1}{2}$, hence $X \\sim Bin(n=12, P=0.5)$"
      ]
    },
    {
      "cell_type": "code",
      "metadata": {
        "colab": {
          "base_uri": "https://localhost:8080/"
        },
        "id": "OBYtZ1VX4zgL",
        "outputId": "f7b8dfc8-1fc3-4955-878c-a4fbfbd16156"
      },
      "source": [
        "# Observed data as pandas data frame\n",
        "df = pd.DataFrame({'successes':range(13),\n",
        "                   'frequency':[0,7,60,198,430,731,948,847,536,257,71,11,0]})\n",
        "# Observed mean\n",
        "mean = np.average(a=df['successes'], weights=df['frequency'])\n",
        "print('Observed mean:',\n",
        "      round(mean, 2))\n",
        "# Theoretical distribution\n",
        "X = stats.binom(n=12, p=0.5)\n",
        "# Theoretical mean\n",
        "print('Theoretical mean:',\n",
        "      X.stats('m').item())\n",
        "# Observed proportion of successes per throw\n",
        "p = mean / 12\n",
        "print('p = ', round(p, 4))"
      ],
      "execution_count": 12,
      "outputs": [
        {
          "output_type": "stream",
          "text": [
            "Observed mean: 6.14\n",
            "Theoretical mean: 6.0\n",
            "p =  0.5116\n"
          ],
          "name": "stdout"
        }
      ]
    },
    {
      "cell_type": "markdown",
      "metadata": {
        "id": "PIyY1V-d_08c"
      },
      "source": [
        "(b) Calculate the variance of the distribution and compare it with that of a binomial distribution (i) with $P=\\frac{1}{2}$; (ii) with $P=p$"
      ]
    },
    {
      "cell_type": "code",
      "metadata": {
        "colab": {
          "base_uri": "https://localhost:8080/"
        },
        "id": "F98WTC0d4zbO",
        "outputId": "4d474995-addc-4d8a-e6e8-07cbf654cd5e"
      },
      "source": [
        "print('Observed variance:',\n",
        "      round((df['successes'] - mean).pow(2).multiply(df['frequency'], 1).sum() / df['frequency'].sum(), 4))\n",
        "print('Theoretical variance with P = 0.5:',\n",
        "      round(X.stats('v').item(), 4))\n",
        "print('Theoretical variance with P = p:',\n",
        "      round(stats.binom(n=12, p=p).stats('v').item(), 4))"
      ],
      "execution_count": 13,
      "outputs": [
        {
          "output_type": "stream",
          "text": [
            "Observed variance: 2.9307\n",
            "Theoretical variance with P = 0.5: 3.0\n",
            "Theoretical variance with P = p: 2.9984\n"
          ],
          "name": "stdout"
        }
      ]
    },
    {
      "cell_type": "markdown",
      "metadata": {
        "id": "A5W9GZZ5Yv7l"
      },
      "source": [
        "(c) Fit a binomial distribution, (i) with $P=\\frac{1}{2}$, (ii) with $P=p$"
      ]
    },
    {
      "cell_type": "code",
      "metadata": {
        "colab": {
          "base_uri": "https://localhost:8080/",
          "height": 452
        },
        "id": "0WewAL55aSVQ",
        "outputId": "c4abd869-f215-4d2b-867b-154bcd041eac"
      },
      "source": [
        "# Relative frequencies under P = p\n",
        "df['expected_i'] = np.round(X.pmf(df['successes']) * 4096, 0)\n",
        "# Relative frequencies under P = mean\n",
        "X = stats.binom(n=12, p=p)\n",
        "df['expected_ii'] = np.round(X.pmf(df['successes']) * 4096, 0)\n",
        "# Print df\n",
        "df"
      ],
      "execution_count": 14,
      "outputs": [
        {
          "output_type": "execute_result",
          "data": {
            "text/html": [
              "<div>\n",
              "<style scoped>\n",
              "    .dataframe tbody tr th:only-of-type {\n",
              "        vertical-align: middle;\n",
              "    }\n",
              "\n",
              "    .dataframe tbody tr th {\n",
              "        vertical-align: top;\n",
              "    }\n",
              "\n",
              "    .dataframe thead th {\n",
              "        text-align: right;\n",
              "    }\n",
              "</style>\n",
              "<table border=\"1\" class=\"dataframe\">\n",
              "  <thead>\n",
              "    <tr style=\"text-align: right;\">\n",
              "      <th></th>\n",
              "      <th>successes</th>\n",
              "      <th>frequency</th>\n",
              "      <th>expected_i</th>\n",
              "      <th>expected_ii</th>\n",
              "    </tr>\n",
              "  </thead>\n",
              "  <tbody>\n",
              "    <tr>\n",
              "      <th>0</th>\n",
              "      <td>0</td>\n",
              "      <td>0</td>\n",
              "      <td>1.0</td>\n",
              "      <td>1.0</td>\n",
              "    </tr>\n",
              "    <tr>\n",
              "      <th>1</th>\n",
              "      <td>1</td>\n",
              "      <td>7</td>\n",
              "      <td>12.0</td>\n",
              "      <td>9.0</td>\n",
              "    </tr>\n",
              "    <tr>\n",
              "      <th>2</th>\n",
              "      <td>2</td>\n",
              "      <td>60</td>\n",
              "      <td>66.0</td>\n",
              "      <td>55.0</td>\n",
              "    </tr>\n",
              "    <tr>\n",
              "      <th>3</th>\n",
              "      <td>3</td>\n",
              "      <td>198</td>\n",
              "      <td>220.0</td>\n",
              "      <td>191.0</td>\n",
              "    </tr>\n",
              "    <tr>\n",
              "      <th>4</th>\n",
              "      <td>4</td>\n",
              "      <td>430</td>\n",
              "      <td>495.0</td>\n",
              "      <td>450.0</td>\n",
              "    </tr>\n",
              "    <tr>\n",
              "      <th>5</th>\n",
              "      <td>5</td>\n",
              "      <td>731</td>\n",
              "      <td>792.0</td>\n",
              "      <td>754.0</td>\n",
              "    </tr>\n",
              "    <tr>\n",
              "      <th>6</th>\n",
              "      <td>6</td>\n",
              "      <td>948</td>\n",
              "      <td>924.0</td>\n",
              "      <td>921.0</td>\n",
              "    </tr>\n",
              "    <tr>\n",
              "      <th>7</th>\n",
              "      <td>7</td>\n",
              "      <td>847</td>\n",
              "      <td>792.0</td>\n",
              "      <td>827.0</td>\n",
              "    </tr>\n",
              "    <tr>\n",
              "      <th>8</th>\n",
              "      <td>8</td>\n",
              "      <td>536</td>\n",
              "      <td>495.0</td>\n",
              "      <td>541.0</td>\n",
              "    </tr>\n",
              "    <tr>\n",
              "      <th>9</th>\n",
              "      <td>9</td>\n",
              "      <td>257</td>\n",
              "      <td>220.0</td>\n",
              "      <td>252.0</td>\n",
              "    </tr>\n",
              "    <tr>\n",
              "      <th>10</th>\n",
              "      <td>10</td>\n",
              "      <td>71</td>\n",
              "      <td>66.0</td>\n",
              "      <td>79.0</td>\n",
              "    </tr>\n",
              "    <tr>\n",
              "      <th>11</th>\n",
              "      <td>11</td>\n",
              "      <td>11</td>\n",
              "      <td>12.0</td>\n",
              "      <td>15.0</td>\n",
              "    </tr>\n",
              "    <tr>\n",
              "      <th>12</th>\n",
              "      <td>12</td>\n",
              "      <td>0</td>\n",
              "      <td>1.0</td>\n",
              "      <td>1.0</td>\n",
              "    </tr>\n",
              "  </tbody>\n",
              "</table>\n",
              "</div>"
            ],
            "text/plain": [
              "    successes  frequency  expected_i  expected_ii\n",
              "0           0          0         1.0          1.0\n",
              "1           1          7        12.0          9.0\n",
              "2           2         60        66.0         55.0\n",
              "3           3        198       220.0        191.0\n",
              "4           4        430       495.0        450.0\n",
              "5           5        731       792.0        754.0\n",
              "6           6        948       924.0        921.0\n",
              "7           7        847       792.0        827.0\n",
              "8           8        536       495.0        541.0\n",
              "9           9        257       220.0        252.0\n",
              "10         10         71        66.0         79.0\n",
              "11         11         11        12.0         15.0\n",
              "12         12          0         1.0          1.0"
            ]
          },
          "metadata": {
            "tags": []
          },
          "execution_count": 14
        }
      ]
    },
    {
      "cell_type": "markdown",
      "metadata": {
        "id": "S7ZHoONUYo0C"
      },
      "source": [
        "## Exercise 6.5\n",
        "\n"
      ]
    },
    {
      "cell_type": "markdown",
      "metadata": {
        "id": "1ulIrkGfyIi5"
      },
      "source": [
        "Evaluate the variance of the sex ratios in Table 1 on p. 3 (a) in the Regions of England, (b) in the rural districts of Dorset, and compare them with the theoretical variances of a proportion (a) with $n=100000$, (b) with $n=200$\n",
        "\n",
        "|  | In English region | In Dorset district |\n",
        "|--|-------------------|--------------------|\n",
        "|1 |.514|.38|\n",
        "|2 |.513|.47|\n",
        "|3 |.512|.53|\n",
        "|4 |.517|.50|\n",
        "|5 |.514|.59|\n",
        "|6 |.516|.44|\n",
        "|7 |.514|.54|\n",
        "|8 |.514|.53|\n",
        "|9 |.513|.54|\n",
        "|Total|.514|.512|"
      ]
    },
    {
      "cell_type": "code",
      "metadata": {
        "id": "n_sgXD5j12dw"
      },
      "source": [
        "df = pd.DataFrame({'Eng':[.514,.513,.512,.517,.514,.516,.514,.514,.513],\n",
        "                   'Dor':[.38,.47,.52,.5,.59,.44,.54,.53,.54]})"
      ],
      "execution_count": 15,
      "outputs": []
    },
    {
      "cell_type": "markdown",
      "metadata": {
        "id": "ooCYTe1u3i_Q"
      },
      "source": [
        "Observed and theoretical variance in England\n",
        "\n",
        "Note: This question is working with proportion of successes $\\frac{X}{n}$, so the variance is $\\frac{V(X)}{n^2}$\n"
      ]
    },
    {
      "cell_type": "code",
      "metadata": {
        "colab": {
          "base_uri": "https://localhost:8080/"
        },
        "id": "M2oNHRs03hWc",
        "outputId": "d780718f-73ca-43ee-a8b0-a272b04d845a"
      },
      "source": [
        "# Theoretical distribution\n",
        "X = stats.binom(n=100000, p=0.514)\n",
        "# Observed variance\n",
        "print('Observed variance:',\n",
        "      round((df['Eng'] - .514).pow(2).sum() / 9, 7))\n",
        "# Theoretical variance\n",
        "print('Theoretical variance:',\n",
        "      round(X.stats('v').item() / 100000**2, 7))"
      ],
      "execution_count": 16,
      "outputs": [
        {
          "output_type": "stream",
          "text": [
            "Observed variance: 2.1e-06\n",
            "Theoretical variance: 2.5e-06\n"
          ],
          "name": "stdout"
        }
      ]
    },
    {
      "cell_type": "markdown",
      "metadata": {
        "id": "leDT1cEe5yq3"
      },
      "source": [
        "Observed and theoretical variance in Dorset"
      ]
    },
    {
      "cell_type": "code",
      "metadata": {
        "colab": {
          "base_uri": "https://localhost:8080/"
        },
        "id": "9jwlIIdV5yq5",
        "outputId": "670caa89-580e-4be1-aa11-e0635e5e5d44"
      },
      "source": [
        "# Theoretical distribution\n",
        "X = stats.binom(n=200, p=0.514)\n",
        "# Observed variance\n",
        "print('Observed variance:',\n",
        "      round((df['Dor'] - .514).pow(2).sum() / 9, 5))\n",
        "# Theoretical variance\n",
        "print('Theoretical variance:',\n",
        "      round(X.stats('v').item() / 200**2, 5))"
      ],
      "execution_count": 17,
      "outputs": [
        {
          "output_type": "stream",
          "text": [
            "Observed variance: 0.00366\n",
            "Theoretical variance: 0.00125\n"
          ],
          "name": "stdout"
        }
      ]
    },
    {
      "cell_type": "markdown",
      "metadata": {
        "id": "5GqiBAKICcPP"
      },
      "source": [
        "## Exercise 6.6\n",
        "\n",
        "The following is one of the distributions of yeast cells observed by 'Student'. Fit a Poisson distribution to it.\n",
        "\n",
        "| Yeast cells | 0 | 1 | 2 | 3 | 4 | 5 | 6 | Total |\n",
        "|-------------|---|---|---|---|---|---|---|-------|\n",
        "| Observations |103|143|98|42|8|4|2|400|"
      ]
    },
    {
      "cell_type": "code",
      "metadata": {
        "colab": {
          "base_uri": "https://localhost:8080/",
          "height": 266
        },
        "id": "YfYJpclX5tyA",
        "outputId": "b422fb68-4a80-4e56-e359-416a752fc7ea"
      },
      "source": [
        "mean = (143 + 2 * 98 + 3 * 42 + 4 * 8 + 5 * 4 + 6 * 2) / 400\n",
        "X = stats.poisson(mu=mean)\n",
        "# Expected number of observations\n",
        "pd.DataFrame({'Yeast cells':range(7),\n",
        "              'Expected obs':(X.pmf(range(7)) * 400).round(0)})"
      ],
      "execution_count": 18,
      "outputs": [
        {
          "output_type": "execute_result",
          "data": {
            "text/html": [
              "<div>\n",
              "<style scoped>\n",
              "    .dataframe tbody tr th:only-of-type {\n",
              "        vertical-align: middle;\n",
              "    }\n",
              "\n",
              "    .dataframe tbody tr th {\n",
              "        vertical-align: top;\n",
              "    }\n",
              "\n",
              "    .dataframe thead th {\n",
              "        text-align: right;\n",
              "    }\n",
              "</style>\n",
              "<table border=\"1\" class=\"dataframe\">\n",
              "  <thead>\n",
              "    <tr style=\"text-align: right;\">\n",
              "      <th></th>\n",
              "      <th>Yeast cells</th>\n",
              "      <th>Expected obs</th>\n",
              "    </tr>\n",
              "  </thead>\n",
              "  <tbody>\n",
              "    <tr>\n",
              "      <th>0</th>\n",
              "      <td>0</td>\n",
              "      <td>107.0</td>\n",
              "    </tr>\n",
              "    <tr>\n",
              "      <th>1</th>\n",
              "      <td>1</td>\n",
              "      <td>141.0</td>\n",
              "    </tr>\n",
              "    <tr>\n",
              "      <th>2</th>\n",
              "      <td>2</td>\n",
              "      <td>93.0</td>\n",
              "    </tr>\n",
              "    <tr>\n",
              "      <th>3</th>\n",
              "      <td>3</td>\n",
              "      <td>41.0</td>\n",
              "    </tr>\n",
              "    <tr>\n",
              "      <th>4</th>\n",
              "      <td>4</td>\n",
              "      <td>14.0</td>\n",
              "    </tr>\n",
              "    <tr>\n",
              "      <th>5</th>\n",
              "      <td>5</td>\n",
              "      <td>4.0</td>\n",
              "    </tr>\n",
              "    <tr>\n",
              "      <th>6</th>\n",
              "      <td>6</td>\n",
              "      <td>1.0</td>\n",
              "    </tr>\n",
              "  </tbody>\n",
              "</table>\n",
              "</div>"
            ],
            "text/plain": [
              "   Yeast cells  Expected obs\n",
              "0            0         107.0\n",
              "1            1         141.0\n",
              "2            2          93.0\n",
              "3            3          41.0\n",
              "4            4          14.0\n",
              "5            5           4.0\n",
              "6            6           1.0"
            ]
          },
          "metadata": {
            "tags": []
          },
          "execution_count": 18
        }
      ]
    },
    {
      "cell_type": "markdown",
      "metadata": {
        "id": "j1I_W3huFPT1"
      },
      "source": [
        "## Exercise 6.7\n",
        "\n",
        "The frequency of twins in European populations is about 12 in every thousand maternities. What is the probability that there will be no twins in 200 births, (a) using the binomial distribution?"
      ]
    },
    {
      "cell_type": "code",
      "metadata": {
        "colab": {
          "base_uri": "https://localhost:8080/"
        },
        "id": "0ucOPCYbFtGN",
        "outputId": "b478710c-47e7-48e5-cbf3-c93ea605c4b9"
      },
      "source": [
        "X = stats.binom(n=200, p=0.012)\n",
        "round(X.pmf(0), 4)"
      ],
      "execution_count": 19,
      "outputs": [
        {
          "output_type": "execute_result",
          "data": {
            "text/plain": [
              "0.0894"
            ]
          },
          "metadata": {
            "tags": []
          },
          "execution_count": 19
        }
      ]
    },
    {
      "cell_type": "markdown",
      "metadata": {
        "id": "u5-h4zohFqyw"
      },
      "source": [
        "(b) using the Poisson approximation?"
      ]
    },
    {
      "cell_type": "code",
      "metadata": {
        "colab": {
          "base_uri": "https://localhost:8080/"
        },
        "id": "dN_FwGoGFNf2",
        "outputId": "c9f2e7c0-aa4c-46c0-a23d-32a30331eefe"
      },
      "source": [
        "X = stats.poisson(mu=0.012 * 200)\n",
        "round(X.pmf(0), 4)"
      ],
      "execution_count": 20,
      "outputs": [
        {
          "output_type": "execute_result",
          "data": {
            "text/plain": [
              "0.0907"
            ]
          },
          "metadata": {
            "tags": []
          },
          "execution_count": 20
        }
      ]
    },
    {
      "cell_type": "markdown",
      "metadata": {
        "id": "YIQnY_2QKe1s"
      },
      "source": [
        "## Exercise 6.8\n",
        "\n",
        "When a bacterial culture is attacked by a bacterial virus almost all the bacteria are killed but a few resistant bacteria survive. This resistance is hereditary, but it might be due either to random, spontaneous mutations occurring before the viral attack, or to mutations directly induced by this attack. In the latter case the number of resistant bacteria in different but similar cultures should follow the Poisson distribution, but in the former case the variance should be larger than the mean since the number of resistant bacteria will depend markedly on whether a mutation occurs early or late in the life of the culture. In a classical experiment Luria & Delbruck (1943) found the following numbers of resistant bacteria in ten samples from the same culture: 14, 15, 13, 21, 15, 14, 26, 16, 20, 13, while the found the following numbers in ten samples from different cultures grown in similar conditions: 6, 5, 10, 8, 24, 13, 165, 15, 6, 10. Compare the mean with the variance in the two sets of observaions. Comment."
      ]
    },
    {
      "cell_type": "code",
      "metadata": {
        "id": "jHYbfSfyFgI3"
      },
      "source": [
        "x = np.array([14, 15, 13, 21, 15, 14, 26, 16, 20, 13])\n",
        "y = np.array([6, 5, 10, 8, 24, 13, 165, 15, 6, 10])"
      ],
      "execution_count": 21,
      "outputs": []
    },
    {
      "cell_type": "code",
      "metadata": {
        "colab": {
          "base_uri": "https://localhost:8080/"
        },
        "id": "lVWyhDKPFi8w",
        "outputId": "1039484e-de70-48ba-9c9a-eeba61fc58aa"
      },
      "source": [
        "print('Average of sample one:', x.mean())\n",
        "print('Variance of sample one:', x.var())\n",
        "print('Average of sample two:', y.mean())\n",
        "print('Variance of sampe two:', y.var())"
      ],
      "execution_count": 22,
      "outputs": [
        {
          "output_type": "stream",
          "text": [
            "Average of sample one: 16.7\n",
            "Variance of sample one: 16.41\n",
            "Average of sample two: 26.2\n",
            "Variance of sampe two: 2169.1600000000003\n"
          ],
          "name": "stdout"
        }
      ]
    },
    {
      "cell_type": "markdown",
      "metadata": {
        "id": "GDHNepSxNAm0"
      },
      "source": [
        "The mean and variance of the first sample are roughly the same. This suggests the number of resistant bacteria follow a poisson distribution. It must be that this culture developed resistance to the virus as a consequence of the attack.\n",
        "\n",
        "The variance of the second sample is much greater than the observed mean. It must be that the resistance developed randomly."
      ]
    },
    {
      "cell_type": "markdown",
      "metadata": {
        "id": "k_1yGQQvN5Ew"
      },
      "source": [
        "## Exercise 6.9\n",
        "\n",
        "Calculate the mean and the standard deviation of the distribution in Table 16 on p. 99 and show that they are nearly equal.\n",
        "\n",
        "|Time interval|Observed frequency|\n",
        "|-------------|------------------|\n",
        "| 0-0.5       | 101              |\n",
        "| 0.5-1       | 98               |\n",
        "| 1-2         | 159              |\n",
        "| 2-3         | 114              |\n",
        "| 3-4         | 74               |\n",
        "| 4-5         | 48               |\n",
        "| 5-7         | 75               |\n",
        "| 7-10        | 59               |\n",
        "| 10-15       | 32               |\n",
        "| 15-20       | 4                |\n",
        "| 20-30       | 2                |\n",
        "| Over 30     | 0                |\n",
        "| Total       | 766              |"
      ]
    },
    {
      "cell_type": "code",
      "metadata": {
        "colab": {
          "base_uri": "https://localhost:8080/"
        },
        "id": "hZUjXsmXM9YC",
        "outputId": "2003be19-45bd-4ee7-889a-c65b380e8ba3"
      },
      "source": [
        "df = pd.DataFrame({'secs':[0.25,0.75,1.5,2.5,3.5,4.5,6,8.5,12.5,17.5,25],\n",
        "                   'obs':[101,98,159,114,74,48,75,59,32,4,2]})\n",
        "mean = (df['secs'] * df['obs']).sum() / 766\n",
        "var = ((df['secs'] - mean)**2 * df['obs']).sum() / 766\n",
        "print('Mean:', round(mean, 3))\n",
        "print('Sdev:', round(np.sqrt(var), 3))"
      ],
      "execution_count": 23,
      "outputs": [
        {
          "output_type": "stream",
          "text": [
            "Mean: 3.353\n",
            "Sdev: 3.396\n"
          ],
          "name": "stdout"
        }
      ]
    },
    {
      "cell_type": "markdown",
      "metadata": {
        "id": "PHSjPx_-UdpR"
      },
      "source": [
        "## Exercise 6.10\n",
        "\n",
        "If traffic passes a certain point at random at a rate of 2 vehicles a minute, what is the chance that an observer will see no vehicles in a period of 45 seconds?"
      ]
    },
    {
      "cell_type": "code",
      "metadata": {
        "colab": {
          "base_uri": "https://localhost:8080/"
        },
        "id": "w5YYJb8cUZn-",
        "outputId": "5bc7cc0d-1826-49bd-a919-3e5522ca5f58"
      },
      "source": [
        "X = stats.poisson(mu=2 * 0.75)\n",
        "round(X.pmf(0), 3)"
      ],
      "execution_count": 24,
      "outputs": [
        {
          "output_type": "execute_result",
          "data": {
            "text/plain": [
              "0.223"
            ]
          },
          "metadata": {
            "tags": []
          },
          "execution_count": 24
        }
      ]
    }
  ]
}
