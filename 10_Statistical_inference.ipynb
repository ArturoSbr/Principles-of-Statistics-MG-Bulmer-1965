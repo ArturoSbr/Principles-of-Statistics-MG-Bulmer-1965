{
  "nbformat": 4,
  "nbformat_minor": 0,
  "metadata": {
    "colab": {
      "name": "10_Statistical_inference.ipynb",
      "provenance": [],
      "collapsed_sections": [],
      "authorship_tag": "ABX9TyPi7XOeBoRz3HLBiL7N/vbL"
    },
    "kernelspec": {
      "name": "python3",
      "display_name": "Python 3"
    },
    "language_info": {
      "name": "python"
    }
  },
  "cells": [
    {
      "cell_type": "markdown",
      "metadata": {
        "id": "-fe1bP6uo_1s"
      },
      "source": [
        "# 10. Statistical Inference\n",
        "Answers to all exercises from Chapter 10 of M.G. Bulmer's Principle of Statistics (1965)\n",
        "\n",
        "---\n",
        "\n",
        "Set local env"
      ]
    },
    {
      "cell_type": "code",
      "metadata": {
        "id": "VWMq-qy9o_NB"
      },
      "source": [
        "import numpy as np\n",
        "import pandas as pd\n",
        "from scipy import stats"
      ],
      "execution_count": 1,
      "outputs": []
    },
    {
      "cell_type": "markdown",
      "metadata": {
        "id": "Yrr70OE7rdul"
      },
      "source": [
        "10.1 Use the data in Table 3 on p. 18 to find a 95 per cent confidence interval for the probability of throwing a six with the white die.\n",
        "\n",
        "*Solution*\n",
        "\n",
        "The question asks for the probability of throwing a six; not the probability of throwing 3,932 sixes. Hence, we have to make an inference on the observed ratio of sixes and will therefore resort to the normal approximation."
      ]
    },
    {
      "cell_type": "code",
      "metadata": {
        "id": "4QRbdPHmrdSN",
        "colab": {
          "base_uri": "https://localhost:8080/"
        },
        "outputId": "b6169623-5109-4801-95b9-57dc010bf425"
      },
      "source": [
        "# Number of observations\n",
        "n_obs = 20000\n",
        "\n",
        "# Observed proportion of successes\n",
        "p_obs = 3932 / n_obs\n",
        "\n",
        "# Observed standard deviation\n",
        "s_obs = np.sqrt((p_obs * (1 - p_obs)) / n_obs)\n",
        "\n",
        "# Declare normal RV\n",
        "X = stats.norm(loc=p_obs, scale=s_obs)\n",
        "\n",
        "# Calculate 95% CI (Note that `alpha` is the probability WITHIN the interval)\n",
        "X.interval(alpha=0.95)"
      ],
      "execution_count": 2,
      "outputs": [
        {
          "output_type": "execute_result",
          "data": {
            "text/plain": [
              "(0.19109204017782955, 0.20210795982217045)"
            ]
          },
          "metadata": {
            "tags": []
          },
          "execution_count": 2
        }
      ]
    },
    {
      "cell_type": "markdown",
      "metadata": {
        "id": "-5UViRd-rrZn"
      },
      "source": [
        "# Exercise 10.2\n",
        "Use the data in Table 2 on p.13 to find 95 percent confidence limits (a) for the stillbirth rate in males, (b) for the stillbirth rate in females, (c) for the sex difference in the stillbirth rate. [In (c), estimate the variance of $p_1 - p_2$ as $\\frac{p_1 q_1}{n_1} + \\frac{p_2 q_2}{n_2}$.]"
      ]
    },
    {
      "cell_type": "code",
      "metadata": {
        "id": "V86Ih7A5o-qi",
        "colab": {
          "base_uri": "https://localhost:8080/",
          "height": 111
        },
        "outputId": "4f86a80f-9252-4e87-8ed5-c532b6f0540f"
      },
      "source": [
        "df = pd.DataFrame({'liveborn':[359881,340454],'stillborn':[8609,7796]},\n",
        "                  index=['male','female'])\n",
        "df"
      ],
      "execution_count": 3,
      "outputs": [
        {
          "output_type": "execute_result",
          "data": {
            "text/html": [
              "<div>\n",
              "<style scoped>\n",
              "    .dataframe tbody tr th:only-of-type {\n",
              "        vertical-align: middle;\n",
              "    }\n",
              "\n",
              "    .dataframe tbody tr th {\n",
              "        vertical-align: top;\n",
              "    }\n",
              "\n",
              "    .dataframe thead th {\n",
              "        text-align: right;\n",
              "    }\n",
              "</style>\n",
              "<table border=\"1\" class=\"dataframe\">\n",
              "  <thead>\n",
              "    <tr style=\"text-align: right;\">\n",
              "      <th></th>\n",
              "      <th>liveborn</th>\n",
              "      <th>stillborn</th>\n",
              "    </tr>\n",
              "  </thead>\n",
              "  <tbody>\n",
              "    <tr>\n",
              "      <th>male</th>\n",
              "      <td>359881</td>\n",
              "      <td>8609</td>\n",
              "    </tr>\n",
              "    <tr>\n",
              "      <th>female</th>\n",
              "      <td>340454</td>\n",
              "      <td>7796</td>\n",
              "    </tr>\n",
              "  </tbody>\n",
              "</table>\n",
              "</div>"
            ],
            "text/plain": [
              "        liveborn  stillborn\n",
              "male      359881       8609\n",
              "female    340454       7796"
            ]
          },
          "metadata": {
            "tags": []
          },
          "execution_count": 3
        }
      ]
    },
    {
      "cell_type": "markdown",
      "metadata": {
        "id": "rAJro0uMfNLg"
      },
      "source": [
        "(a) The number of male stillbirths can be regarded as a sample from a binomial distribution and therefore, the stillbirth rate can be approximated by a normal distribution."
      ]
    },
    {
      "cell_type": "code",
      "metadata": {
        "colab": {
          "base_uri": "https://localhost:8080/"
        },
        "id": "MsZji0wTdlNQ",
        "outputId": "8d839fef-0eda-4e76-9311-1317d22205fa"
      },
      "source": [
        "# Number of males\n",
        "n_m = df.loc['male'].sum()\n",
        "\n",
        "# Probability of stillbirth given male\n",
        "p_sm = df.loc['male', 'stillborn'] / n_m\n",
        "\n",
        "# Observed standard deviation\n",
        "s_sm = np.sqrt((p_sm * (1 - p_sm)) / n_m)\n",
        "\n",
        "# Normal RV\n",
        "X = stats.norm(loc=p_sm, scale=s_sm)\n",
        "\n",
        "# Confidence interval\n",
        "X.interval(alpha=0.95)"
      ],
      "execution_count": 4,
      "outputs": [
        {
          "output_type": "execute_result",
          "data": {
            "text/plain": [
              "(0.022875199374866848, 0.023850627648932986)"
            ]
          },
          "metadata": {
            "tags": []
          },
          "execution_count": 4
        }
      ]
    },
    {
      "cell_type": "markdown",
      "metadata": {
        "id": "jGdNY0NJioOI"
      },
      "source": [
        "(b) Likewise, the number of female stillbirths can be regarded as a sample from a binomial distribution and therefore, the stillbirth rate can be approximated by a normal distribution."
      ]
    },
    {
      "cell_type": "code",
      "metadata": {
        "colab": {
          "base_uri": "https://localhost:8080/"
        },
        "id": "ucwPQWMbim3L",
        "outputId": "3200397f-45ed-4f4b-8720-71094856ee0c"
      },
      "source": [
        "# Number of females\n",
        "n_f = df.loc['female'].sum()\n",
        "\n",
        "# Probability of stillbirth given female\n",
        "p_sf = df.loc['female', 'stillborn'] / n_f\n",
        "\n",
        "# Observed standard deviation\n",
        "s_sf = np.sqrt((p_sf * (1 - p_sf)) / n_f)\n",
        "\n",
        "# Normal RV\n",
        "X = stats.norm(loc=p_sf, scale=s_sf)\n",
        "\n",
        "# Confidence interval\n",
        "X.interval(alpha=0.95)"
      ],
      "execution_count": 5,
      "outputs": [
        {
          "output_type": "execute_result",
          "data": {
            "text/plain": [
              "(0.02189488311385085, 0.022877550482703353)"
            ]
          },
          "metadata": {
            "tags": []
          },
          "execution_count": 5
        }
      ]
    },
    {
      "cell_type": "markdown",
      "metadata": {
        "id": "Xd1JgXzjk83h"
      },
      "source": [
        "(c) We define the random variable $p_1 - p_2$ to find the sex difference in stillbirth ratios."
      ]
    },
    {
      "cell_type": "code",
      "metadata": {
        "id": "d62WWTw8tswV"
      },
      "source": [
        ""
      ],
      "execution_count": null,
      "outputs": []
    },
    {
      "cell_type": "markdown",
      "metadata": {
        "id": "uo-jrg5AsMuq"
      },
      "source": [
        "10.3 Find a 95 per cent confidence interval for the mean of the distribution of litter size in rats given in Table 8 on p. 29. [Use the normal approximation. The observed mean and variance have been calculated on p. 46 and in Exercise 4.3 respectively.]"
      ]
    },
    {
      "cell_type": "code",
      "metadata": {
        "id": "eWMjqHkRscpl"
      },
      "source": [
        ""
      ],
      "execution_count": 5,
      "outputs": []
    }
  ]
}