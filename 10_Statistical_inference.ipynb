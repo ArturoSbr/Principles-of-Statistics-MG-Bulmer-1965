{
  "nbformat": 4,
  "nbformat_minor": 0,
  "metadata": {
    "colab": {
      "name": "10_Statistical_inference.ipynb",
      "provenance": [],
      "collapsed_sections": [],
      "authorship_tag": "ABX9TyMu1lfCR79DT4ryMOWoyeIJ"
    },
    "kernelspec": {
      "display_name": "Python 3",
      "name": "python3"
    },
    "language_info": {
      "name": "python"
    }
  },
  "cells": [
    {
      "cell_type": "markdown",
      "metadata": {
        "id": "-fe1bP6uo_1s"
      },
      "source": [
        "# 10. Statistical Inference\n",
        "Answers to all exercises from Chapter 10 of M.G. Bulmer's Principle of Statistics (1965)\n",
        "\n",
        "---\n",
        "\n",
        "Set local env"
      ]
    },
    {
      "cell_type": "code",
      "metadata": {
        "id": "VWMq-qy9o_NB"
      },
      "source": [
        "import numpy as np\n",
        "import pandas as pd\n",
        "from scipy import stats"
      ],
      "execution_count": 1,
      "outputs": []
    },
    {
      "cell_type": "markdown",
      "metadata": {
        "id": "Yrr70OE7rdul"
      },
      "source": [
        "# Exercise 10.1\n",
        "Use the data in Table 3 on p. 18 to find a 95 per cent confidence interval for the probability of throwing a six with the white die.\n",
        "\n",
        "*Solution*\n",
        "\n",
        "In 20,000 rolls, the die resulted in six 3,932 times. The question asks for the probability of throwing a six; not the probability of throwing 3,932 sixes. Hence, we have to make an inference on the observed ratio of sixes and will therefore resort to the normal approximation."
      ]
    },
    {
      "cell_type": "code",
      "metadata": {
        "colab": {
          "base_uri": "https://localhost:8080/"
        },
        "id": "4QRbdPHmrdSN",
        "outputId": "ed8717bc-f706-41bf-f360-c967d2975fcf"
      },
      "source": [
        "# Number of observations\n",
        "n_obs = 20000\n",
        "\n",
        "# Observed proportion of successes\n",
        "p_obs = 3932 / n_obs\n",
        "\n",
        "# Observed standard deviation\n",
        "s_obs = np.sqrt((p_obs * (1 - p_obs)) / n_obs)\n",
        "\n",
        "# Declare normal RV\n",
        "X = stats.norm(loc=p_obs, scale=s_obs)\n",
        "\n",
        "# Calculate 95% CI (Note that `alpha` is the probability WITHIN the interval)\n",
        "X.interval(alpha=0.95)"
      ],
      "execution_count": 2,
      "outputs": [
        {
          "output_type": "execute_result",
          "data": {
            "text/plain": [
              "(0.19109204017782955, 0.20210795982217045)"
            ]
          },
          "metadata": {
            "tags": []
          },
          "execution_count": 2
        }
      ]
    },
    {
      "cell_type": "markdown",
      "metadata": {
        "id": "-5UViRd-rrZn"
      },
      "source": [
        "# Exercise 10.2\n",
        "Use the data in Table 2 on p.13 to find 95 percent confidence limits (a) for the stillbirth rate in males, (b) for the stillbirth rate in females, (c) for the sex difference in the stillbirth rate. [In (c), estimate the variance of $p_1 - p_2$ as $\\frac{p_1 q_1}{n_1} + \\frac{p_2 q_2}{n_2}$.]"
      ]
    },
    {
      "cell_type": "code",
      "metadata": {
        "colab": {
          "base_uri": "https://localhost:8080/",
          "height": 111
        },
        "id": "V86Ih7A5o-qi",
        "outputId": "f8f8c1eb-effe-4fb8-8fd2-11423d968de7"
      },
      "source": [
        "df = pd.DataFrame({'liveborn':[359881,340454],'stillborn':[8609,7796]},\n",
        "                  index=['male','female'])\n",
        "df"
      ],
      "execution_count": 3,
      "outputs": [
        {
          "output_type": "execute_result",
          "data": {
            "text/html": [
              "<div>\n",
              "<style scoped>\n",
              "    .dataframe tbody tr th:only-of-type {\n",
              "        vertical-align: middle;\n",
              "    }\n",
              "\n",
              "    .dataframe tbody tr th {\n",
              "        vertical-align: top;\n",
              "    }\n",
              "\n",
              "    .dataframe thead th {\n",
              "        text-align: right;\n",
              "    }\n",
              "</style>\n",
              "<table border=\"1\" class=\"dataframe\">\n",
              "  <thead>\n",
              "    <tr style=\"text-align: right;\">\n",
              "      <th></th>\n",
              "      <th>liveborn</th>\n",
              "      <th>stillborn</th>\n",
              "    </tr>\n",
              "  </thead>\n",
              "  <tbody>\n",
              "    <tr>\n",
              "      <th>male</th>\n",
              "      <td>359881</td>\n",
              "      <td>8609</td>\n",
              "    </tr>\n",
              "    <tr>\n",
              "      <th>female</th>\n",
              "      <td>340454</td>\n",
              "      <td>7796</td>\n",
              "    </tr>\n",
              "  </tbody>\n",
              "</table>\n",
              "</div>"
            ],
            "text/plain": [
              "        liveborn  stillborn\n",
              "male      359881       8609\n",
              "female    340454       7796"
            ]
          },
          "metadata": {
            "tags": []
          },
          "execution_count": 3
        }
      ]
    },
    {
      "cell_type": "markdown",
      "metadata": {
        "id": "rAJro0uMfNLg"
      },
      "source": [
        "(a) The number of male stillbirths can be regarded as a sample from a binomial distribution and therefore, the stillbirth rate can be approximated by a normal distribution."
      ]
    },
    {
      "cell_type": "code",
      "metadata": {
        "colab": {
          "base_uri": "https://localhost:8080/"
        },
        "id": "MsZji0wTdlNQ",
        "outputId": "c93f15a3-a9b9-45ac-bb4f-ff36aab7e83d"
      },
      "source": [
        "# Number of males\n",
        "n_m = df.loc['male'].sum()\n",
        "\n",
        "# Probability of stillbirth given male\n",
        "p_sm = df.loc['male', 'stillborn'] / n_m\n",
        "\n",
        "# Observed standard deviation\n",
        "s_sm = np.sqrt((p_sm * (1 - p_sm)) / n_m)\n",
        "\n",
        "# Normal RV\n",
        "X = stats.norm(loc=p_sm, scale=s_sm)\n",
        "\n",
        "# Confidence interval\n",
        "X.interval(alpha=0.95)"
      ],
      "execution_count": 4,
      "outputs": [
        {
          "output_type": "execute_result",
          "data": {
            "text/plain": [
              "(0.022875199374866848, 0.023850627648932986)"
            ]
          },
          "metadata": {
            "tags": []
          },
          "execution_count": 4
        }
      ]
    },
    {
      "cell_type": "markdown",
      "metadata": {
        "id": "jGdNY0NJioOI"
      },
      "source": [
        "(b) Likewise, the number of female stillbirths can be regarded as a sample from a binomial distribution and therefore, the stillbirth rate can be approximated by a normal distribution."
      ]
    },
    {
      "cell_type": "code",
      "metadata": {
        "colab": {
          "base_uri": "https://localhost:8080/"
        },
        "id": "ucwPQWMbim3L",
        "outputId": "6a952935-4b5c-459c-c323-c098dcfe0900"
      },
      "source": [
        "# Number of females\n",
        "n_f = df.loc['female'].sum()\n",
        "\n",
        "# Probability of stillbirth given female\n",
        "p_sf = df.loc['female', 'stillborn'] / n_f\n",
        "\n",
        "# Observed standard deviation\n",
        "s_sf = np.sqrt((p_sf * (1 - p_sf)) / n_f)\n",
        "\n",
        "# Normal RV\n",
        "X = stats.norm(loc=p_sf, scale=s_sf)\n",
        "\n",
        "# Confidence interval\n",
        "X.interval(alpha=0.95)"
      ],
      "execution_count": 5,
      "outputs": [
        {
          "output_type": "execute_result",
          "data": {
            "text/plain": [
              "(0.02189488311385085, 0.022877550482703353)"
            ]
          },
          "metadata": {
            "tags": []
          },
          "execution_count": 5
        }
      ]
    },
    {
      "cell_type": "markdown",
      "metadata": {
        "id": "Xd1JgXzjk83h"
      },
      "source": [
        "(c) We define the random variable $p_1 - p_2$ to find the sex difference in stillbirth ratios."
      ]
    },
    {
      "cell_type": "code",
      "metadata": {
        "colab": {
          "base_uri": "https://localhost:8080/"
        },
        "id": "d62WWTw8tswV",
        "outputId": "52cb9e70-ab41-4d88-8c76-b225a1912671"
      },
      "source": [
        "# Subtract both ratios\n",
        "diff_p = p_sm - p_sf\n",
        "\n",
        "# Variance\n",
        "diff_v = ((p_sm * (1 - p_sm)) / n_m) + ((p_sf * (1 - p_sf)) / n_f)\n",
        "\n",
        "# Normal RV\n",
        "X = stats.norm(loc=diff_p, scale=np.sqrt(diff_v))\n",
        "\n",
        "# Confidence interval\n",
        "X.interval(alpha=0.95)"
      ],
      "execution_count": 6,
      "outputs": [
        {
          "output_type": "execute_result",
          "data": {
            "text/plain": [
              "(0.00028440062890632304, 0.0016689927983393094)"
            ]
          },
          "metadata": {
            "tags": []
          },
          "execution_count": 6
        }
      ]
    },
    {
      "cell_type": "markdown",
      "metadata": {
        "id": "uo-jrg5AsMuq"
      },
      "source": [
        "# Exercise 10.3\n",
        "Find a 95 per cent confidence interval for the mean of the distribution of litter size in rats given in Table 8 on p. 29. [Use the normal approximation. The observed mean and variance have been calculated on p. 46 and in Exercise 4.3 respectively.]"
      ]
    },
    {
      "cell_type": "code",
      "metadata": {
        "colab": {
          "base_uri": "https://localhost:8080/",
          "height": 421
        },
        "id": "eWMjqHkRscpl",
        "outputId": "481214b6-9526-431a-e10b-ef0d2de5fbfe"
      },
      "source": [
        "df = pd.DataFrame({'litter':range(1, 13), 'obs':[7,33,58,116,125,126,121,107,56,37,25,4]})\n",
        "df"
      ],
      "execution_count": 7,
      "outputs": [
        {
          "output_type": "execute_result",
          "data": {
            "text/html": [
              "<div>\n",
              "<style scoped>\n",
              "    .dataframe tbody tr th:only-of-type {\n",
              "        vertical-align: middle;\n",
              "    }\n",
              "\n",
              "    .dataframe tbody tr th {\n",
              "        vertical-align: top;\n",
              "    }\n",
              "\n",
              "    .dataframe thead th {\n",
              "        text-align: right;\n",
              "    }\n",
              "</style>\n",
              "<table border=\"1\" class=\"dataframe\">\n",
              "  <thead>\n",
              "    <tr style=\"text-align: right;\">\n",
              "      <th></th>\n",
              "      <th>litter</th>\n",
              "      <th>obs</th>\n",
              "    </tr>\n",
              "  </thead>\n",
              "  <tbody>\n",
              "    <tr>\n",
              "      <th>0</th>\n",
              "      <td>1</td>\n",
              "      <td>7</td>\n",
              "    </tr>\n",
              "    <tr>\n",
              "      <th>1</th>\n",
              "      <td>2</td>\n",
              "      <td>33</td>\n",
              "    </tr>\n",
              "    <tr>\n",
              "      <th>2</th>\n",
              "      <td>3</td>\n",
              "      <td>58</td>\n",
              "    </tr>\n",
              "    <tr>\n",
              "      <th>3</th>\n",
              "      <td>4</td>\n",
              "      <td>116</td>\n",
              "    </tr>\n",
              "    <tr>\n",
              "      <th>4</th>\n",
              "      <td>5</td>\n",
              "      <td>125</td>\n",
              "    </tr>\n",
              "    <tr>\n",
              "      <th>5</th>\n",
              "      <td>6</td>\n",
              "      <td>126</td>\n",
              "    </tr>\n",
              "    <tr>\n",
              "      <th>6</th>\n",
              "      <td>7</td>\n",
              "      <td>121</td>\n",
              "    </tr>\n",
              "    <tr>\n",
              "      <th>7</th>\n",
              "      <td>8</td>\n",
              "      <td>107</td>\n",
              "    </tr>\n",
              "    <tr>\n",
              "      <th>8</th>\n",
              "      <td>9</td>\n",
              "      <td>56</td>\n",
              "    </tr>\n",
              "    <tr>\n",
              "      <th>9</th>\n",
              "      <td>10</td>\n",
              "      <td>37</td>\n",
              "    </tr>\n",
              "    <tr>\n",
              "      <th>10</th>\n",
              "      <td>11</td>\n",
              "      <td>25</td>\n",
              "    </tr>\n",
              "    <tr>\n",
              "      <th>11</th>\n",
              "      <td>12</td>\n",
              "      <td>4</td>\n",
              "    </tr>\n",
              "  </tbody>\n",
              "</table>\n",
              "</div>"
            ],
            "text/plain": [
              "    litter  obs\n",
              "0        1    7\n",
              "1        2   33\n",
              "2        3   58\n",
              "3        4  116\n",
              "4        5  125\n",
              "5        6  126\n",
              "6        7  121\n",
              "7        8  107\n",
              "8        9   56\n",
              "9       10   37\n",
              "10      11   25\n",
              "11      12    4"
            ]
          },
          "metadata": {
            "tags": []
          },
          "execution_count": 7
        }
      ]
    },
    {
      "cell_type": "code",
      "metadata": {
        "colab": {
          "base_uri": "https://localhost:8080/"
        },
        "id": "rKzxAR64Xuwp",
        "outputId": "0fc8e95f-bc5a-41f1-a19e-986f055373fc"
      },
      "source": [
        "# Number of observations\n",
        "n = df['obs'].sum()\n",
        "\n",
        "# Mean\n",
        "m_obs = (df['litter'] * df['obs']).sum() / n\n",
        "\n",
        "# Variance\n",
        "v_obs = ((df['litter'] - m_obs).pow(2) * df['obs']).sum() / (n - 1)\n",
        "\n",
        "# Declare normal random variable (remember that the variance is s/n)\n",
        "X = stats.norm(loc=m_obs, scale=np.sqrt(v_obs / n))\n",
        "\n",
        "# Find confidence interval\n",
        "X.interval(alpha=0.95)"
      ],
      "execution_count": 8,
      "outputs": [
        {
          "output_type": "execute_result",
          "data": {
            "text/plain": [
              "(5.968922110102722, 6.281384638363536)"
            ]
          },
          "metadata": {
            "tags": []
          },
          "execution_count": 8
        }
      ]
    },
    {
      "cell_type": "markdown",
      "metadata": {
        "id": "_VHl5fpyfqK6"
      },
      "source": [
        "# Ecercise 10.4\n",
        "In a haemocytometer (see p.93) each square has sides of length 0.05 mm and thickness of 0.01 mm. Suppose that a suspension of cells is introduced into the haemocytometer and that counts over 20 squares give a mean value of 5.2 cells per square. Find a 95 per cent confidence interval for the number of cells per c.c. in the suspension. [Use the normal approximation and estimate the variance of the distribution of cell counts from its mean.]\n",
        "\n",
        "*Solution*\n",
        "\n",
        "In p.93, Student found that the distribution of the number of cells follows a Poisson distribution. Hence, the estimated variance should be roughly the same as the mean."
      ]
    },
    {
      "cell_type": "code",
      "metadata": {
        "colab": {
          "base_uri": "https://localhost:8080/"
        },
        "id": "GGV-6aBrfpYm",
        "outputId": "cb3f960a-a9e0-40d8-9810-570ab6642e18"
      },
      "source": [
        "# Mean and variance\n",
        "m_obs = 5.2\n",
        "v_obs = 10000000\n",
        "\n",
        "# Number of slides that fit in a mm3 times the number of mm3 that fit in one cm3\n",
        "factor = 40000 * 1000\n",
        "\n",
        "# Random variable\n",
        "X = stats.norm(loc=m_obs * factor, scale=np.sqrt(v_obs * factor))\n",
        "\n",
        "# Confidence interval\n",
        "X.interval(alpha=0.95)"
      ],
      "execution_count": 9,
      "outputs": [
        {
          "output_type": "execute_result",
          "data": {
            "text/plain": [
              "(168800720.30919892, 247199279.69080108)"
            ]
          },
          "metadata": {
            "tags": []
          },
          "execution_count": 9
        }
      ]
    },
    {
      "cell_type": "markdown",
      "metadata": {
        "id": "K2fEzTOU91AS"
      },
      "source": [
        "# Exercise 10.5\n",
        "Use the data in Table 19 on p.149 to find 95 per cent confidence intervals for the average number of hours of sleep gained by the use of (a) hyoscyamine, (b) hyoscine, and (c) for the superiority of the latter of the former drug.\n",
        "\n",
        "*Solution*\n",
        "\n",
        "Since $n=10$, we must use the $t$ distribution with $9$ degrees of freedom."
      ]
    },
    {
      "cell_type": "code",
      "metadata": {
        "colab": {
          "base_uri": "https://localhost:8080/",
          "height": 359
        },
        "id": "SCNHeH_IEELm",
        "outputId": "62f7fa72-6668-4502-cafe-951981f65b89"
      },
      "source": [
        "df = pd.DataFrame({'hyoscyamine':[.7,-1.6,-.2,-1.2,-.1,3.4,3.7,.8,0,2],\n",
        "                   'hyoscine':[1.9,.8,1.1,.1,-.1,4.4,5.5,1.6,4.6,3.4]})\n",
        "# Superiority of hyoscine over hyoscyamine\n",
        "df['difference'] = df['hyoscine'] - df['hyoscyamine']\n",
        "df"
      ],
      "execution_count": 10,
      "outputs": [
        {
          "output_type": "execute_result",
          "data": {
            "text/html": [
              "<div>\n",
              "<style scoped>\n",
              "    .dataframe tbody tr th:only-of-type {\n",
              "        vertical-align: middle;\n",
              "    }\n",
              "\n",
              "    .dataframe tbody tr th {\n",
              "        vertical-align: top;\n",
              "    }\n",
              "\n",
              "    .dataframe thead th {\n",
              "        text-align: right;\n",
              "    }\n",
              "</style>\n",
              "<table border=\"1\" class=\"dataframe\">\n",
              "  <thead>\n",
              "    <tr style=\"text-align: right;\">\n",
              "      <th></th>\n",
              "      <th>hyoscyamine</th>\n",
              "      <th>hyoscine</th>\n",
              "      <th>difference</th>\n",
              "    </tr>\n",
              "  </thead>\n",
              "  <tbody>\n",
              "    <tr>\n",
              "      <th>0</th>\n",
              "      <td>0.7</td>\n",
              "      <td>1.9</td>\n",
              "      <td>1.2</td>\n",
              "    </tr>\n",
              "    <tr>\n",
              "      <th>1</th>\n",
              "      <td>-1.6</td>\n",
              "      <td>0.8</td>\n",
              "      <td>2.4</td>\n",
              "    </tr>\n",
              "    <tr>\n",
              "      <th>2</th>\n",
              "      <td>-0.2</td>\n",
              "      <td>1.1</td>\n",
              "      <td>1.3</td>\n",
              "    </tr>\n",
              "    <tr>\n",
              "      <th>3</th>\n",
              "      <td>-1.2</td>\n",
              "      <td>0.1</td>\n",
              "      <td>1.3</td>\n",
              "    </tr>\n",
              "    <tr>\n",
              "      <th>4</th>\n",
              "      <td>-0.1</td>\n",
              "      <td>-0.1</td>\n",
              "      <td>0.0</td>\n",
              "    </tr>\n",
              "    <tr>\n",
              "      <th>5</th>\n",
              "      <td>3.4</td>\n",
              "      <td>4.4</td>\n",
              "      <td>1.0</td>\n",
              "    </tr>\n",
              "    <tr>\n",
              "      <th>6</th>\n",
              "      <td>3.7</td>\n",
              "      <td>5.5</td>\n",
              "      <td>1.8</td>\n",
              "    </tr>\n",
              "    <tr>\n",
              "      <th>7</th>\n",
              "      <td>0.8</td>\n",
              "      <td>1.6</td>\n",
              "      <td>0.8</td>\n",
              "    </tr>\n",
              "    <tr>\n",
              "      <th>8</th>\n",
              "      <td>0.0</td>\n",
              "      <td>4.6</td>\n",
              "      <td>4.6</td>\n",
              "    </tr>\n",
              "    <tr>\n",
              "      <th>9</th>\n",
              "      <td>2.0</td>\n",
              "      <td>3.4</td>\n",
              "      <td>1.4</td>\n",
              "    </tr>\n",
              "  </tbody>\n",
              "</table>\n",
              "</div>"
            ],
            "text/plain": [
              "   hyoscyamine  hyoscine  difference\n",
              "0          0.7       1.9         1.2\n",
              "1         -1.6       0.8         2.4\n",
              "2         -0.2       1.1         1.3\n",
              "3         -1.2       0.1         1.3\n",
              "4         -0.1      -0.1         0.0\n",
              "5          3.4       4.4         1.0\n",
              "6          3.7       5.5         1.8\n",
              "7          0.8       1.6         0.8\n",
              "8          0.0       4.6         4.6\n",
              "9          2.0       3.4         1.4"
            ]
          },
          "metadata": {
            "tags": []
          },
          "execution_count": 10
        }
      ]
    },
    {
      "cell_type": "markdown",
      "metadata": {
        "id": "QmE0plyCTzte"
      },
      "source": [
        "95% CI for hyoscyamine"
      ]
    },
    {
      "cell_type": "code",
      "metadata": {
        "colab": {
          "base_uri": "https://localhost:8080/"
        },
        "id": "nH3KoJQMFHkb",
        "outputId": "e1092d4c-f880-43a2-e67e-6364f6c1c081"
      },
      "source": [
        "# Observed mean\n",
        "m_obs = df['hyoscyamine'].mean()\n",
        "\n",
        "# Observed variace\n",
        "v_obs = df['hyoscyamine'].var(ddof=1) / 10\n",
        "\n",
        "# Distribution\n",
        "t = stats.t(df=9, loc=m_obs, scale=np.sqrt(v_obs))\n",
        "\n",
        "# Interval\n",
        "t.interval(alpha=0.95)"
      ],
      "execution_count": 11,
      "outputs": [
        {
          "output_type": "execute_result",
          "data": {
            "text/plain": [
              "(-0.5297804134938646, 2.0297804134938646)"
            ]
          },
          "metadata": {
            "tags": []
          },
          "execution_count": 11
        }
      ]
    },
    {
      "cell_type": "markdown",
      "metadata": {
        "id": "B3dc4mm0T5n3"
      },
      "source": [
        "95% CI for hyoscine"
      ]
    },
    {
      "cell_type": "code",
      "metadata": {
        "colab": {
          "base_uri": "https://localhost:8080/"
        },
        "id": "I4j3hg-KT5n4",
        "outputId": "f87ec237-3575-4fe5-bb21-0ab7dc586247"
      },
      "source": [
        "# Observed mean\n",
        "m_obs = df['hyoscine'].mean()\n",
        "\n",
        "# Observed variace\n",
        "v_obs = df['hyoscine'].var(ddof=1) / 10\n",
        "\n",
        "# Distribution\n",
        "t = stats.t(df=9, loc=m_obs, scale=np.sqrt(v_obs))\n",
        "\n",
        "# Interval\n",
        "t.interval(alpha=0.95)"
      ],
      "execution_count": 12,
      "outputs": [
        {
          "output_type": "execute_result",
          "data": {
            "text/plain": [
              "(0.897677539412931, 3.762322460587068)"
            ]
          },
          "metadata": {
            "tags": []
          },
          "execution_count": 12
        }
      ]
    },
    {
      "cell_type": "markdown",
      "metadata": {
        "id": "LKIFpqxyUdgL"
      },
      "source": [
        "95% CI for difference"
      ]
    },
    {
      "cell_type": "code",
      "metadata": {
        "colab": {
          "base_uri": "https://localhost:8080/"
        },
        "id": "up4_ogYYUdgM",
        "outputId": "572d575c-4e57-42e4-9269-676ad1ed5db1"
      },
      "source": [
        "# Observed mean\n",
        "m_obs = df['difference'].mean()\n",
        "\n",
        "# Observed variace\n",
        "v_obs = df['difference'].var(ddof=1) / 10\n",
        "\n",
        "# Distribution\n",
        "t = stats.t(df=9, loc=m_obs, scale=np.sqrt(v_obs))\n",
        "\n",
        "# Interval\n",
        "t.interval(alpha=0.95)"
      ],
      "execution_count": 13,
      "outputs": [
        {
          "output_type": "execute_result",
          "data": {
            "text/plain": [
              "(0.7001142367452712, 2.459885763254729)"
            ]
          },
          "metadata": {
            "tags": []
          },
          "execution_count": 13
        }
      ]
    },
    {
      "cell_type": "markdown",
      "metadata": {
        "id": "1zIhPcQ-i7IX"
      },
      "source": [
        "# Exercise 10.6\n",
        "Use the data in Table 19 on p. 149 to find the 95 per cent confidence intervals for the standard deviation of hours of sleep gained by the use of hyoscine.\n",
        "\n",
        "*Solution*\n",
        "\n",
        "The sample variance divided by the popylation variance follows a $\\chi^2$ distribution with $n - 1$ degrees of freedom.\n",
        "\n",
        "$\\text{Prob}(\\chi^2_0 \\leq \\frac{S^2}{\\sigma^2} \\leq \\chi^2_1) = 0.95$\n",
        "\n",
        "Hence $\\sigma^2 \\leq \\frac{S^2}{\\chi^2_0}$ and $\\sigma^2 \\geq \\frac{S^2}{\\chi^2_1}$\n",
        "\n",
        "Thus $\\frac{S^2}{\\chi^2_1} \\leq \\sigma^2 \\leq \\frac{S^2}{\\chi^2_0}$\n",
        "\n",
        "Thus $\\sqrt{\\frac{S^2}{\\chi^2_1}} \\leq \\sigma \\leq \\sqrt{\\frac{S^2}{\\chi^2_0}}$"
      ]
    },
    {
      "cell_type": "code",
      "metadata": {
        "colab": {
          "base_uri": "https://localhost:8080/"
        },
        "id": "nwIVAbYAh1cC",
        "outputId": "b6df3088-de6c-4655-d123-1c9f7dd80024"
      },
      "source": [
        "# Calculate S^2\n",
        "S2 = df['hyoscine'].var(ddof=1) * (n_obs - 1)\n",
        "\n",
        "# Declare distribution\n",
        "X = stats.chi2(df=n_obs - 1)\n",
        "\n",
        "# 95% CI\n",
        "c = X.interval(alpha=0.95)\n",
        "\n",
        "# CI\n",
        "(np.sqrt(S2 / c[1]), np.sqrt(S2 / c[0]))"
      ],
      "execution_count": 14,
      "outputs": [
        {
          "output_type": "execute_result",
          "data": {
            "text/plain": [
              "(1.982818452907266, 2.0220662908819307)"
            ]
          },
          "metadata": {
            "tags": []
          },
          "execution_count": 14
        }
      ]
    },
    {
      "cell_type": "markdown",
      "metadata": {
        "id": "H0sccjQwyQj_"
      },
      "source": [
        "# Exercise 10.7\n",
        "Use the data in Table 22 on p. 210 to find 95 per cent confidence intervals (a) for the increase in comb-growth in capons receiving 4 mg androsterone, (b) for the difference in comb-growth between capons receiving 4 mg and 8 mg."
      ]
    },
    {
      "cell_type": "code",
      "metadata": {
        "id": "WqADKy9tzgGH"
      },
      "source": [
        ""
      ],
      "execution_count": 14,
      "outputs": []
    }
  ]
}