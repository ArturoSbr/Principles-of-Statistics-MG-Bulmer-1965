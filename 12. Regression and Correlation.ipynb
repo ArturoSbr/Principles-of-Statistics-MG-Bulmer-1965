{
  "nbformat": 4,
  "nbformat_minor": 0,
  "metadata": {
    "colab": {
      "name": "12. Regression and Correlation",
      "provenance": [],
      "collapsed_sections": [],
      "authorship_tag": "ABX9TyOJIQpEDR+yMd7HrB6s/24T"
    },
    "kernelspec": {
      "display_name": "Python 3",
      "name": "python3"
    },
    "language_info": {
      "name": "python"
    }
  },
  "cells": [
    {
      "cell_type": "markdown",
      "metadata": {
        "id": "NJtYuQL2ety_"
      },
      "source": [
        "# 12. Regression and Correlation\n",
        "This notebook contains all the solutions to the twelfth chapter of Principles of Statistics (1965) by MG Bulmer\n",
        "\n",
        "---\n",
        "\n",
        "Set local environment"
      ]
    },
    {
      "cell_type": "code",
      "metadata": {
        "id": "rKy5A0vbelMG",
        "colab": {
          "base_uri": "https://localhost:8080/"
        },
        "outputId": "88545c45-b09b-4978-cc15-87548271d85c"
      },
      "source": [
        "import numpy as np\n",
        "import pandas as pd\n",
        "from scipy import stats\n",
        "import matplotlib.pyplot as plt\n",
        "\n",
        "from sklearn.metrics import mean_squared_error          # Function that calculates MSE\n",
        "from sklearn.linear_model import LinearRegression       # Model without statistical inference\n",
        "from statsmodels.regression.linear_model import OLS     # Model with statistical inference"
      ],
      "execution_count": 1,
      "outputs": [
        {
          "output_type": "stream",
          "text": [
            "/usr/local/lib/python3.7/dist-packages/statsmodels/tools/_testing.py:19: FutureWarning: pandas.util.testing is deprecated. Use the functions in the public API at pandas.testing instead.\n",
            "  import pandas.util.testing as tm\n"
          ],
          "name": "stderr"
        }
      ]
    },
    {
      "cell_type": "markdown",
      "metadata": {
        "id": "yl3AsyJHfiV8"
      },
      "source": [
        "# Exercise 12.1\n",
        "From the data in Table 22 on p. 210 calculate $\\sum x_i$, $\\sum y_i$, $\\sum x_i^2$, $\\sum y_i^2$ and $\\sum x_i y_i$ and hence find the equation of the best-fitting straight line. [In evaluating sums like $\\sum x_i$ it should be remembered that each dose level occurs five times] Reproduce Fig. 30 and plot this line on it."
      ]
    },
    {
      "cell_type": "code",
      "metadata": {
        "colab": {
          "base_uri": "https://localhost:8080/",
          "height": 204
        },
        "id": "y9suGbCTfe8c",
        "outputId": "706d0ab4-5c8d-45fe-c727-9223f654dc2b"
      },
      "source": [
        "df = pd.DataFrame({'half':[8,1,1,3,1],'one':[5,6,9,7,4], 'two':[13,7,12,10,11],\n",
        "                   'four':[17,14,14,19,13], 'eight':[17,17,20,18,15]})\n",
        "df"
      ],
      "execution_count": 2,
      "outputs": [
        {
          "output_type": "execute_result",
          "data": {
            "text/html": [
              "<div>\n",
              "<style scoped>\n",
              "    .dataframe tbody tr th:only-of-type {\n",
              "        vertical-align: middle;\n",
              "    }\n",
              "\n",
              "    .dataframe tbody tr th {\n",
              "        vertical-align: top;\n",
              "    }\n",
              "\n",
              "    .dataframe thead th {\n",
              "        text-align: right;\n",
              "    }\n",
              "</style>\n",
              "<table border=\"1\" class=\"dataframe\">\n",
              "  <thead>\n",
              "    <tr style=\"text-align: right;\">\n",
              "      <th></th>\n",
              "      <th>half</th>\n",
              "      <th>one</th>\n",
              "      <th>two</th>\n",
              "      <th>four</th>\n",
              "      <th>eight</th>\n",
              "    </tr>\n",
              "  </thead>\n",
              "  <tbody>\n",
              "    <tr>\n",
              "      <th>0</th>\n",
              "      <td>8</td>\n",
              "      <td>5</td>\n",
              "      <td>13</td>\n",
              "      <td>17</td>\n",
              "      <td>17</td>\n",
              "    </tr>\n",
              "    <tr>\n",
              "      <th>1</th>\n",
              "      <td>1</td>\n",
              "      <td>6</td>\n",
              "      <td>7</td>\n",
              "      <td>14</td>\n",
              "      <td>17</td>\n",
              "    </tr>\n",
              "    <tr>\n",
              "      <th>2</th>\n",
              "      <td>1</td>\n",
              "      <td>9</td>\n",
              "      <td>12</td>\n",
              "      <td>14</td>\n",
              "      <td>20</td>\n",
              "    </tr>\n",
              "    <tr>\n",
              "      <th>3</th>\n",
              "      <td>3</td>\n",
              "      <td>7</td>\n",
              "      <td>10</td>\n",
              "      <td>19</td>\n",
              "      <td>18</td>\n",
              "    </tr>\n",
              "    <tr>\n",
              "      <th>4</th>\n",
              "      <td>1</td>\n",
              "      <td>4</td>\n",
              "      <td>11</td>\n",
              "      <td>13</td>\n",
              "      <td>15</td>\n",
              "    </tr>\n",
              "  </tbody>\n",
              "</table>\n",
              "</div>"
            ],
            "text/plain": [
              "   half  one  two  four  eight\n",
              "0     8    5   13    17     17\n",
              "1     1    6    7    14     17\n",
              "2     1    9   12    14     20\n",
              "3     3    7   10    19     18\n",
              "4     1    4   11    13     15"
            ]
          },
          "metadata": {
            "tags": []
          },
          "execution_count": 2
        }
      ]
    },
    {
      "cell_type": "markdown",
      "metadata": {
        "id": "yVMqZqxGkYR9"
      },
      "source": [
        "This question is super interesting because the author does not tell the reader which independent variable to use. At the beginning of the chapter, Bulmer states that when $y$ is plotted against $\\log_2(x)$, there is an approximately linear relationship.\n",
        "\n",
        "For educational purposes, I will solve the problem twice:\n",
        "1. $E(Y|X) = \\alpha + \\beta X$\n",
        "2. $E(Y|X) = \\alpha + \\beta \\log{X}$\n",
        "\n",
        "As we will see, the first model has a really poor fit because $X$ and $Y$ do not linearly related. The second model, $\\log{X}$ and $Y$, will fit much better.\n",
        "\n",
        "Prior to solving though, it is much more convenient to reshape the data from its current for (`df`) to arrays.\n",
        "\n",
        "Recall that\n",
        "- $a = \\bar{y} - b\\bar{x}$\n",
        "- $b = \\frac{\\sum x_i y_i - n\\bar{x}\\bar{y}}{\\sum x_i^2 - n\\bar{x}}$\n",
        "\n",
        "### 12.1.1 $Y$ on $X$ (bad fit)"
      ]
    },
    {
      "cell_type": "code",
      "metadata": {
        "colab": {
          "base_uri": "https://localhost:8080/"
        },
        "id": "p9pg9mEnkXh3",
        "outputId": "a743b420-184c-4008-c587-a76baa4960e8"
      },
      "source": [
        "# Dependent variable as array\n",
        "y = df.values.reshape(1, -1)[0]\n",
        "\n",
        "# Independent variable as array\n",
        "X = np.tile([0.5, 1, 2, 4, 8], 5)\n",
        "\n",
        "# Sum of x_i\n",
        "print('Sum of x_i:', X.sum())\n",
        "\n",
        "# Sum of y_i\n",
        "print('Sum of y_i:', y.sum())\n",
        "\n",
        "# Sum of x_i^2\n",
        "print('Sum of x_i^2:', np.power(X, 2).sum())\n",
        "\n",
        "# Sum of y_i^2\n",
        "print('Sum of y_i^2:', np.power(y, 2).sum())\n",
        "\n",
        "# Sum of x_i^2 * y_i^2\n",
        "print('Sum of x_i^2 * y_i^2:', (np.power(X, 2) * np.power(y, 2)).sum())"
      ],
      "execution_count": 3,
      "outputs": [
        {
          "output_type": "stream",
          "text": [
            "Sum of x_i: 77.5\n",
            "Sum of y_i: 262\n",
            "Sum of x_i^2: 426.25\n",
            "Sum of y_i^2: 3604\n",
            "Sum of x_i^2 * y_i^2: 119662.0\n"
          ],
          "name": "stdout"
        }
      ]
    },
    {
      "cell_type": "code",
      "metadata": {
        "colab": {
          "base_uri": "https://localhost:8080/",
          "height": 313
        },
        "id": "3eTTWCyynqBc",
        "outputId": "b1433ccb-96ad-4004-e5ce-4775394ba1b6"
      },
      "source": [
        "# Calculate coefficients by hand\n",
        "n = len(X)\n",
        "b = ((X * y).sum() - (X.sum() * y.mean())) / (np.power(X, 2).sum() - n * X.mean()**2)\n",
        "a = y.mean() - b * X.mean()\n",
        "\n",
        "# Print results\n",
        "print('a =', round(a, 2), '\\nb=', round(b, 2))\n",
        "\n",
        "### Plot\n",
        "# Data points\n",
        "plt.scatter(X, y)\n",
        "# Estimated line\n",
        "plt.plot(X, a + b * X, color='C1', ls='--')\n",
        "# Styling\n",
        "plt.xlabel('Androsterone')\n",
        "plt.ylabel('Comb-growth')\n",
        "plt.xticks(ticks=[0.5,1,2,4,8])\n",
        "plt.show()"
      ],
      "execution_count": 4,
      "outputs": [
        {
          "output_type": "stream",
          "text": [
            "a = 4.88 \n",
            "b= 1.81\n"
          ],
          "name": "stdout"
        },
        {
          "output_type": "display_data",
          "data": {
            "image/png": "[encoded data removed]",
            "text/plain": [
              "<Figure size 432x288 with 1 Axes>"
            ]
          },
          "metadata": {
            "tags": [],
            "needs_background": "light"
          }
        }
      ]
    },
    {
      "cell_type": "markdown",
      "metadata": {
        "id": "KfVytgWe3Zaj"
      },
      "source": [
        "### 12.1.2 $Y$ on $\\log_2{X}$\n",
        "This time around, we will not calculate $a$ and $b$ by hand. We will use `sklearn`.\n",
        "\n",
        "Later though, when we have to make inferences about the estimates, we will use `statsmodels`.\n",
        "\n",
        "First, we have to transform $X$."
      ]
    },
    {
      "cell_type": "code",
      "metadata": {
        "colab": {
          "base_uri": "https://localhost:8080/",
          "height": 314
        },
        "id": "atxkExcarSu0",
        "outputId": "3975c0da-f8d8-4ad4-866a-48063b7a99a1"
      },
      "source": [
        "# log_2(X)\n",
        "X = np.log2(X)\n",
        "\n",
        "# Initialize linear model from sklearn\n",
        "lm = LinearRegression()\n",
        "\n",
        "# Fit model to data\n",
        "lm.fit(X.reshape(-1, 1), y)\n",
        "\n",
        "# Print results\n",
        "print('a =', round(lm.intercept_, 2), '\\nb=', round(lm.coef_[0], 2))\n",
        "\n",
        "### Plot\n",
        "# Data points\n",
        "plt.scatter(X, y)\n",
        "# Estimated line\n",
        "plt.plot(X, lm.predict(X.reshape(-1, 1)), color='C1')\n",
        "# Styling\n",
        "plt.xlabel('*log_2* Androsterone')\n",
        "plt.ylabel('Comb-growth')\n",
        "plt.xticks(ticks=np.log2([0.5,1,2,4,8]))\n",
        "plt.show()"
      ],
      "execution_count": 5,
      "outputs": [
        {
          "output_type": "stream",
          "text": [
            "a = 6.64 \n",
            "b= 3.84\n"
          ],
          "name": "stdout"
        },
        {
          "output_type": "display_data",
          "data": {
            "image/png": "[encoded data removed]",
            "text/plain": [
              "<Figure size 432x288 with 1 Axes>"
            ]
          },
          "metadata": {
            "tags": [],
            "needs_background": "light"
          }
        }
      ]
    },
    {
      "cell_type": "markdown",
      "metadata": {
        "id": "wMx_ttM740rs"
      },
      "source": [
        "In order to gain a sense of the benefit of transforming $X$ into $\\log_2{X}$, we calculate the mean squared error of both models."
      ]
    },
    {
      "cell_type": "code",
      "metadata": {
        "colab": {
          "base_uri": "https://localhost:8080/"
        },
        "id": "ZQcnC6HV5LTW",
        "outputId": "fae98b86-8036-4392-9911-ca958c8d94df"
      },
      "source": [
        "print('MSE of Y on X:\\n   ',\n",
        "      mean_squared_error(y, a + b * X))\n",
        "print('MSE of Y on log_2(X):\\n   ',\n",
        "      mean_squared_error(y, lm.predict(X.reshape(-1, 1))))"
      ],
      "execution_count": 6,
      "outputs": [
        {
          "output_type": "stream",
          "text": [
            "MSE of Y on X:\n",
            "    27.491669152503174\n",
            "MSE of Y on log_2(X):\n",
            "    4.838399999999999\n"
          ],
          "name": "stdout"
        }
      ]
    },
    {
      "cell_type": "markdown",
      "metadata": {
        "id": "ae6XaHw961bq"
      },
      "source": [
        "As predicted by the author, the transformed variable results in a much better fit because the relationship is now approximately linear.\n",
        "\n",
        "# Exercise 12.2\n",
        "Find the residual sum of squares in the above example (a) directly by squaring the deviations of the observed and predicted points, (b) from the formula on p.213.\n",
        "\n",
        "*Note:* I will use the second linear model since it has a much better fit to the data."
      ]
    },
    {
      "cell_type": "code",
      "metadata": {
        "colab": {
          "base_uri": "https://localhost:8080/"
        },
        "id": "xn2FQIpU6Nc-",
        "outputId": "c0d642cc-4acf-4ba4-95d8-8aabeef4f231"
      },
      "source": [
        "# MSE by a)\n",
        "print('MSE by a)',\n",
        "      np.power(y - lm.predict(X.reshape(-1, 1)), 2).sum())\n",
        "\n",
        "# MSE by b)\n",
        "print('MSE by b)',\n",
        "      np.power(y - y.mean(), 2).sum() - lm.coef_[0]**2 * np.power(X - X.mean(), 2).sum())"
      ],
      "execution_count": 7,
      "outputs": [
        {
          "output_type": "stream",
          "text": [
            "MSE by a) 120.95999999999998\n",
            "MSE by b) 120.96000000000026\n"
          ],
          "name": "stdout"
        }
      ]
    },
    {
      "cell_type": "markdown",
      "metadata": {
        "id": "0aZUrZkfxwof"
      },
      "source": [
        "# Exercise 12.3\n",
        "Find 95% confidence intervals for $\\alpha$ and $\\beta$ in the above example.\n",
        "\n",
        "*Solution*\n",
        "\n",
        "$a$ and $b$ follow the *t* distribution with $n - 2$ degrees of freedom. In order to build confidence intervals, we would have to calculate the corresponding statistics under $H_0$ and compare against the critical values of a standard *t* distribution.\n",
        "\n",
        "The statistics for $a$ and $b$ are:\n",
        "\n",
        "$T_a = \\frac{a - \\alpha_0}{\\sqrt{\\frac{\\sum e_i^2}{n - 2}(\\frac{1}{n} + \\frac{\\bar{x}^2}\n",
        "{\\sum (x_i - \\bar{x})^2})}}$\n",
        "\n",
        "$T_b = \\frac{b - \\beta_0}{\\sqrt{\\frac{\\frac{\\sum e_i^2}{n - 2}}{\\sum (x_i - \\bar{x})^2}}}$\n",
        "\n",
        "Calculating these statistics is tedious and there are statisticals packages that do this for us. We can run the regression of growth on dose using `statsmodels`:"
      ]
    },
    {
      "cell_type": "code",
      "metadata": {
        "colab": {
          "base_uri": "https://localhost:8080/"
        },
        "id": "d2U2h-ZSxSJj",
        "outputId": "17a8ea72-e721-4b4a-ed28-6b8142ae74cf"
      },
      "source": [
        "# In order to fit an intercept, statsmodels requires a column full of ones\n",
        "X = np.stack([np.ones(len(X)), X], axis=1)\n",
        "\n",
        "# Initialize and fit model (Note that statsmodels `fit` does not replace the object like sklearn)\n",
        "lm = OLS(endog=y, exog=X)\n",
        "lm = lm.fit()\n",
        "\n",
        "# Print summary table\n",
        "print(lm.summary())"
      ],
      "execution_count": 8,
      "outputs": [
        {
          "output_type": "stream",
          "text": [
            "                            OLS Regression Results                            \n",
            "==============================================================================\n",
            "Dep. Variable:                      y   R-squared:                       0.859\n",
            "Model:                            OLS   Adj. R-squared:                  0.853\n",
            "Method:                 Least Squares   F-statistic:                     140.2\n",
            "Date:                Tue, 04 May 2021   Prob (F-statistic):           2.89e-11\n",
            "Time:                        00:57:03   Log-Likelihood:                -55.181\n",
            "No. Observations:                  25   AIC:                             114.4\n",
            "Df Residuals:                      23   BIC:                             116.8\n",
            "Df Model:                           1                                         \n",
            "Covariance Type:            nonrobust                                         \n",
            "==============================================================================\n",
            "                 coef    std err          t      P>|t|      [0.025      0.975]\n",
            "------------------------------------------------------------------------------\n",
            "const          6.6400      0.562     11.820      0.000       5.478       7.802\n",
            "x1             3.8400      0.324     11.840      0.000       3.169       4.511\n",
            "==============================================================================\n",
            "Omnibus:                        2.679   Durbin-Watson:                   1.649\n",
            "Prob(Omnibus):                  0.262   Jarque-Bera (JB):                1.953\n",
            "Skew:                           0.682   Prob(JB):                        0.377\n",
            "Kurtosis:                       2.890   Cond. No.                         2.41\n",
            "==============================================================================\n",
            "\n",
            "Warnings:\n",
            "[1] Standard Errors assume that the covariance matrix of the errors is correctly specified.\n"
          ],
          "name": "stdout"
        }
      ]
    },
    {
      "cell_type": "markdown",
      "metadata": {
        "id": "D202KJN3FDv1"
      },
      "source": [
        "The confidence interval for $\\alpha$ is $[5.478, 7.802]$\n",
        "\n",
        "The confidence interval for $\\beta$ is $[3.169, 4.511]$\n",
        "\n",
        "# Exercise 12.4\n",
        "Find the regressions of head breadth on head length and of head length for the data in Table 10 on p. 40 (see Exercises 4.6, 4.7 and 5.5). Find also the mean head breadth for fixed head lengths and vice versa and hence reconstruct Fig 23.\n",
        "\n",
        "- Head breadth, $B$, is at the top of the table.\n",
        "- Head length, $L$, is at the left hand side of the table."
      ]
    },
    {
      "cell_type": "code",
      "metadata": {
        "colab": {
          "base_uri": "https://localhost:8080/",
          "height": 390
        },
        "id": "_d6Cm_xNFCqg",
        "outputId": "2d49f331-d5f2-4ce6-9407-b071eb8ce1de"
      },
      "source": [
        "df = pd.DataFrame({'13.25':[0,0,0,1,0,0,0,0,0,0,0],\n",
        "                   '13.75':[0,0,5,8,6,5,10,1,2,0,0],\n",
        "                   '14.25':[0,1,4,17,55,108,72,28,4,1,1],\n",
        "                   '14.75':[0,0,4,15,119,264,360,174,31,4,0],\n",
        "                   '15.25':[1,1,1,11,74,234,400,239,86,17,0],\n",
        "                   '15.75':[0,0,0,2,14,75,156,160,100,17,1],\n",
        "                   '16.25':[0,0,0,0,1,6,26,36,24,5,0],\n",
        "                   '16.75':[0,0,0,0,0,1,2,7,2,0,1]},\n",
        "                  index=np.arange(16.25, 21.5, .5).astype(str))\n",
        "df"
      ],
      "execution_count": 9,
      "outputs": [
        {
          "output_type": "execute_result",
          "data": {
            "text/html": [
              "<div>\n",
              "<style scoped>\n",
              "    .dataframe tbody tr th:only-of-type {\n",
              "        vertical-align: middle;\n",
              "    }\n",
              "\n",
              "    .dataframe tbody tr th {\n",
              "        vertical-align: top;\n",
              "    }\n",
              "\n",
              "    .dataframe thead th {\n",
              "        text-align: right;\n",
              "    }\n",
              "</style>\n",
              "<table border=\"1\" class=\"dataframe\">\n",
              "  <thead>\n",
              "    <tr style=\"text-align: right;\">\n",
              "      <th></th>\n",
              "      <th>13.25</th>\n",
              "      <th>13.75</th>\n",
              "      <th>14.25</th>\n",
              "      <th>14.75</th>\n",
              "      <th>15.25</th>\n",
              "      <th>15.75</th>\n",
              "      <th>16.25</th>\n",
              "      <th>16.75</th>\n",
              "    </tr>\n",
              "  </thead>\n",
              "  <tbody>\n",
              "    <tr>\n",
              "      <th>16.25</th>\n",
              "      <td>0</td>\n",
              "      <td>0</td>\n",
              "      <td>0</td>\n",
              "      <td>0</td>\n",
              "      <td>1</td>\n",
              "      <td>0</td>\n",
              "      <td>0</td>\n",
              "      <td>0</td>\n",
              "    </tr>\n",
              "    <tr>\n",
              "      <th>16.75</th>\n",
              "      <td>0</td>\n",
              "      <td>0</td>\n",
              "      <td>1</td>\n",
              "      <td>0</td>\n",
              "      <td>1</td>\n",
              "      <td>0</td>\n",
              "      <td>0</td>\n",
              "      <td>0</td>\n",
              "    </tr>\n",
              "    <tr>\n",
              "      <th>17.25</th>\n",
              "      <td>0</td>\n",
              "      <td>5</td>\n",
              "      <td>4</td>\n",
              "      <td>4</td>\n",
              "      <td>1</td>\n",
              "      <td>0</td>\n",
              "      <td>0</td>\n",
              "      <td>0</td>\n",
              "    </tr>\n",
              "    <tr>\n",
              "      <th>17.75</th>\n",
              "      <td>1</td>\n",
              "      <td>8</td>\n",
              "      <td>17</td>\n",
              "      <td>15</td>\n",
              "      <td>11</td>\n",
              "      <td>2</td>\n",
              "      <td>0</td>\n",
              "      <td>0</td>\n",
              "    </tr>\n",
              "    <tr>\n",
              "      <th>18.25</th>\n",
              "      <td>0</td>\n",
              "      <td>6</td>\n",
              "      <td>55</td>\n",
              "      <td>119</td>\n",
              "      <td>74</td>\n",
              "      <td>14</td>\n",
              "      <td>1</td>\n",
              "      <td>0</td>\n",
              "    </tr>\n",
              "    <tr>\n",
              "      <th>18.75</th>\n",
              "      <td>0</td>\n",
              "      <td>5</td>\n",
              "      <td>108</td>\n",
              "      <td>264</td>\n",
              "      <td>234</td>\n",
              "      <td>75</td>\n",
              "      <td>6</td>\n",
              "      <td>1</td>\n",
              "    </tr>\n",
              "    <tr>\n",
              "      <th>19.25</th>\n",
              "      <td>0</td>\n",
              "      <td>10</td>\n",
              "      <td>72</td>\n",
              "      <td>360</td>\n",
              "      <td>400</td>\n",
              "      <td>156</td>\n",
              "      <td>26</td>\n",
              "      <td>2</td>\n",
              "    </tr>\n",
              "    <tr>\n",
              "      <th>19.75</th>\n",
              "      <td>0</td>\n",
              "      <td>1</td>\n",
              "      <td>28</td>\n",
              "      <td>174</td>\n",
              "      <td>239</td>\n",
              "      <td>160</td>\n",
              "      <td>36</td>\n",
              "      <td>7</td>\n",
              "    </tr>\n",
              "    <tr>\n",
              "      <th>20.25</th>\n",
              "      <td>0</td>\n",
              "      <td>2</td>\n",
              "      <td>4</td>\n",
              "      <td>31</td>\n",
              "      <td>86</td>\n",
              "      <td>100</td>\n",
              "      <td>24</td>\n",
              "      <td>2</td>\n",
              "    </tr>\n",
              "    <tr>\n",
              "      <th>20.75</th>\n",
              "      <td>0</td>\n",
              "      <td>0</td>\n",
              "      <td>1</td>\n",
              "      <td>4</td>\n",
              "      <td>17</td>\n",
              "      <td>17</td>\n",
              "      <td>5</td>\n",
              "      <td>0</td>\n",
              "    </tr>\n",
              "    <tr>\n",
              "      <th>21.25</th>\n",
              "      <td>0</td>\n",
              "      <td>0</td>\n",
              "      <td>1</td>\n",
              "      <td>0</td>\n",
              "      <td>0</td>\n",
              "      <td>1</td>\n",
              "      <td>0</td>\n",
              "      <td>1</td>\n",
              "    </tr>\n",
              "  </tbody>\n",
              "</table>\n",
              "</div>"
            ],
            "text/plain": [
              "       13.25  13.75  14.25  14.75  15.25  15.75  16.25  16.75\n",
              "16.25      0      0      0      0      1      0      0      0\n",
              "16.75      0      0      1      0      1      0      0      0\n",
              "17.25      0      5      4      4      1      0      0      0\n",
              "17.75      1      8     17     15     11      2      0      0\n",
              "18.25      0      6     55    119     74     14      1      0\n",
              "18.75      0      5    108    264    234     75      6      1\n",
              "19.25      0     10     72    360    400    156     26      2\n",
              "19.75      0      1     28    174    239    160     36      7\n",
              "20.25      0      2      4     31     86    100     24      2\n",
              "20.75      0      0      1      4     17     17      5      0\n",
              "21.25      0      0      1      0      0      1      0      1"
            ]
          },
          "metadata": {
            "tags": []
          },
          "execution_count": 9
        }
      ]
    },
    {
      "cell_type": "markdown",
      "metadata": {
        "id": "UFZLGFVGkyNb"
      },
      "source": [
        "The data is given in grouped frequency form. That is, for every category $(\\text{breadth}, \\text{length})$, we are given the number of observations in that group. Hence, operators such as $\\sum x_i y_i$ cannot be computed in this form.\n",
        "\n",
        "We must therefore convert the data into individual observations to form two vectors of size 3000 each:\n",
        "- $b$: One observed head breadth per recorded criminal\n",
        "- $l$: One observed head length per recorded criminal"
      ]
    },
    {
      "cell_type": "code",
      "metadata": {
        "id": "PGtBHV6tUckr"
      },
      "source": [
        "# Empty arrays of head breadths and head lengths\n",
        "b, l = np.array([]), np.array([])\n",
        "\n",
        "# Repeat each observation according to its frequency\n",
        "for nrow in range(df.shape[0]):\n",
        "    for ncol in range(df.shape[1]):\n",
        "        # Head breadth\n",
        "        breadth = float(df.columns[ncol])\n",
        "        # Head length\n",
        "        length = float(df.index[nrow])\n",
        "        # Frequency\n",
        "        freq = df.iloc[nrow, ncol]\n",
        "        # Append individual observations\n",
        "        if freq > 0:\n",
        "            b = np.concatenate([b, np.repeat(breadth, repeats=freq)])\n",
        "            l = np.concatenate([l, np.repeat(length, repeats=freq)])"
      ],
      "execution_count": 10,
      "outputs": []
    },
    {
      "cell_type": "markdown",
      "metadata": {
        "id": "fO5qr2Rulk6e"
      },
      "source": [
        "Run regressions:\n",
        "1. $lm_1$: The regression of head breadth on head length\n",
        "2. $lm_2$: The regression of head length on head breadth"
      ]
    },
    {
      "cell_type": "code",
      "metadata": {
        "colab": {
          "base_uri": "https://localhost:8080/"
        },
        "id": "n9nmLRZTfxCg",
        "outputId": "b6f5f83a-8548-44df-d6e8-969d522f67cf"
      },
      "source": [
        "# Head breadth on head length\n",
        "lm1 = LinearRegression().fit(l.reshape(-1, 1), b)\n",
        "print('Head breadth on length:\\n    a =', lm1.intercept_, '\\n    b =', lm1.coef_.item(), '\\n')\n",
        "\n",
        "# Head length on head breadth\n",
        "lm2 = LinearRegression().fit(b.reshape(-1, 1), l)\n",
        "print('Head length on breadth:\\n    a =', lm2.intercept_, '\\n    b =', lm2.coef_.item(), '\\n')"
      ],
      "execution_count": 11,
      "outputs": [
        {
          "output_type": "stream",
          "text": [
            "Head breadth on length:\n",
            "    a = 9.02892433251265 \n",
            "    b = 0.3157979744101221 \n",
            "\n",
            "Head length on breadth:\n",
            "    a = 12.399420486239014 \n",
            "    b = 0.4517559727411461 \n",
            "\n"
          ],
          "name": "stdout"
        }
      ]
    },
    {
      "cell_type": "markdown",
      "metadata": {
        "id": "LmNOSn15lwnH"
      },
      "source": [
        "Let's turn `df`, which is given as frequencies per group, into a `pandas.DataFrame` object with individual observations per row. That way, we can get the average of head breadth grouped by head length and vice versa."
      ]
    },
    {
      "cell_type": "code",
      "metadata": {
        "colab": {
          "base_uri": "https://localhost:8080/",
          "height": 204
        },
        "id": "yuIVLzTrsZhZ",
        "outputId": "a1fd4d09-c35c-41dd-9260-de6e640ecb67"
      },
      "source": [
        "df = pd.DataFrame(np.stack([b, l], axis=1), columns=['breadth','length'])\n",
        "df.head()"
      ],
      "execution_count": 12,
      "outputs": [
        {
          "output_type": "execute_result",
          "data": {
            "text/html": [
              "<div>\n",
              "<style scoped>\n",
              "    .dataframe tbody tr th:only-of-type {\n",
              "        vertical-align: middle;\n",
              "    }\n",
              "\n",
              "    .dataframe tbody tr th {\n",
              "        vertical-align: top;\n",
              "    }\n",
              "\n",
              "    .dataframe thead th {\n",
              "        text-align: right;\n",
              "    }\n",
              "</style>\n",
              "<table border=\"1\" class=\"dataframe\">\n",
              "  <thead>\n",
              "    <tr style=\"text-align: right;\">\n",
              "      <th></th>\n",
              "      <th>breadth</th>\n",
              "      <th>length</th>\n",
              "    </tr>\n",
              "  </thead>\n",
              "  <tbody>\n",
              "    <tr>\n",
              "      <th>0</th>\n",
              "      <td>15.25</td>\n",
              "      <td>16.25</td>\n",
              "    </tr>\n",
              "    <tr>\n",
              "      <th>1</th>\n",
              "      <td>14.25</td>\n",
              "      <td>16.75</td>\n",
              "    </tr>\n",
              "    <tr>\n",
              "      <th>2</th>\n",
              "      <td>15.25</td>\n",
              "      <td>16.75</td>\n",
              "    </tr>\n",
              "    <tr>\n",
              "      <th>3</th>\n",
              "      <td>13.75</td>\n",
              "      <td>17.25</td>\n",
              "    </tr>\n",
              "    <tr>\n",
              "      <th>4</th>\n",
              "      <td>13.75</td>\n",
              "      <td>17.25</td>\n",
              "    </tr>\n",
              "  </tbody>\n",
              "</table>\n",
              "</div>"
            ],
            "text/plain": [
              "   breadth  length\n",
              "0    15.25   16.25\n",
              "1    14.25   16.75\n",
              "2    15.25   16.75\n",
              "3    13.75   17.25\n",
              "4    13.75   17.25"
            ]
          },
          "metadata": {
            "tags": []
          },
          "execution_count": 12
        }
      ]
    },
    {
      "cell_type": "code",
      "metadata": {
        "id": "KOPHqVz5l2t1"
      },
      "source": [
        "# Average head breadth for fixed head lengths\n",
        "cond_b = df.groupby('length')['breadth'].mean()\n",
        "\n",
        "# Average head length for fixed head breadths\n",
        "cond_l = df.groupby('breadth')['length'].mean()"
      ],
      "execution_count": 13,
      "outputs": []
    },
    {
      "cell_type": "markdown",
      "metadata": {
        "id": "ImxwpQv_l4GK"
      },
      "source": [
        "Plot"
      ]
    },
    {
      "cell_type": "code",
      "metadata": {
        "colab": {
          "base_uri": "https://localhost:8080/",
          "height": 279
        },
        "id": "X3_TvwBMiK2g",
        "outputId": "26accae5-ed2d-4423-d728-fc411cdd7658"
      },
      "source": [
        "# Head breadth on head length\n",
        "plt.plot(l, lm1.intercept_ + lm1.coef_.item() * l, color='C1',\n",
        "         label='Breadth on length')\n",
        "# Head length on head breadth\n",
        "plt.plot(lm2.intercept_ + lm2.coef_.item() * b, b, color='C2',\n",
        "         label='Length on breadth')\n",
        "# Conditional head breadth\n",
        "plt.scatter(cond_b.index, cond_b.values, color='red', marker='x',\n",
        "            label='Conditional mean of head breadth')\n",
        "# Conditional head length\n",
        "plt.scatter(cond_l.values, cond_l.index, color='green', marker='o',\n",
        "            label='Conditional mean of head length')\n",
        "# Styling\n",
        "plt.xlim(16.5, 21)\n",
        "plt.xlabel('Head length')\n",
        "plt.ylabel('Head breadth')\n",
        "plt.legend()\n",
        "plt.show()"
      ],
      "execution_count": 14,
      "outputs": [
        {
          "output_type": "display_data",
          "data": {
            "image/png": "[encoded data removed]",
            "text/plain": [
              "<Figure size 432x288 with 1 Axes>"
            ]
          },
          "metadata": {
            "tags": [],
            "needs_background": "light"
          }
        }
      ]
    },
    {
      "cell_type": "markdown",
      "metadata": {
        "id": "PmjuONWVvh8F"
      },
      "source": [
        "# Ecercise 12.5\n",
        "Find a 95 per cent confidence interval for the correlation between head breadth and head length (see Exercise 5.5).\n",
        "\n",
        "*Solution*\n",
        "\n",
        "If $X$ and $Y$ a re independent normal random variables. Under these circumstances, $\\frac{r\\sqrt{n-2}}{\\sqrt{1 - r^2}}$ will follow the $t$ distribution with $n - 2$ degrees of freedom."
      ]
    },
    {
      "cell_type": "code",
      "metadata": {
        "colab": {
          "base_uri": "https://localhost:8080/"
        },
        "id": "J2aAAQ-JwHaH",
        "outputId": "d358f79d-a5cb-4b96-df0e-3d292d4d2558"
      },
      "source": [
        "# Calculate correlation coefficient and p value\n",
        "r, p = stats.pearsonr(b, l)\n",
        "\n",
        "# Calculate statistic\n",
        "r * np.sqrt((len(b) - 2) / (1 - r**2))"
      ],
      "execution_count": 15,
      "outputs": [
        {
          "output_type": "execute_result",
          "data": {
            "text/plain": [
              "22.33555815207472"
            ]
          },
          "metadata": {
            "tags": []
          },
          "execution_count": 15
        }
      ]
    },
    {
      "cell_type": "markdown",
      "metadata": {
        "id": "6-Yt2gk70w2d"
      },
      "source": [
        "# Exercise 12.6\n",
        "Use the data in Table 19 on p. 149 to find the correlation between the hours of sleep gained by the use of hyosciamine and hyoscine. Test whether this correlation is statistically different from zero. Would you expect these variables to be correlated?"
      ]
    },
    {
      "cell_type": "code",
      "metadata": {
        "colab": {
          "base_uri": "https://localhost:8080/",
          "height": 359
        },
        "id": "vRhT2emw1SJb",
        "outputId": "a6236dc5-e967-4a81-9762-ef01badf73a1"
      },
      "source": [
        "df = pd.DataFrame({'hyoscyamine':[0.7,-1.6,-0.2,-1.2,-0.1,3.4,3.7,0.8,0,2],\n",
        "                   'hyoscine':[1.9,0.8,1.1,0.1,-0.1,4.4,5.5,1.6,4.6,3.4]})\n",
        "df"
      ],
      "execution_count": 16,
      "outputs": [
        {
          "output_type": "execute_result",
          "data": {
            "text/html": [
              "<div>\n",
              "<style scoped>\n",
              "    .dataframe tbody tr th:only-of-type {\n",
              "        vertical-align: middle;\n",
              "    }\n",
              "\n",
              "    .dataframe tbody tr th {\n",
              "        vertical-align: top;\n",
              "    }\n",
              "\n",
              "    .dataframe thead th {\n",
              "        text-align: right;\n",
              "    }\n",
              "</style>\n",
              "<table border=\"1\" class=\"dataframe\">\n",
              "  <thead>\n",
              "    <tr style=\"text-align: right;\">\n",
              "      <th></th>\n",
              "      <th>hyoscyamine</th>\n",
              "      <th>hyoscine</th>\n",
              "    </tr>\n",
              "  </thead>\n",
              "  <tbody>\n",
              "    <tr>\n",
              "      <th>0</th>\n",
              "      <td>0.7</td>\n",
              "      <td>1.9</td>\n",
              "    </tr>\n",
              "    <tr>\n",
              "      <th>1</th>\n",
              "      <td>-1.6</td>\n",
              "      <td>0.8</td>\n",
              "    </tr>\n",
              "    <tr>\n",
              "      <th>2</th>\n",
              "      <td>-0.2</td>\n",
              "      <td>1.1</td>\n",
              "    </tr>\n",
              "    <tr>\n",
              "      <th>3</th>\n",
              "      <td>-1.2</td>\n",
              "      <td>0.1</td>\n",
              "    </tr>\n",
              "    <tr>\n",
              "      <th>4</th>\n",
              "      <td>-0.1</td>\n",
              "      <td>-0.1</td>\n",
              "    </tr>\n",
              "    <tr>\n",
              "      <th>5</th>\n",
              "      <td>3.4</td>\n",
              "      <td>4.4</td>\n",
              "    </tr>\n",
              "    <tr>\n",
              "      <th>6</th>\n",
              "      <td>3.7</td>\n",
              "      <td>5.5</td>\n",
              "    </tr>\n",
              "    <tr>\n",
              "      <th>7</th>\n",
              "      <td>0.8</td>\n",
              "      <td>1.6</td>\n",
              "    </tr>\n",
              "    <tr>\n",
              "      <th>8</th>\n",
              "      <td>0.0</td>\n",
              "      <td>4.6</td>\n",
              "    </tr>\n",
              "    <tr>\n",
              "      <th>9</th>\n",
              "      <td>2.0</td>\n",
              "      <td>3.4</td>\n",
              "    </tr>\n",
              "  </tbody>\n",
              "</table>\n",
              "</div>"
            ],
            "text/plain": [
              "   hyoscyamine  hyoscine\n",
              "0          0.7       1.9\n",
              "1         -1.6       0.8\n",
              "2         -0.2       1.1\n",
              "3         -1.2       0.1\n",
              "4         -0.1      -0.1\n",
              "5          3.4       4.4\n",
              "6          3.7       5.5\n",
              "7          0.8       1.6\n",
              "8          0.0       4.6\n",
              "9          2.0       3.4"
            ]
          },
          "metadata": {
            "tags": []
          },
          "execution_count": 16
        }
      ]
    },
    {
      "cell_type": "code",
      "metadata": {
        "colab": {
          "base_uri": "https://localhost:8080/"
        },
        "id": "nedcI6Yd17io",
        "outputId": "9584d790-1d7d-4d9d-81a6-7708dbc0885f"
      },
      "source": [
        "# Get coefficient and p value\n",
        "r, p = stats.pearsonr(df['hyoscyamine'], df['hyoscine'])\n",
        "print('The correlation coefficient of the effect of the two drugs is', round(r, 2))\n",
        "print('The p-value is', round(p, 3))"
      ],
      "execution_count": 17,
      "outputs": [
        {
          "output_type": "stream",
          "text": [
            "The correlation coefficient of the effect of the two drugs is 0.8\n",
            "The p-value is 0.006\n"
          ],
          "name": "stdout"
        }
      ]
    },
    {
      "cell_type": "markdown",
      "metadata": {
        "id": "heRbkeKP2ikk"
      },
      "source": [
        "The probability of observing a correlation as extreme or more extreme than 0.8 is 0.006, which is less than 0.95. Therefore, we can reject the hypothesis that $\\rho$ is equal to zero.\n",
        "\n",
        "I would expect both drugs to be correlated because $i$) they both are drugs made to induce sleep, and $ii$) their effects were measured on the same patients, so they are likely to respond in the same way."
      ]
    }
  ]
}