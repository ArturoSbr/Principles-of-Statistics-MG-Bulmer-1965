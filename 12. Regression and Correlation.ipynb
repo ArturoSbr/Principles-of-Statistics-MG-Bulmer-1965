{
  "nbformat": 4,
  "nbformat_minor": 0,
  "metadata": {
    "colab": {
      "name": "12. Regression and Correlation",
      "provenance": [],
      "collapsed_sections": [],
      "authorship_tag": "ABX9TyP9WEo4iG+5yNr0npjmyZwm"
    },
    "kernelspec": {
      "name": "python3",
      "display_name": "Python 3"
    },
    "language_info": {
      "name": "python"
    }
  },
  "cells": [
    {
      "cell_type": "markdown",
      "metadata": {
        "id": "NJtYuQL2ety_"
      },
      "source": [
        "# 12. Regression and Correlation\n",
        "This notebook contains all the solutions to the twelfth chapter of Principles of Statistics (1965) by MG Bulmer\n",
        "\n",
        "---\n",
        "\n",
        "Set local environment"
      ]
    },
    {
      "cell_type": "code",
      "metadata": {
        "colab": {
          "base_uri": "https://localhost:8080/"
        },
        "id": "rKy5A0vbelMG",
        "outputId": "da2e75ab-ebba-4782-9282-d4b284dd9a01"
      },
      "source": [
        "import numpy as np\n",
        "import pandas as pd\n",
        "from scipy import stats\n",
        "import matplotlib.pyplot as plt\n",
        "\n",
        "from sklearn.metrics import mean_squared_error\n",
        "from sklearn.linear_model import LinearRegression\n",
        "from statsmodels.regression.linear_model import OLS"
      ],
      "execution_count": 1,
      "outputs": [
        {
          "output_type": "stream",
          "text": [
            "/usr/local/lib/python3.7/dist-packages/statsmodels/tools/_testing.py:19: FutureWarning: pandas.util.testing is deprecated. Use the functions in the public API at pandas.testing instead.\n",
            "  import pandas.util.testing as tm\n"
          ],
          "name": "stderr"
        }
      ]
    },
    {
      "cell_type": "markdown",
      "metadata": {
        "id": "yl3AsyJHfiV8"
      },
      "source": [
        "# Exercise 12.1\n",
        "From the data in Table 22 on p. 210 calculate $\\sum x_i$, $\\sum y_i$, $\\sum x_i^2$, $\\sum y_i^2$ and $\\sum x_i y_i$ and hence find the equation of the best-fitting straight line. [In evaluating sums like $\\sum x_i$ it should be remembered that each dose level occurs five times] Reproduce Fig. 30 and plot this line on it."
      ]
    },
    {
      "cell_type": "code",
      "metadata": {
        "colab": {
          "base_uri": "https://localhost:8080/",
          "height": 204
        },
        "id": "y9suGbCTfe8c",
        "outputId": "533c2baf-75a4-42cf-a245-a48656c54430"
      },
      "source": [
        "df = pd.DataFrame({'half':[8,1,1,3,1],'one':[5,6,9,7,4], 'two':[13,7,12,10,11],\n",
        "                   'four':[17,14,14,19,13], 'eight':[17,17,20,18,15]})\n",
        "df"
      ],
      "execution_count": 2,
      "outputs": [
        {
          "output_type": "execute_result",
          "data": {
            "text/html": [
              "<div>\n",
              "<style scoped>\n",
              "    .dataframe tbody tr th:only-of-type {\n",
              "        vertical-align: middle;\n",
              "    }\n",
              "\n",
              "    .dataframe tbody tr th {\n",
              "        vertical-align: top;\n",
              "    }\n",
              "\n",
              "    .dataframe thead th {\n",
              "        text-align: right;\n",
              "    }\n",
              "</style>\n",
              "<table border=\"1\" class=\"dataframe\">\n",
              "  <thead>\n",
              "    <tr style=\"text-align: right;\">\n",
              "      <th></th>\n",
              "      <th>half</th>\n",
              "      <th>one</th>\n",
              "      <th>two</th>\n",
              "      <th>four</th>\n",
              "      <th>eight</th>\n",
              "    </tr>\n",
              "  </thead>\n",
              "  <tbody>\n",
              "    <tr>\n",
              "      <th>0</th>\n",
              "      <td>8</td>\n",
              "      <td>5</td>\n",
              "      <td>13</td>\n",
              "      <td>17</td>\n",
              "      <td>17</td>\n",
              "    </tr>\n",
              "    <tr>\n",
              "      <th>1</th>\n",
              "      <td>1</td>\n",
              "      <td>6</td>\n",
              "      <td>7</td>\n",
              "      <td>14</td>\n",
              "      <td>17</td>\n",
              "    </tr>\n",
              "    <tr>\n",
              "      <th>2</th>\n",
              "      <td>1</td>\n",
              "      <td>9</td>\n",
              "      <td>12</td>\n",
              "      <td>14</td>\n",
              "      <td>20</td>\n",
              "    </tr>\n",
              "    <tr>\n",
              "      <th>3</th>\n",
              "      <td>3</td>\n",
              "      <td>7</td>\n",
              "      <td>10</td>\n",
              "      <td>19</td>\n",
              "      <td>18</td>\n",
              "    </tr>\n",
              "    <tr>\n",
              "      <th>4</th>\n",
              "      <td>1</td>\n",
              "      <td>4</td>\n",
              "      <td>11</td>\n",
              "      <td>13</td>\n",
              "      <td>15</td>\n",
              "    </tr>\n",
              "  </tbody>\n",
              "</table>\n",
              "</div>"
            ],
            "text/plain": [
              "   half  one  two  four  eight\n",
              "0     8    5   13    17     17\n",
              "1     1    6    7    14     17\n",
              "2     1    9   12    14     20\n",
              "3     3    7   10    19     18\n",
              "4     1    4   11    13     15"
            ]
          },
          "metadata": {
            "tags": []
          },
          "execution_count": 2
        }
      ]
    },
    {
      "cell_type": "markdown",
      "metadata": {
        "id": "yVMqZqxGkYR9"
      },
      "source": [
        "This question is super interesting because the author does not tell the reader which independent variable to use. At the beginning of the chapter, Bulmer states that when $y$ is plotted against $\\log_2(x)$, there is an approximately linear relationship.\n",
        "\n",
        "For educational purposes, I will solve the problem twice:\n",
        "1. $E(Y|X) = \\alpha + \\beta X$\n",
        "2. $E(Y|X) = \\alpha + \\beta \\log{X}$\n",
        "\n",
        "As we will see, the first model has a really poor fit because $X$ and $Y$ do not linearly related. The second model, $\\log{X}$ and $Y$, will fit much better.\n",
        "\n",
        "Prior to solving though, it is much more convenient to reshape the data from its current for (`df`) to arrays.\n",
        "\n",
        "Recall that\n",
        "- $a = \\bar{y} - b\\bar{x}$\n",
        "- $b = \\frac{\\sum x_i y_i - n\\bar{x}\\bar{y}}{\\sum x_i^2 - n\\bar{x}}$\n",
        "\n",
        "### 12.1.1 $Y$ on $X$ (bad fit)"
      ]
    },
    {
      "cell_type": "code",
      "metadata": {
        "colab": {
          "base_uri": "https://localhost:8080/"
        },
        "id": "p9pg9mEnkXh3",
        "outputId": "30d772e4-1e60-426f-fe0f-7dc28cc2cb59"
      },
      "source": [
        "# Dependent variable as array\n",
        "y = df.values.reshape(1, -1)[0]\n",
        "\n",
        "# Independent variable as array\n",
        "X = np.tile([0.5, 1, 2, 4, 8], 5)\n",
        "\n",
        "# Sum of x_i\n",
        "print('Sum of x_i:', X.sum())\n",
        "\n",
        "# Sum of y_i\n",
        "print('Sum of y_i:', y.sum())\n",
        "\n",
        "# Sum of x_i^2\n",
        "print('Sum of x_i^2:', np.power(X, 2).sum())\n",
        "\n",
        "# Sum of y_i^2\n",
        "print('Sum of y_i^2:', np.power(y, 2).sum())\n",
        "\n",
        "# Sum of x_i^2 * y_i^2\n",
        "print('Sum of x_i^2 * y_i^2:', (np.power(X, 2) * np.power(y, 2)).sum())"
      ],
      "execution_count": 3,
      "outputs": [
        {
          "output_type": "stream",
          "text": [
            "Sum of x_i: 77.5\n",
            "Sum of y_i: 262\n",
            "Sum of x_i^2: 426.25\n",
            "Sum of y_i^2: 3604\n",
            "Sum of x_i^2 * y_i^2: 119662.0\n"
          ],
          "name": "stdout"
        }
      ]
    },
    {
      "cell_type": "code",
      "metadata": {
        "colab": {
          "base_uri": "https://localhost:8080/",
          "height": 313
        },
        "id": "3eTTWCyynqBc",
        "outputId": "03bb315b-512a-4f0d-c38c-0b9bf39baf7d"
      },
      "source": [
        "# Calculate coefficients by hand\n",
        "n = len(X)\n",
        "b = ((X * y).sum() - (X.sum() * y.mean())) / (np.power(X, 2).sum() - n * X.mean()**2)\n",
        "a = y.mean() - b * X.mean()\n",
        "\n",
        "# Print results\n",
        "print('a =', round(a, 2), '\\nb=', round(b, 2))\n",
        "\n",
        "### Plot\n",
        "# Data points\n",
        "plt.scatter(X, y)\n",
        "# Estimated line\n",
        "plt.plot(X, a + b * X, color='C1', ls='--')\n",
        "# Styling\n",
        "plt.xlabel('Androsterone')\n",
        "plt.ylabel('Comb-growth')\n",
        "plt.xticks(ticks=[0.5,1,2,4,8])\n",
        "plt.show()"
      ],
      "execution_count": 4,
      "outputs": [
        {
          "output_type": "stream",
          "text": [
            "a = 4.88 \n",
            "b= 1.81\n"
          ],
          "name": "stdout"
        },
        {
          "output_type": "display_data",
          "data": {
            "image/png": "[encoded data removed]",
            "text/plain": [
              "<Figure size 432x288 with 1 Axes>"
            ]
          },
          "metadata": {
            "tags": [],
            "needs_background": "light"
          }
        }
      ]
    },
    {
      "cell_type": "markdown",
      "metadata": {
        "id": "KfVytgWe3Zaj"
      },
      "source": [
        "### 12.1.2 $Y$ on $\\log_2{X}$\n",
        "This time around, we will not calculate $a$ and $b$ by hand. We will use `sklearn`.\n",
        "\n",
        "Later though, when we have to make inferences about the estimates, we will use `statsmodels`.\n",
        "\n",
        "First, we have to transform $X$."
      ]
    },
    {
      "cell_type": "code",
      "metadata": {
        "colab": {
          "base_uri": "https://localhost:8080/",
          "height": 314
        },
        "id": "atxkExcarSu0",
        "outputId": "3b47efff-7b7b-485c-b18a-bf9cd614eb54"
      },
      "source": [
        "# log_2(X)\n",
        "X = np.log2(X)\n",
        "\n",
        "# Initialize linear model from sklearn\n",
        "lm = LinearRegression()\n",
        "\n",
        "# Fit model to data\n",
        "lm.fit(X.reshape(-1, 1), y)\n",
        "\n",
        "# Print results\n",
        "print('a =', round(a, 2), '\\nb=', round(b, 2))\n",
        "\n",
        "### Plot\n",
        "# Data points\n",
        "plt.scatter(X, y)\n",
        "# Estimated line\n",
        "plt.plot(X, lm.predict(X.reshape(-1, 1)), color='C1')\n",
        "# Styling\n",
        "plt.xlabel('*log_2* Androsterone')\n",
        "plt.ylabel('Comb-growth')\n",
        "plt.xticks(ticks=np.log2([0.5,1,2,4,8]))\n",
        "plt.show()"
      ],
      "execution_count": 5,
      "outputs": [
        {
          "output_type": "stream",
          "text": [
            "a = 4.88 \n",
            "b= 1.81\n"
          ],
          "name": "stdout"
        },
        {
          "output_type": "display_data",
          "data": {
            "image/png": "[encoded data removed]",
            "text/plain": [
              "<Figure size 432x288 with 1 Axes>"
            ]
          },
          "metadata": {
            "tags": [],
            "needs_background": "light"
          }
        }
      ]
    },
    {
      "cell_type": "markdown",
      "metadata": {
        "id": "wMx_ttM740rs"
      },
      "source": [
        "In order to gain a sense of the benefit of transforming $X$ into $\\log{X}$, we calculate the mean squared error of both models."
      ]
    },
    {
      "cell_type": "code",
      "metadata": {
        "colab": {
          "base_uri": "https://localhost:8080/"
        },
        "id": "ZQcnC6HV5LTW",
        "outputId": "1d9578be-e842-4304-9907-f719c824c529"
      },
      "source": [
        "print('MSE of Y on X:\\n   ',\n",
        "      mean_squared_error(y, a + b * X))\n",
        "print('MSE of Y on log_2(X):\\n   ',\n",
        "      mean_squared_error(y, lm.predict(X.reshape(-1, 1))))"
      ],
      "execution_count": 6,
      "outputs": [
        {
          "output_type": "stream",
          "text": [
            "MSE of Y on X:\n",
            "    27.491669152503174\n",
            "MSE of Y on log_2(X):\n",
            "    4.838399999999999\n"
          ],
          "name": "stdout"
        }
      ]
    },
    {
      "cell_type": "markdown",
      "metadata": {
        "id": "ae6XaHw961bq"
      },
      "source": [
        "As predicted by the author, the transformed variable has a much better fit on the growth of capons (dependent variable).\n",
        "\n",
        "# Exercise 12.2\n",
        "Find the residual sum of squares in the above example (a) directly by squaring the deviations of the observed and predicted points, (b) from the formula on p.213."
      ]
    },
    {
      "cell_type": "code",
      "metadata": {
        "id": "xn2FQIpU6Nc-"
      },
      "source": [
        ""
      ],
      "execution_count": 6,
      "outputs": []
    }
  ]
}