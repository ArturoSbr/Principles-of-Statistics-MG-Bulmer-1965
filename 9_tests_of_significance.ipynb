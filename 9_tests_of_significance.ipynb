{
  "nbformat": 4,
  "nbformat_minor": 0,
  "metadata": {
    "colab": {
      "name": "9_tests_of_significance",
      "provenance": [],
      "collapsed_sections": [],
      "authorship_tag": "ABX9TyMIiDk40vwHS0ytAvyQUaWo"
    },
    "kernelspec": {
      "name": "python3",
      "display_name": "Python 3"
    }
  },
  "cells": [
    {
      "cell_type": "markdown",
      "metadata": {
        "id": "7Gi61kv2nojF"
      },
      "source": [
        "# Chapter 9. Tests of Significance\n",
        "\n",
        "Solutions for all exercises listed in Chapter 9 (Tests of Significance) from *Principles of Statistics* (MG Bulmer, 1965)\n",
        "\n",
        "\n",
        "---\n",
        "\n",
        "Set local environment"
      ]
    },
    {
      "cell_type": "code",
      "metadata": {
        "id": "8RzJYmFXC6qi"
      },
      "source": [
        "import numpy as np\n",
        "import pandas as pd\n",
        "from scipy import stats"
      ],
      "execution_count": 1,
      "outputs": []
    },
    {
      "cell_type": "markdown",
      "metadata": {
        "id": "o5r8SQYao0Sb"
      },
      "source": [
        "Define a function to determine if we should accept or reject the null hypothesis given a threshold."
      ]
    },
    {
      "cell_type": "code",
      "metadata": {
        "id": "U91ZkOdLoyaF"
      },
      "source": [
        "def test(alpha=0.05, p_value=0):\n",
        "    if p_value <= alpha:\n",
        "        print('Reject null hypothesis with a significance level of', str(alpha))\n",
        "    else:\n",
        "        print('Unable to reject the null hypothesis with a significance level of', str(alpha))"
      ],
      "execution_count": 2,
      "outputs": []
    },
    {
      "cell_type": "markdown",
      "metadata": {
        "id": "cwwvBA6vm3ns"
      },
      "source": [
        "# Exercise 9.1\n",
        "In one of his experiments Mendel observed 705 plants with purple flowers and 224 plants with white flowers in plants bred from a purple-flowered $\\times$ white-flowered hybrid. Test the hypothesis that the probability of a purple-flowered plant is $\\frac{3}{4}$.\n",
        "\n",
        "*Solution*\n",
        "\n",
        "There is no reason to suppose that $p$ is greater than or less than $p=\\frac{3}{4}$, so use the binomial distribution to perform a two-tailed test.\n",
        "\n",
        "$H_0$: $p=\\frac{3}{4}$"
      ]
    },
    {
      "cell_type": "code",
      "metadata": {
        "colab": {
          "base_uri": "https://localhost:8080/"
        },
        "id": "iPWcbPDJmsZA",
        "outputId": "597c421c-b4a0-434b-fd53-fefa7f3a0d54"
      },
      "source": [
        "test(alpha=0.05, p_value=stats.binom_test(x=705, n=(705 + 224), p=0.75))"
      ],
      "execution_count": 3,
      "outputs": [
        {
          "output_type": "stream",
          "text": [
            "Unable to reject the null hypothesis with a significance level of 0.05\n"
          ],
          "name": "stdout"
        }
      ]
    },
    {
      "cell_type": "markdown",
      "metadata": {
        "id": "Yp0mFz5ost3y"
      },
      "source": [
        "# Exercise 9.2\n",
        "200 women are each given a sample of butter and a sample of margarine and asked to identify the butter; 120 of them do so correctly. Can women tell butter from margarine?\n",
        "\n",
        "*Solution*\n",
        "\n",
        "If women were unable to tell butter from margarine, the probability of labeling butter correctly would be 0.5. Hence, perform a two-tailed test using the binomial distribution.\n",
        "\n",
        "$H_0$: Women cannot tell butter from margarine ($p=0.5$)"
      ]
    },
    {
      "cell_type": "code",
      "metadata": {
        "colab": {
          "base_uri": "https://localhost:8080/"
        },
        "id": "56w39PCns7K_",
        "outputId": "339fe66e-37fa-436d-dd6f-61ef04b2bd93"
      },
      "source": [
        "test(alpha=0.05, p_value=stats.binom_test(x=120, n=200, p=0.5, alternative='two-sided'))"
      ],
      "execution_count": 4,
      "outputs": [
        {
          "output_type": "stream",
          "text": [
            "Reject null hypothesis with a significance level of 0.05\n"
          ],
          "name": "stdout"
        }
      ]
    },
    {
      "cell_type": "markdown",
      "metadata": {
        "id": "54IeD4idyFtM"
      },
      "source": [
        "# Exercise 9.3\n",
        "In a similar test among 200 men, 108 identify the butter correctly; is there a sex difference in tase discrimination?\n",
        "\n",
        "*Solution*\n",
        "\n",
        "In 9.1 and 9.2, we were comparing the observed occurences against the expected number of observations. We are now comparing the difference between two proportions.\n",
        "\n",
        "If there is no sex difference in taste discrimination, then the theoretical proportion of women who cannot tell the difference between butter and margarine ($P_w$) should be equal to that of men ($P_m$). In other words, we are testing the hypothesis that $Pw = Pm = P$.\n",
        "\n",
        "Transforming a binomial random variable into a proportion implies dividing it by the number of observations.\n",
        "\n",
        "$Y = \\frac{X}{n} \\implies E(Y) = P, V(Y) = \\frac{PQ}{n}$\n",
        "\n",
        "Hence, the statistic $p_w - p_m$ should be normally distributed with mean 0 and variance $PQ(\\frac{1}{n_w} + \\frac{1}{n_m})$.\n",
        "\n",
        "We don't know the true value of $P$, so we'll estimate it with $\\frac{x_w + x_m}{n_w + n_m}$"
      ]
    },
    {
      "cell_type": "code",
      "metadata": {
        "id": "ZqdMJVh8uF6-",
        "colab": {
          "base_uri": "https://localhost:8080/"
        },
        "outputId": "e08daa16-dfb5-4640-d2e2-7f044dd2adc5"
      },
      "source": [
        "# Observed proportions\n",
        "p_w = 120 / 200\n",
        "p_m = 108 / 200\n",
        "\n",
        "# Global proportion\n",
        "p = (120 + 108) / (200 + 200)\n",
        "\n",
        "# Standard deviation\n",
        "sigma = np.sqrt(p * (1 - p) * ((1 / 200) + (1 / 200)))\n",
        "\n",
        "# Statistic\n",
        "s = (p_w - p_m) / sigma\n",
        "s"
      ],
      "execution_count": 5,
      "outputs": [
        {
          "output_type": "execute_result",
          "data": {
            "text/plain": [
              "1.2119357448701642"
            ]
          },
          "metadata": {
            "tags": []
          },
          "execution_count": 5
        }
      ]
    },
    {
      "cell_type": "code",
      "metadata": {
        "colab": {
          "base_uri": "https://localhost:8080/"
        },
        "id": "vxobxebd6UDI",
        "outputId": "db7c7bd9-1c89-4486-d482-112f89ed6cb4"
      },
      "source": [
        "p_value = 2 * (1 - stats.norm(loc=0, scale=1).cdf(s))\n",
        "test(alpha=0.05, p_value=p_value)"
      ],
      "execution_count": 6,
      "outputs": [
        {
          "output_type": "stream",
          "text": [
            "Unable to reject the null hypothesis with a significance level of 0.05\n"
          ],
          "name": "stdout"
        }
      ]
    },
    {
      "cell_type": "markdown",
      "metadata": {
        "id": "pvC1RWSwG7tV"
      },
      "source": [
        "# Exercise 9.4\n",
        "To test whether it is of advantage to klin-dry barley before sowing, eleven varieties of barley were sown (both klin-dried and not klin-dried). Test whether there is any advantage in klin-drying.\n",
        "\n",
        "The yields, in lb. head corn per acre, are given below:"
      ]
    },
    {
      "cell_type": "code",
      "metadata": {
        "colab": {
          "base_uri": "https://localhost:8080/",
          "height": 390
        },
        "id": "dfyV8NJtHXwm",
        "outputId": "52020ef9-7794-47dc-816c-417cef9a2d84"
      },
      "source": [
        "df = pd.DataFrame({'dried':[2009,1915,2011,2463,2180,1925,2122,1482,1542,1443,1535],\n",
        "                   'not_dried':[1903,1935,1910,2496,2108,1961,2060,1444,1612,1316,1511]})\n",
        "df"
      ],
      "execution_count": 7,
      "outputs": [
        {
          "output_type": "execute_result",
          "data": {
            "text/html": [
              "<div>\n",
              "<style scoped>\n",
              "    .dataframe tbody tr th:only-of-type {\n",
              "        vertical-align: middle;\n",
              "    }\n",
              "\n",
              "    .dataframe tbody tr th {\n",
              "        vertical-align: top;\n",
              "    }\n",
              "\n",
              "    .dataframe thead th {\n",
              "        text-align: right;\n",
              "    }\n",
              "</style>\n",
              "<table border=\"1\" class=\"dataframe\">\n",
              "  <thead>\n",
              "    <tr style=\"text-align: right;\">\n",
              "      <th></th>\n",
              "      <th>dried</th>\n",
              "      <th>not_dried</th>\n",
              "    </tr>\n",
              "  </thead>\n",
              "  <tbody>\n",
              "    <tr>\n",
              "      <th>0</th>\n",
              "      <td>2009</td>\n",
              "      <td>1903</td>\n",
              "    </tr>\n",
              "    <tr>\n",
              "      <th>1</th>\n",
              "      <td>1915</td>\n",
              "      <td>1935</td>\n",
              "    </tr>\n",
              "    <tr>\n",
              "      <th>2</th>\n",
              "      <td>2011</td>\n",
              "      <td>1910</td>\n",
              "    </tr>\n",
              "    <tr>\n",
              "      <th>3</th>\n",
              "      <td>2463</td>\n",
              "      <td>2496</td>\n",
              "    </tr>\n",
              "    <tr>\n",
              "      <th>4</th>\n",
              "      <td>2180</td>\n",
              "      <td>2108</td>\n",
              "    </tr>\n",
              "    <tr>\n",
              "      <th>5</th>\n",
              "      <td>1925</td>\n",
              "      <td>1961</td>\n",
              "    </tr>\n",
              "    <tr>\n",
              "      <th>6</th>\n",
              "      <td>2122</td>\n",
              "      <td>2060</td>\n",
              "    </tr>\n",
              "    <tr>\n",
              "      <th>7</th>\n",
              "      <td>1482</td>\n",
              "      <td>1444</td>\n",
              "    </tr>\n",
              "    <tr>\n",
              "      <th>8</th>\n",
              "      <td>1542</td>\n",
              "      <td>1612</td>\n",
              "    </tr>\n",
              "    <tr>\n",
              "      <th>9</th>\n",
              "      <td>1443</td>\n",
              "      <td>1316</td>\n",
              "    </tr>\n",
              "    <tr>\n",
              "      <th>10</th>\n",
              "      <td>1535</td>\n",
              "      <td>1511</td>\n",
              "    </tr>\n",
              "  </tbody>\n",
              "</table>\n",
              "</div>"
            ],
            "text/plain": [
              "    dried  not_dried\n",
              "0    2009       1903\n",
              "1    1915       1935\n",
              "2    2011       1910\n",
              "3    2463       2496\n",
              "4    2180       2108\n",
              "5    1925       1961\n",
              "6    2122       2060\n",
              "7    1482       1444\n",
              "8    1542       1612\n",
              "9    1443       1316\n",
              "10   1535       1511"
            ]
          },
          "metadata": {
            "tags": []
          },
          "execution_count": 7
        }
      ]
    },
    {
      "cell_type": "markdown",
      "metadata": {
        "id": "ISWgkWd5f_h-"
      },
      "source": [
        "$H_0: \\mu_{dry} = \\mu_{wet}$\n",
        "\n",
        "We can use the $t$ statistic to do a two-tailed test on the difference between both populations (it is feasible that drying has a negative effect)."
      ]
    },
    {
      "cell_type": "code",
      "metadata": {
        "id": "OyNtofkDf9Ne",
        "colab": {
          "base_uri": "https://localhost:8080/"
        },
        "outputId": "783f5935-0573-471b-de77-71ad4222ad77"
      },
      "source": [
        "# New column with difference\n",
        "df['diff'] = df['dried'] - df['not_dried']\n",
        "\n",
        "# Use ttest_1samp since we have one column\n",
        "t_test = stats.ttest_1samp(df['diff'], popmean=0)\n",
        "\n",
        "# Test using p-value\n",
        "test(alpha=0.05, p_value=t_test[1])"
      ],
      "execution_count": 8,
      "outputs": [
        {
          "output_type": "stream",
          "text": [
            "Unable to reject the null hypothesis with a significance level of 0.05\n"
          ],
          "name": "stdout"
        }
      ]
    }
  ]
}