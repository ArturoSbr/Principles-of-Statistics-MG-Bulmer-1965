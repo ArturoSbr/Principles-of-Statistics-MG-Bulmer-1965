{
  "nbformat": 4,
  "nbformat_minor": 0,
  "metadata": {
    "colab": {
      "name": "9_tests_of_significance",
      "provenance": [],
      "collapsed_sections": [],
      "authorship_tag": "ABX9TyOZf5wuwhmMiRMt23+ms9RB"
    },
    "kernelspec": {
      "name": "python3",
      "display_name": "Python 3"
    }
  },
  "cells": [
    {
      "cell_type": "markdown",
      "metadata": {
        "id": "7Gi61kv2nojF"
      },
      "source": [
        "# Chapter 9. Tests of Significance\n",
        "\n",
        "Solutions for all exercises listed in Chapter 9 (Tests of Significance) from *Principles of Statistics* (MG Bulmer, 1965)\n",
        "\n",
        "\n",
        "---\n",
        "\n",
        "Set local environment"
      ]
    },
    {
      "cell_type": "code",
      "metadata": {
        "id": "8RzJYmFXC6qi"
      },
      "source": [
        "import numpy as np\n",
        "import pandas as pd\n",
        "from scipy import stats"
      ],
      "execution_count": 1,
      "outputs": []
    },
    {
      "cell_type": "markdown",
      "metadata": {
        "id": "o5r8SQYao0Sb"
      },
      "source": [
        "Define a function to determine if we should accept or reject the null hypothesis given a threshold."
      ]
    },
    {
      "cell_type": "code",
      "metadata": {
        "id": "U91ZkOdLoyaF"
      },
      "source": [
        "def test(alpha=0.05, p_value=0):\n",
        "    if p_value <= alpha:\n",
        "        print('Reject null hypothesis with a significance level of', str(alpha))\n",
        "    else:\n",
        "        print('Unable to reject the null hypothesis with a significance level of', str(alpha))"
      ],
      "execution_count": 2,
      "outputs": []
    },
    {
      "cell_type": "markdown",
      "metadata": {
        "id": "cwwvBA6vm3ns"
      },
      "source": [
        "# Exercise 9.1\n",
        "In one of his experiments Mendel observed 705 plants with purple flowers and 224 plants with white flowers in plants bred from a purple-flowered $\\times$ white-flowered hybrid. Test the hypothesis that the probability of a purple-flowered plant is $\\frac{3}{4}$.\n",
        "\n",
        "*Solution*\n",
        "\n",
        "There is no reason to suppose that $p$ is greater than or less than $p=\\frac{3}{4}$, so use the binomial distribution to perform a two-tailed test.\n",
        "\n",
        "$H_0$: $p=\\frac{3}{4}$"
      ]
    },
    {
      "cell_type": "code",
      "metadata": {
        "colab": {
          "base_uri": "https://localhost:8080/"
        },
        "id": "iPWcbPDJmsZA",
        "outputId": "e5c806b1-c40e-4d74-c1a0-c4d01aa7231f"
      },
      "source": [
        "test(alpha=0.05, p_value=stats.binom_test(x=705, n=(705 + 224), p=0.75))"
      ],
      "execution_count": 3,
      "outputs": [
        {
          "output_type": "stream",
          "text": [
            "Unable to reject the null hypothesis with a significance level of 0.05\n"
          ],
          "name": "stdout"
        }
      ]
    },
    {
      "cell_type": "markdown",
      "metadata": {
        "id": "Yp0mFz5ost3y"
      },
      "source": [
        "# Exercise 9.2\n",
        "200 women are each given a sample of butter and a sample of margarine and asked to identify the butter; 120 of them do so correctly. Can women tell butter from margarine?\n",
        "\n",
        "*Solution*\n",
        "\n",
        "If women were unable to tell butter from margarine, the probability of labeling butter correctly would be 0.5. Hence, perform a two-tailed test using the binomial distribution.\n",
        "\n",
        "$H_0$: Women cannot tell butter from margarine ($p=0.5$)"
      ]
    },
    {
      "cell_type": "code",
      "metadata": {
        "colab": {
          "base_uri": "https://localhost:8080/"
        },
        "id": "56w39PCns7K_",
        "outputId": "7b730dfe-c921-4f49-ee98-48cf0eb05657"
      },
      "source": [
        "test(alpha=0.05, p_value=stats.binom_test(x=120, n=200, p=0.5, alternative='two-sided'))"
      ],
      "execution_count": 4,
      "outputs": [
        {
          "output_type": "stream",
          "text": [
            "Reject null hypothesis with a significance level of 0.05\n"
          ],
          "name": "stdout"
        }
      ]
    },
    {
      "cell_type": "markdown",
      "metadata": {
        "id": "54IeD4idyFtM"
      },
      "source": [
        "# Exercise 9.3\n",
        "In a similar test among 200 men, 108 identify the butter correctly; is there a sex difference in tase discrimination?\n",
        "\n",
        "*Solution*\n",
        "\n",
        "In 9.1 and 9.2, we were comparing the observed occurences against the expected number of observations. We are now comparing the difference between two proportions.\n",
        "\n",
        "If there is no sex difference in taste discrimination, then the theoretical proportion of women who cannot tell the difference between butter and margarine ($P_w$) should be equal to that of men ($P_m$). In other words, we are testing the hypothesis that $Pw = Pm = P$.\n",
        "\n",
        "Transforming a binomial random variable into a proportion implies dividing it by the number of observations.\n",
        "\n",
        "$Y = \\frac{X}{n} \\implies E(Y) = P, V(Y) = \\frac{PQ}{n}$\n",
        "\n",
        "Hence, the statistic $p_w - p_m$ should be normally distributed with mean 0 and variance $PQ(\\frac{1}{n_w} + \\frac{1}{n_m})$.\n",
        "\n",
        "We don't know the true value of $P$, so we'll estimate it with $\\frac{x_w + x_m}{n_w + n_m}$"
      ]
    },
    {
      "cell_type": "code",
      "metadata": {
        "id": "ZqdMJVh8uF6-",
        "colab": {
          "base_uri": "https://localhost:8080/"
        },
        "outputId": "1c5db14d-1f37-43cd-bb21-a86c975088dd"
      },
      "source": [
        "# Observed proportions\n",
        "p_w = 120 / 200\n",
        "p_m = 108 / 200\n",
        "\n",
        "# Global proportion\n",
        "p = (120 + 108) / (200 + 200)\n",
        "\n",
        "# Standard deviation\n",
        "sigma = np.sqrt(p * (1 - p) * ((1 / 200) + (1 / 200)))\n",
        "\n",
        "# Statistic\n",
        "s = (p_w - p_m) / sigma\n",
        "s"
      ],
      "execution_count": 5,
      "outputs": [
        {
          "output_type": "execute_result",
          "data": {
            "text/plain": [
              "1.2119357448701642"
            ]
          },
          "metadata": {
            "tags": []
          },
          "execution_count": 5
        }
      ]
    },
    {
      "cell_type": "code",
      "metadata": {
        "colab": {
          "base_uri": "https://localhost:8080/"
        },
        "id": "vxobxebd6UDI",
        "outputId": "07ce0721-2a8d-4662-8465-f386209ec7e3"
      },
      "source": [
        "p_value = 2 * (1 - stats.norm(loc=0, scale=1).cdf(s))\n",
        "test(alpha=0.05, p_value=p_value)"
      ],
      "execution_count": 6,
      "outputs": [
        {
          "output_type": "stream",
          "text": [
            "Unable to reject the null hypothesis with a significance level of 0.05\n"
          ],
          "name": "stdout"
        }
      ]
    },
    {
      "cell_type": "markdown",
      "metadata": {
        "id": "pvC1RWSwG7tV"
      },
      "source": [
        "# Exercise 9.4\n",
        "To test whether it is of advantage to klin-dry barley before sowing, eleven varieties of barley were sown (both klin-dried and not klin-dried). Test whether there is any advantage in klin-drying.\n",
        "\n",
        "The yields, in lb. head corn per acre, are given below:"
      ]
    },
    {
      "cell_type": "code",
      "metadata": {
        "colab": {
          "base_uri": "https://localhost:8080/",
          "height": 390
        },
        "id": "dfyV8NJtHXwm",
        "outputId": "08acb78e-36a6-4748-f48a-7293b3c630aa"
      },
      "source": [
        "df = pd.DataFrame({'dried':[2009,1915,2011,2463,2180,1925,2122,1482,1542,1443,1535],\n",
        "                   'not_dried':[1903,1935,1910,2496,2108,1961,2060,1444,1612,1316,1511]})\n",
        "df"
      ],
      "execution_count": 7,
      "outputs": [
        {
          "output_type": "execute_result",
          "data": {
            "text/html": [
              "<div>\n",
              "<style scoped>\n",
              "    .dataframe tbody tr th:only-of-type {\n",
              "        vertical-align: middle;\n",
              "    }\n",
              "\n",
              "    .dataframe tbody tr th {\n",
              "        vertical-align: top;\n",
              "    }\n",
              "\n",
              "    .dataframe thead th {\n",
              "        text-align: right;\n",
              "    }\n",
              "</style>\n",
              "<table border=\"1\" class=\"dataframe\">\n",
              "  <thead>\n",
              "    <tr style=\"text-align: right;\">\n",
              "      <th></th>\n",
              "      <th>dried</th>\n",
              "      <th>not_dried</th>\n",
              "    </tr>\n",
              "  </thead>\n",
              "  <tbody>\n",
              "    <tr>\n",
              "      <th>0</th>\n",
              "      <td>2009</td>\n",
              "      <td>1903</td>\n",
              "    </tr>\n",
              "    <tr>\n",
              "      <th>1</th>\n",
              "      <td>1915</td>\n",
              "      <td>1935</td>\n",
              "    </tr>\n",
              "    <tr>\n",
              "      <th>2</th>\n",
              "      <td>2011</td>\n",
              "      <td>1910</td>\n",
              "    </tr>\n",
              "    <tr>\n",
              "      <th>3</th>\n",
              "      <td>2463</td>\n",
              "      <td>2496</td>\n",
              "    </tr>\n",
              "    <tr>\n",
              "      <th>4</th>\n",
              "      <td>2180</td>\n",
              "      <td>2108</td>\n",
              "    </tr>\n",
              "    <tr>\n",
              "      <th>5</th>\n",
              "      <td>1925</td>\n",
              "      <td>1961</td>\n",
              "    </tr>\n",
              "    <tr>\n",
              "      <th>6</th>\n",
              "      <td>2122</td>\n",
              "      <td>2060</td>\n",
              "    </tr>\n",
              "    <tr>\n",
              "      <th>7</th>\n",
              "      <td>1482</td>\n",
              "      <td>1444</td>\n",
              "    </tr>\n",
              "    <tr>\n",
              "      <th>8</th>\n",
              "      <td>1542</td>\n",
              "      <td>1612</td>\n",
              "    </tr>\n",
              "    <tr>\n",
              "      <th>9</th>\n",
              "      <td>1443</td>\n",
              "      <td>1316</td>\n",
              "    </tr>\n",
              "    <tr>\n",
              "      <th>10</th>\n",
              "      <td>1535</td>\n",
              "      <td>1511</td>\n",
              "    </tr>\n",
              "  </tbody>\n",
              "</table>\n",
              "</div>"
            ],
            "text/plain": [
              "    dried  not_dried\n",
              "0    2009       1903\n",
              "1    1915       1935\n",
              "2    2011       1910\n",
              "3    2463       2496\n",
              "4    2180       2108\n",
              "5    1925       1961\n",
              "6    2122       2060\n",
              "7    1482       1444\n",
              "8    1542       1612\n",
              "9    1443       1316\n",
              "10   1535       1511"
            ]
          },
          "metadata": {
            "tags": []
          },
          "execution_count": 7
        }
      ]
    },
    {
      "cell_type": "markdown",
      "metadata": {
        "id": "ISWgkWd5f_h-"
      },
      "source": [
        "$H_0: \\mu_{dry} = \\mu_{wet}$\n",
        "\n",
        "We can use the $t$ statistic to do a two-tailed test on the difference between both populations (it is feasible that drying has a negative effect). Note that the samples were taken from the same plants, so they are *not* independent."
      ]
    },
    {
      "cell_type": "code",
      "metadata": {
        "id": "OyNtofkDf9Ne",
        "colab": {
          "base_uri": "https://localhost:8080/"
        },
        "outputId": "5829646f-24ed-480a-d7ab-12bb2ea79e87"
      },
      "source": [
        "# New column with difference\n",
        "df['diff'] = df['dried'] - df['not_dried']\n",
        "\n",
        "# Use ttest_1samp since samples are not independent\n",
        "t_test = stats.ttest_1samp(df['diff'], popmean=0)\n",
        "\n",
        "# Test using p-value\n",
        "test(alpha=0.05, p_value=t_test[1])"
      ],
      "execution_count": 8,
      "outputs": [
        {
          "output_type": "stream",
          "text": [
            "Unable to reject the null hypothesis with a significance level of 0.05\n"
          ],
          "name": "stdout"
        }
      ]
    },
    {
      "cell_type": "markdown",
      "metadata": {
        "id": "X9m-QslO890J"
      },
      "source": [
        "# Exercise 9.5\n",
        "Use the data in Table 22 on p. 210 to test (a) whether there is an increase in comb-growth capons receiving $\\frac{1}{2}$ mg androsterone, (b) whether there is an increase in capons receiving 4 mg, (c) whether there is any difference in capons receiving 4 mg and 8 mg.\n"
      ]
    },
    {
      "cell_type": "code",
      "metadata": {
        "colab": {
          "base_uri": "https://localhost:8080/",
          "height": 204
        },
        "id": "nessthDY9Z76",
        "outputId": "9279aaaa-9db4-4503-ae9e-614c74037a57"
      },
      "source": [
        "df = pd.DataFrame({'half':[8,1,1,3,1], 'four':[17,14,14,19,13],'eight':[17,17,20,18,15]})\n",
        "df"
      ],
      "execution_count": 9,
      "outputs": [
        {
          "output_type": "execute_result",
          "data": {
            "text/html": [
              "<div>\n",
              "<style scoped>\n",
              "    .dataframe tbody tr th:only-of-type {\n",
              "        vertical-align: middle;\n",
              "    }\n",
              "\n",
              "    .dataframe tbody tr th {\n",
              "        vertical-align: top;\n",
              "    }\n",
              "\n",
              "    .dataframe thead th {\n",
              "        text-align: right;\n",
              "    }\n",
              "</style>\n",
              "<table border=\"1\" class=\"dataframe\">\n",
              "  <thead>\n",
              "    <tr style=\"text-align: right;\">\n",
              "      <th></th>\n",
              "      <th>half</th>\n",
              "      <th>four</th>\n",
              "      <th>eight</th>\n",
              "    </tr>\n",
              "  </thead>\n",
              "  <tbody>\n",
              "    <tr>\n",
              "      <th>0</th>\n",
              "      <td>8</td>\n",
              "      <td>17</td>\n",
              "      <td>17</td>\n",
              "    </tr>\n",
              "    <tr>\n",
              "      <th>1</th>\n",
              "      <td>1</td>\n",
              "      <td>14</td>\n",
              "      <td>17</td>\n",
              "    </tr>\n",
              "    <tr>\n",
              "      <th>2</th>\n",
              "      <td>1</td>\n",
              "      <td>14</td>\n",
              "      <td>20</td>\n",
              "    </tr>\n",
              "    <tr>\n",
              "      <th>3</th>\n",
              "      <td>3</td>\n",
              "      <td>19</td>\n",
              "      <td>18</td>\n",
              "    </tr>\n",
              "    <tr>\n",
              "      <th>4</th>\n",
              "      <td>1</td>\n",
              "      <td>13</td>\n",
              "      <td>15</td>\n",
              "    </tr>\n",
              "  </tbody>\n",
              "</table>\n",
              "</div>"
            ],
            "text/plain": [
              "   half  four  eight\n",
              "0     8    17     17\n",
              "1     1    14     17\n",
              "2     1    14     20\n",
              "3     3    19     18\n",
              "4     1    13     15"
            ]
          },
          "metadata": {
            "tags": []
          },
          "execution_count": 9
        }
      ]
    },
    {
      "cell_type": "markdown",
      "metadata": {
        "id": "HPeUJr90Bm3C"
      },
      "source": [
        "`scipy.stats.ttest_1samp` does not have one-tailed tests. Hence, we must define the corresponding $t$ distribution to compare the alpha and p-values.\n",
        "\n",
        "(a) $H_0: \\mu_0 = 0$, $H_1: \\mu_0 \\geq 0$"
      ]
    },
    {
      "cell_type": "code",
      "metadata": {
        "colab": {
          "base_uri": "https://localhost:8080/"
        },
        "id": "supnhXcCAFnF",
        "outputId": "75b77df3-6368-4f00-e47c-8c056da067f8"
      },
      "source": [
        "# Declare statistic\n",
        "T = stats.ttest_1samp(df['half'], popmean=0)[0]\n",
        "\n",
        "# Declare p-value\n",
        "p = 1 - stats.t(df=len(df) - 1, loc=0, scale=1).cdf(T)\n",
        "\n",
        "# Test H_0\n",
        "test(alpha=0.05, p_value=p)"
      ],
      "execution_count": 10,
      "outputs": [
        {
          "output_type": "stream",
          "text": [
            "Unable to reject the null hypothesis with a significance level of 0.05\n"
          ],
          "name": "stdout"
        }
      ]
    },
    {
      "cell_type": "markdown",
      "metadata": {
        "id": "3vgKWF_SExCZ"
      },
      "source": [
        "(b) $H_0: \\mu_0 = 0, H_1: \\mu_0 \\geq 0$"
      ]
    },
    {
      "cell_type": "code",
      "metadata": {
        "colab": {
          "base_uri": "https://localhost:8080/"
        },
        "id": "IxjbtI2qAXDa",
        "outputId": "f14d9efb-c3cc-4ce5-e470-a7e17ea6ea3b"
      },
      "source": [
        "# Declare statistic\n",
        "T = stats.ttest_1samp(df['four'], popmean=0)[0]\n",
        "\n",
        "# Declare p-value\n",
        "p = 1 - stats.t(df=len(df) - 1, loc=0, scale=1).cdf(T)\n",
        "\n",
        "# Test H_0\n",
        "test(alpha=0.05, p_value=p)"
      ],
      "execution_count": 11,
      "outputs": [
        {
          "output_type": "stream",
          "text": [
            "Reject null hypothesis with a significance level of 0.05\n"
          ],
          "name": "stdout"
        }
      ]
    },
    {
      "cell_type": "markdown",
      "metadata": {
        "id": "rXx094gtGp-O"
      },
      "source": [
        "(c) $H_0: \\mu_{4mg} = \\mu_{8mg}, H_1: \\mu_{4mg} \\neq \\mu_{8mg}$\n",
        "\n",
        "Since the samples are independent, we must calculate a $T$ statistic assuming that both samples come from a distribution with equal variance and perhaps different means.\n"
      ]
    },
    {
      "cell_type": "code",
      "metadata": {
        "colab": {
          "base_uri": "https://localhost:8080/"
        },
        "id": "mki-GK-_BNlJ",
        "outputId": "dea554a1-b421-44db-d356-9cf6f45df710"
      },
      "source": [
        "# Declare column with differences\n",
        "df['diff'] = df['four'] - df['eight']\n",
        "\n",
        "# Declare t_test\n",
        "t_test = stats.ttest_ind(a=df['four'], b=df['eight'], equal_var=True)\n",
        "\n",
        "# Test H_0\n",
        "test(alpha=0.05, p_value=t_test[1])"
      ],
      "execution_count": 12,
      "outputs": [
        {
          "output_type": "stream",
          "text": [
            "Unable to reject the null hypothesis with a significance level of 0.05\n"
          ],
          "name": "stdout"
        }
      ]
    },
    {
      "cell_type": "markdown",
      "metadata": {
        "id": "8FRvyMxrD6lH"
      },
      "source": [
        "# Exercise 9.6\n",
        "For Weldon's data in Exercise 6.4, (a) test whether $P = \\frac{1}{2}$ by comparing the total number of successes with its Expected value, (b) test whether the data with $P=p$ follows a binomial distribution.\n",
        "\n",
        "---\n",
        "\n",
        "Weldon threw 12 dice 4096 times, a throw of 4, 5 or 6 being called a success, and obtained the following results"
      ]
    },
    {
      "cell_type": "code",
      "metadata": {
        "colab": {
          "base_uri": "https://localhost:8080/",
          "height": 452
        },
        "id": "DzvbGMyLDo9v",
        "outputId": "e3fa9e45-31e4-4de9-f77a-40c05cd22bdb"
      },
      "source": [
        "df = pd.DataFrame({'X':range(13),\n",
        "                   'obs_freq':[0,7,60,198,430,731,948,847,536,257,71,11,0]})\n",
        "df"
      ],
      "execution_count": 13,
      "outputs": [
        {
          "output_type": "execute_result",
          "data": {
            "text/html": [
              "<div>\n",
              "<style scoped>\n",
              "    .dataframe tbody tr th:only-of-type {\n",
              "        vertical-align: middle;\n",
              "    }\n",
              "\n",
              "    .dataframe tbody tr th {\n",
              "        vertical-align: top;\n",
              "    }\n",
              "\n",
              "    .dataframe thead th {\n",
              "        text-align: right;\n",
              "    }\n",
              "</style>\n",
              "<table border=\"1\" class=\"dataframe\">\n",
              "  <thead>\n",
              "    <tr style=\"text-align: right;\">\n",
              "      <th></th>\n",
              "      <th>X</th>\n",
              "      <th>obs_freq</th>\n",
              "    </tr>\n",
              "  </thead>\n",
              "  <tbody>\n",
              "    <tr>\n",
              "      <th>0</th>\n",
              "      <td>0</td>\n",
              "      <td>0</td>\n",
              "    </tr>\n",
              "    <tr>\n",
              "      <th>1</th>\n",
              "      <td>1</td>\n",
              "      <td>7</td>\n",
              "    </tr>\n",
              "    <tr>\n",
              "      <th>2</th>\n",
              "      <td>2</td>\n",
              "      <td>60</td>\n",
              "    </tr>\n",
              "    <tr>\n",
              "      <th>3</th>\n",
              "      <td>3</td>\n",
              "      <td>198</td>\n",
              "    </tr>\n",
              "    <tr>\n",
              "      <th>4</th>\n",
              "      <td>4</td>\n",
              "      <td>430</td>\n",
              "    </tr>\n",
              "    <tr>\n",
              "      <th>5</th>\n",
              "      <td>5</td>\n",
              "      <td>731</td>\n",
              "    </tr>\n",
              "    <tr>\n",
              "      <th>6</th>\n",
              "      <td>6</td>\n",
              "      <td>948</td>\n",
              "    </tr>\n",
              "    <tr>\n",
              "      <th>7</th>\n",
              "      <td>7</td>\n",
              "      <td>847</td>\n",
              "    </tr>\n",
              "    <tr>\n",
              "      <th>8</th>\n",
              "      <td>8</td>\n",
              "      <td>536</td>\n",
              "    </tr>\n",
              "    <tr>\n",
              "      <th>9</th>\n",
              "      <td>9</td>\n",
              "      <td>257</td>\n",
              "    </tr>\n",
              "    <tr>\n",
              "      <th>10</th>\n",
              "      <td>10</td>\n",
              "      <td>71</td>\n",
              "    </tr>\n",
              "    <tr>\n",
              "      <th>11</th>\n",
              "      <td>11</td>\n",
              "      <td>11</td>\n",
              "    </tr>\n",
              "    <tr>\n",
              "      <th>12</th>\n",
              "      <td>12</td>\n",
              "      <td>0</td>\n",
              "    </tr>\n",
              "  </tbody>\n",
              "</table>\n",
              "</div>"
            ],
            "text/plain": [
              "     X  obs_freq\n",
              "0    0         0\n",
              "1    1         7\n",
              "2    2        60\n",
              "3    3       198\n",
              "4    4       430\n",
              "5    5       731\n",
              "6    6       948\n",
              "7    7       847\n",
              "8    8       536\n",
              "9    9       257\n",
              "10  10        71\n",
              "11  11        11\n",
              "12  12         0"
            ]
          },
          "metadata": {
            "tags": []
          },
          "execution_count": 13
        }
      ]
    },
    {
      "cell_type": "markdown",
      "metadata": {
        "id": "xA2pZvKdFe4e"
      },
      "source": [
        "$H_0: P = \\frac{1}{2}$ in 4096 repetitions\n",
        "\n",
        "Under $H_0$, the observed minus the expected number of successes should follow a normal distribution with mean 0 and variance $4096 \\times V(X)$."
      ]
    },
    {
      "cell_type": "code",
      "metadata": {
        "colab": {
          "base_uri": "https://localhost:8080/"
        },
        "id": "MH43uwQ4HwPj",
        "outputId": "71cda4f8-bfe0-449b-a318-abce04f0699c"
      },
      "source": [
        "# Declare random variable under H_0\n",
        "X = stats.binom(n=12, p=0.5)\n",
        "\n",
        "# Total number of successes in 4096 repetitions\n",
        "obs = (df['X'] * df['obs_freq']).sum()\n",
        "\n",
        "# Expected number of successes in 4096 repetitions\n",
        "exp = X.stats('m').item() * 4096\n",
        "\n",
        "# Variance in 4096 repetitions\n",
        "var = X.stats('v').item() * 4096\n",
        "\n",
        "# Calculate statistic\n",
        "z = (obs - exp) / np.sqrt(var)\n",
        "\n",
        "# Calculate p-value\n",
        "p_value = (1 - stats.norm(loc=0, scale=1).cdf(z)) * 2\n",
        "\n",
        "# Test\n",
        "test(alpha=0.05, p_value=p_value)"
      ],
      "execution_count": 14,
      "outputs": [
        {
          "output_type": "stream",
          "text": [
            "Reject null hypothesis with a significance level of 0.05\n"
          ],
          "name": "stdout"
        }
      ]
    },
    {
      "cell_type": "markdown",
      "metadata": {
        "id": "tT3B4HJIXCft"
      },
      "source": [
        "We need a $\\chi^2$ statistic to test the goodness of fit of a binomial distribution with probability of success equal to the observed proportion of successes."
      ]
    },
    {
      "cell_type": "code",
      "metadata": {
        "colab": {
          "base_uri": "https://localhost:8080/"
        },
        "id": "rJ7rbgSGXALD",
        "outputId": "b6c81157-d9c9-46ac-a41b-d49b4ee66adf"
      },
      "source": [
        "# Calculate observed proportion of successes\n",
        "p_obs = obs / 4096 / 12\n",
        "\n",
        "# Delcare binomial distribution with P = p_obs\n",
        "X = stats.binom(n=12, p=p_obs)\n",
        "\n",
        "# Declare expected number of successes in 4096 repetitions\n",
        "df['exp_freq'] = X.pmf(df['X']) * 4096\n",
        "\n",
        "# Chi-square test\n",
        "chi2_test = stats.chisquare(f_exp=df['exp_freq'], f_obs=df['obs_freq'])\n",
        "\n",
        "# Test H_0\n",
        "test(alpha=0.05, p_value=chi2_test[1])"
      ],
      "execution_count": 15,
      "outputs": [
        {
          "output_type": "stream",
          "text": [
            "Unable to reject the null hypothesis with a significance level of 0.05\n"
          ],
          "name": "stdout"
        }
      ]
    },
    {
      "cell_type": "markdown",
      "metadata": {
        "id": "VLepy0iKgOkx"
      },
      "source": [
        "# Exercise 9.7\n",
        "Test the goodness of fit of the Poisson distribution to the data: (a) in Table 13 on p. 92, (b) in Table 15 on p. 96, (c) in Exercise 6.6. In calculating $\\chi^2$ remember that no class should have an Expected value less than 5."
      ]
    },
    {
      "cell_type": "markdown",
      "metadata": {
        "id": "qcKag4L-NLa5"
      },
      "source": [
        "(a) $H_0:$ Deaths from horse kicks follow Poisson distribution with $\\mu = 0.7$"
      ]
    },
    {
      "cell_type": "code",
      "metadata": {
        "id": "j_rAnu7OgNpn",
        "colab": {
          "base_uri": "https://localhost:8080/",
          "height": 235
        },
        "outputId": "0478f56b-359c-4b5f-a15e-30a15c81ea53"
      },
      "source": [
        "df = pd.DataFrame({'deaths':range(6), 'obs':[144,91,32,11,2,0], 'exp':[139,97,34,8,1,0]})\n",
        "df"
      ],
      "execution_count": 16,
      "outputs": [
        {
          "output_type": "execute_result",
          "data": {
            "text/html": [
              "<div>\n",
              "<style scoped>\n",
              "    .dataframe tbody tr th:only-of-type {\n",
              "        vertical-align: middle;\n",
              "    }\n",
              "\n",
              "    .dataframe tbody tr th {\n",
              "        vertical-align: top;\n",
              "    }\n",
              "\n",
              "    .dataframe thead th {\n",
              "        text-align: right;\n",
              "    }\n",
              "</style>\n",
              "<table border=\"1\" class=\"dataframe\">\n",
              "  <thead>\n",
              "    <tr style=\"text-align: right;\">\n",
              "      <th></th>\n",
              "      <th>deaths</th>\n",
              "      <th>obs</th>\n",
              "      <th>exp</th>\n",
              "    </tr>\n",
              "  </thead>\n",
              "  <tbody>\n",
              "    <tr>\n",
              "      <th>0</th>\n",
              "      <td>0</td>\n",
              "      <td>144</td>\n",
              "      <td>139</td>\n",
              "    </tr>\n",
              "    <tr>\n",
              "      <th>1</th>\n",
              "      <td>1</td>\n",
              "      <td>91</td>\n",
              "      <td>97</td>\n",
              "    </tr>\n",
              "    <tr>\n",
              "      <th>2</th>\n",
              "      <td>2</td>\n",
              "      <td>32</td>\n",
              "      <td>34</td>\n",
              "    </tr>\n",
              "    <tr>\n",
              "      <th>3</th>\n",
              "      <td>3</td>\n",
              "      <td>11</td>\n",
              "      <td>8</td>\n",
              "    </tr>\n",
              "    <tr>\n",
              "      <th>4</th>\n",
              "      <td>4</td>\n",
              "      <td>2</td>\n",
              "      <td>1</td>\n",
              "    </tr>\n",
              "    <tr>\n",
              "      <th>5</th>\n",
              "      <td>5</td>\n",
              "      <td>0</td>\n",
              "      <td>0</td>\n",
              "    </tr>\n",
              "  </tbody>\n",
              "</table>\n",
              "</div>"
            ],
            "text/plain": [
              "   deaths  obs  exp\n",
              "0       0  144  139\n",
              "1       1   91   97\n",
              "2       2   32   34\n",
              "3       3   11    8\n",
              "4       4    2    1\n",
              "5       5    0    0"
            ]
          },
          "metadata": {
            "tags": []
          },
          "execution_count": 16
        }
      ]
    },
    {
      "cell_type": "code",
      "metadata": {
        "colab": {
          "base_uri": "https://localhost:8080/"
        },
        "id": "Z4tF5zTeLC9O",
        "outputId": "6a191808-d60f-40b8-f3ed-4aa38aa0e2b1"
      },
      "source": [
        "# Combine groups such that df['exp'] >= 5\n",
        "df = pd.concat([df[df['deaths'] <= 2],\n",
        "                df[df['deaths'] > 2].sum().to_frame().transpose()])\n",
        "\n",
        "# Chi-square test with ddof = 1 because mu wasestimated from data\n",
        "chi2_test = stats.chisquare(f_obs=df['obs'], f_exp=df['exp'], ddof=1)\n",
        "\n",
        "# Test H_0\n",
        "test(alpha=0.05, p_value=chi2_test[1])"
      ],
      "execution_count": 17,
      "outputs": [
        {
          "output_type": "stream",
          "text": [
            "Unable to reject the null hypothesis with a significance level of 0.05\n"
          ],
          "name": "stdout"
        }
      ]
    },
    {
      "cell_type": "markdown",
      "metadata": {
        "id": "wuDVHJx8Oy1J"
      },
      "source": [
        "(b) $H_0:$ Number of accidents follows Poisson with $\\mu = 0.47$"
      ]
    },
    {
      "cell_type": "code",
      "metadata": {
        "colab": {
          "base_uri": "https://localhost:8080/",
          "height": 266
        },
        "id": "pkSUuBuiPIsn",
        "outputId": "a54a1ef4-a220-48ce-a9b4-56a756c8160b"
      },
      "source": [
        "df = pd.DataFrame({'accidents':range(7), 'obs':[447,132,42,21,3,2,0], 'exp':[406,189,44,7,1,0,0]})\n",
        "df"
      ],
      "execution_count": 18,
      "outputs": [
        {
          "output_type": "execute_result",
          "data": {
            "text/html": [
              "<div>\n",
              "<style scoped>\n",
              "    .dataframe tbody tr th:only-of-type {\n",
              "        vertical-align: middle;\n",
              "    }\n",
              "\n",
              "    .dataframe tbody tr th {\n",
              "        vertical-align: top;\n",
              "    }\n",
              "\n",
              "    .dataframe thead th {\n",
              "        text-align: right;\n",
              "    }\n",
              "</style>\n",
              "<table border=\"1\" class=\"dataframe\">\n",
              "  <thead>\n",
              "    <tr style=\"text-align: right;\">\n",
              "      <th></th>\n",
              "      <th>accidents</th>\n",
              "      <th>obs</th>\n",
              "      <th>exp</th>\n",
              "    </tr>\n",
              "  </thead>\n",
              "  <tbody>\n",
              "    <tr>\n",
              "      <th>0</th>\n",
              "      <td>0</td>\n",
              "      <td>447</td>\n",
              "      <td>406</td>\n",
              "    </tr>\n",
              "    <tr>\n",
              "      <th>1</th>\n",
              "      <td>1</td>\n",
              "      <td>132</td>\n",
              "      <td>189</td>\n",
              "    </tr>\n",
              "    <tr>\n",
              "      <th>2</th>\n",
              "      <td>2</td>\n",
              "      <td>42</td>\n",
              "      <td>44</td>\n",
              "    </tr>\n",
              "    <tr>\n",
              "      <th>3</th>\n",
              "      <td>3</td>\n",
              "      <td>21</td>\n",
              "      <td>7</td>\n",
              "    </tr>\n",
              "    <tr>\n",
              "      <th>4</th>\n",
              "      <td>4</td>\n",
              "      <td>3</td>\n",
              "      <td>1</td>\n",
              "    </tr>\n",
              "    <tr>\n",
              "      <th>5</th>\n",
              "      <td>5</td>\n",
              "      <td>2</td>\n",
              "      <td>0</td>\n",
              "    </tr>\n",
              "    <tr>\n",
              "      <th>6</th>\n",
              "      <td>6</td>\n",
              "      <td>0</td>\n",
              "      <td>0</td>\n",
              "    </tr>\n",
              "  </tbody>\n",
              "</table>\n",
              "</div>"
            ],
            "text/plain": [
              "   accidents  obs  exp\n",
              "0          0  447  406\n",
              "1          1  132  189\n",
              "2          2   42   44\n",
              "3          3   21    7\n",
              "4          4    3    1\n",
              "5          5    2    0\n",
              "6          6    0    0"
            ]
          },
          "metadata": {
            "tags": []
          },
          "execution_count": 18
        }
      ]
    },
    {
      "cell_type": "code",
      "metadata": {
        "colab": {
          "base_uri": "https://localhost:8080/"
        },
        "id": "sIx48VehUeSX",
        "outputId": "b0030d75-f540-41c6-f05d-0d827ba4e387"
      },
      "source": [
        "# Combine groups such that df['exp'] is always >= 5\n",
        "df = pd.concat([df[df['exp'] > 7],\n",
        "                df[df['exp'] <= 7].sum().to_frame().transpose()])\n",
        "\n",
        "# Chi-square test (ddof = 1 because mu was estimated from data)\n",
        "chi2_test = stats.chisquare(f_obs=df['obs'], f_exp=df['exp'], ddof=1)\n",
        "\n",
        "# Test H_0\n",
        "test(alpha=0.05, p_value=chi2_test[1])"
      ],
      "execution_count": 19,
      "outputs": [
        {
          "output_type": "stream",
          "text": [
            "Reject null hypothesis with a significance level of 0.05\n"
          ],
          "name": "stdout"
        }
      ]
    },
    {
      "cell_type": "markdown",
      "metadata": {
        "id": "LEX3Yf24Vvd0"
      },
      "source": [
        "(c) $H_0:$ Yeast cells follow a Poisson distribution with $\\mu = 1.3$"
      ]
    },
    {
      "cell_type": "code",
      "metadata": {
        "colab": {
          "base_uri": "https://localhost:8080/",
          "height": 266
        },
        "id": "9ywRBXslVujJ",
        "outputId": "e2e40e4f-5beb-4540-b862-76bf369b08a4"
      },
      "source": [
        "df = pd.DataFrame({'cells':range(7), 'obs':[103,143,98,42,8,4,2]})\n",
        "df"
      ],
      "execution_count": 20,
      "outputs": [
        {
          "output_type": "execute_result",
          "data": {
            "text/html": [
              "<div>\n",
              "<style scoped>\n",
              "    .dataframe tbody tr th:only-of-type {\n",
              "        vertical-align: middle;\n",
              "    }\n",
              "\n",
              "    .dataframe tbody tr th {\n",
              "        vertical-align: top;\n",
              "    }\n",
              "\n",
              "    .dataframe thead th {\n",
              "        text-align: right;\n",
              "    }\n",
              "</style>\n",
              "<table border=\"1\" class=\"dataframe\">\n",
              "  <thead>\n",
              "    <tr style=\"text-align: right;\">\n",
              "      <th></th>\n",
              "      <th>cells</th>\n",
              "      <th>obs</th>\n",
              "    </tr>\n",
              "  </thead>\n",
              "  <tbody>\n",
              "    <tr>\n",
              "      <th>0</th>\n",
              "      <td>0</td>\n",
              "      <td>103</td>\n",
              "    </tr>\n",
              "    <tr>\n",
              "      <th>1</th>\n",
              "      <td>1</td>\n",
              "      <td>143</td>\n",
              "    </tr>\n",
              "    <tr>\n",
              "      <th>2</th>\n",
              "      <td>2</td>\n",
              "      <td>98</td>\n",
              "    </tr>\n",
              "    <tr>\n",
              "      <th>3</th>\n",
              "      <td>3</td>\n",
              "      <td>42</td>\n",
              "    </tr>\n",
              "    <tr>\n",
              "      <th>4</th>\n",
              "      <td>4</td>\n",
              "      <td>8</td>\n",
              "    </tr>\n",
              "    <tr>\n",
              "      <th>5</th>\n",
              "      <td>5</td>\n",
              "      <td>4</td>\n",
              "    </tr>\n",
              "    <tr>\n",
              "      <th>6</th>\n",
              "      <td>6</td>\n",
              "      <td>2</td>\n",
              "    </tr>\n",
              "  </tbody>\n",
              "</table>\n",
              "</div>"
            ],
            "text/plain": [
              "   cells  obs\n",
              "0      0  103\n",
              "1      1  143\n",
              "2      2   98\n",
              "3      3   42\n",
              "4      4    8\n",
              "5      5    4\n",
              "6      6    2"
            ]
          },
          "metadata": {
            "tags": []
          },
          "execution_count": 20
        }
      ]
    },
    {
      "cell_type": "code",
      "metadata": {
        "colab": {
          "base_uri": "https://localhost:8080/",
          "height": 266
        },
        "id": "4dyMmotDWtSI",
        "outputId": "079314dd-b2d2-4e95-c05f-2d0ef7abf5f3"
      },
      "source": [
        "# Calculate mean\n",
        "mu = (df['cells'] * df['obs']).sum() / df['obs'].sum()\n",
        "\n",
        "# Fit Poisson\n",
        "X = stats.poisson(mu=mu)\n",
        "df['exp'] = X.pmf(df['cells']) * df['obs'].sum()\n",
        "df"
      ],
      "execution_count": 21,
      "outputs": [
        {
          "output_type": "execute_result",
          "data": {
            "text/html": [
              "<div>\n",
              "<style scoped>\n",
              "    .dataframe tbody tr th:only-of-type {\n",
              "        vertical-align: middle;\n",
              "    }\n",
              "\n",
              "    .dataframe tbody tr th {\n",
              "        vertical-align: top;\n",
              "    }\n",
              "\n",
              "    .dataframe thead th {\n",
              "        text-align: right;\n",
              "    }\n",
              "</style>\n",
              "<table border=\"1\" class=\"dataframe\">\n",
              "  <thead>\n",
              "    <tr style=\"text-align: right;\">\n",
              "      <th></th>\n",
              "      <th>cells</th>\n",
              "      <th>obs</th>\n",
              "      <th>exp</th>\n",
              "    </tr>\n",
              "  </thead>\n",
              "  <tbody>\n",
              "    <tr>\n",
              "      <th>0</th>\n",
              "      <td>0</td>\n",
              "      <td>103</td>\n",
              "      <td>106.587319</td>\n",
              "    </tr>\n",
              "    <tr>\n",
              "      <th>1</th>\n",
              "      <td>1</td>\n",
              "      <td>143</td>\n",
              "      <td>140.961730</td>\n",
              "    </tr>\n",
              "    <tr>\n",
              "      <th>2</th>\n",
              "      <td>2</td>\n",
              "      <td>98</td>\n",
              "      <td>93.210944</td>\n",
              "    </tr>\n",
              "    <tr>\n",
              "      <th>3</th>\n",
              "      <td>3</td>\n",
              "      <td>42</td>\n",
              "      <td>41.090491</td>\n",
              "    </tr>\n",
              "    <tr>\n",
              "      <th>4</th>\n",
              "      <td>4</td>\n",
              "      <td>8</td>\n",
              "      <td>13.585544</td>\n",
              "    </tr>\n",
              "    <tr>\n",
              "      <th>5</th>\n",
              "      <td>5</td>\n",
              "      <td>4</td>\n",
              "      <td>3.593376</td>\n",
              "    </tr>\n",
              "    <tr>\n",
              "      <th>6</th>\n",
              "      <td>6</td>\n",
              "      <td>2</td>\n",
              "      <td>0.792040</td>\n",
              "    </tr>\n",
              "  </tbody>\n",
              "</table>\n",
              "</div>"
            ],
            "text/plain": [
              "   cells  obs         exp\n",
              "0      0  103  106.587319\n",
              "1      1  143  140.961730\n",
              "2      2   98   93.210944\n",
              "3      3   42   41.090491\n",
              "4      4    8   13.585544\n",
              "5      5    4    3.593376\n",
              "6      6    2    0.792040"
            ]
          },
          "metadata": {
            "tags": []
          },
          "execution_count": 21
        }
      ]
    },
    {
      "cell_type": "code",
      "metadata": {
        "colab": {
          "base_uri": "https://localhost:8080/"
        },
        "id": "G74Nu4iCYSdL",
        "outputId": "264d2378-1964-4e4d-be00-45cb636aa612"
      },
      "source": [
        "# Group classes together such that df['exp'] always >= 5\n",
        "df = pd.concat([df[df['exp'] > 41],\n",
        "                df[df['exp'] < 41].sum().to_frame().transpose()])\n",
        "\n",
        "# Chi-square test (ddof = 1 because mu was estimated from data)\n",
        "chi2_test = stats.chisquare(f_obs=df['obs'], f_exp=df['exp'], ddof=1)\n",
        "\n",
        "# Test H_0\n",
        "test(alpha=0.05, p_value=chi2_test[1])"
      ],
      "execution_count": 22,
      "outputs": [
        {
          "output_type": "stream",
          "text": [
            "Unable to reject the null hypothesis with a significance level of 0.05\n"
          ],
          "name": "stdout"
        }
      ]
    },
    {
      "cell_type": "markdown",
      "metadata": {
        "id": "HfT9RTgMZ2q-"
      },
      "source": [
        "# Exercise 9.8\n",
        "Test the goodness of fit of the normal distribution (a) to the data in Table 17 on p.113, (b) to the distribution of head breadth in Table 10 on p.40 (see Exercise 7.4).\n",
        "\n",
        "---\n",
        "\n",
        "(a) $H_0: X \\sim N(\\mu=65.535, \\sigma=2.557)$"
      ]
    },
    {
      "cell_type": "code",
      "metadata": {
        "id": "SeHRJYZqZ1gj",
        "colab": {
          "base_uri": "https://localhost:8080/",
          "height": 762
        },
        "outputId": "139c459d-fc77-4818-c6e0-6aeaf370ad51"
      },
      "source": [
        "df = pd.DataFrame({'height':range(55, 78),\n",
        "                   'obs':[0,1,1,6,23,48,90,175,317,393,462,458,413,264,177,97,46,17,7,4,0,0,1],\n",
        "                   'exp':[0,1,2,7,20,48,103,187,293,395,458,455,390,287,182,99,46,19,6,2,1,0,0]})\n",
        "df"
      ],
      "execution_count": 23,
      "outputs": [
        {
          "output_type": "execute_result",
          "data": {
            "text/html": [
              "<div>\n",
              "<style scoped>\n",
              "    .dataframe tbody tr th:only-of-type {\n",
              "        vertical-align: middle;\n",
              "    }\n",
              "\n",
              "    .dataframe tbody tr th {\n",
              "        vertical-align: top;\n",
              "    }\n",
              "\n",
              "    .dataframe thead th {\n",
              "        text-align: right;\n",
              "    }\n",
              "</style>\n",
              "<table border=\"1\" class=\"dataframe\">\n",
              "  <thead>\n",
              "    <tr style=\"text-align: right;\">\n",
              "      <th></th>\n",
              "      <th>height</th>\n",
              "      <th>obs</th>\n",
              "      <th>exp</th>\n",
              "    </tr>\n",
              "  </thead>\n",
              "  <tbody>\n",
              "    <tr>\n",
              "      <th>0</th>\n",
              "      <td>55</td>\n",
              "      <td>0</td>\n",
              "      <td>0</td>\n",
              "    </tr>\n",
              "    <tr>\n",
              "      <th>1</th>\n",
              "      <td>56</td>\n",
              "      <td>1</td>\n",
              "      <td>1</td>\n",
              "    </tr>\n",
              "    <tr>\n",
              "      <th>2</th>\n",
              "      <td>57</td>\n",
              "      <td>1</td>\n",
              "      <td>2</td>\n",
              "    </tr>\n",
              "    <tr>\n",
              "      <th>3</th>\n",
              "      <td>58</td>\n",
              "      <td>6</td>\n",
              "      <td>7</td>\n",
              "    </tr>\n",
              "    <tr>\n",
              "      <th>4</th>\n",
              "      <td>59</td>\n",
              "      <td>23</td>\n",
              "      <td>20</td>\n",
              "    </tr>\n",
              "    <tr>\n",
              "      <th>5</th>\n",
              "      <td>60</td>\n",
              "      <td>48</td>\n",
              "      <td>48</td>\n",
              "    </tr>\n",
              "    <tr>\n",
              "      <th>6</th>\n",
              "      <td>61</td>\n",
              "      <td>90</td>\n",
              "      <td>103</td>\n",
              "    </tr>\n",
              "    <tr>\n",
              "      <th>7</th>\n",
              "      <td>62</td>\n",
              "      <td>175</td>\n",
              "      <td>187</td>\n",
              "    </tr>\n",
              "    <tr>\n",
              "      <th>8</th>\n",
              "      <td>63</td>\n",
              "      <td>317</td>\n",
              "      <td>293</td>\n",
              "    </tr>\n",
              "    <tr>\n",
              "      <th>9</th>\n",
              "      <td>64</td>\n",
              "      <td>393</td>\n",
              "      <td>395</td>\n",
              "    </tr>\n",
              "    <tr>\n",
              "      <th>10</th>\n",
              "      <td>65</td>\n",
              "      <td>462</td>\n",
              "      <td>458</td>\n",
              "    </tr>\n",
              "    <tr>\n",
              "      <th>11</th>\n",
              "      <td>66</td>\n",
              "      <td>458</td>\n",
              "      <td>455</td>\n",
              "    </tr>\n",
              "    <tr>\n",
              "      <th>12</th>\n",
              "      <td>67</td>\n",
              "      <td>413</td>\n",
              "      <td>390</td>\n",
              "    </tr>\n",
              "    <tr>\n",
              "      <th>13</th>\n",
              "      <td>68</td>\n",
              "      <td>264</td>\n",
              "      <td>287</td>\n",
              "    </tr>\n",
              "    <tr>\n",
              "      <th>14</th>\n",
              "      <td>69</td>\n",
              "      <td>177</td>\n",
              "      <td>182</td>\n",
              "    </tr>\n",
              "    <tr>\n",
              "      <th>15</th>\n",
              "      <td>70</td>\n",
              "      <td>97</td>\n",
              "      <td>99</td>\n",
              "    </tr>\n",
              "    <tr>\n",
              "      <th>16</th>\n",
              "      <td>71</td>\n",
              "      <td>46</td>\n",
              "      <td>46</td>\n",
              "    </tr>\n",
              "    <tr>\n",
              "      <th>17</th>\n",
              "      <td>72</td>\n",
              "      <td>17</td>\n",
              "      <td>19</td>\n",
              "    </tr>\n",
              "    <tr>\n",
              "      <th>18</th>\n",
              "      <td>73</td>\n",
              "      <td>7</td>\n",
              "      <td>6</td>\n",
              "    </tr>\n",
              "    <tr>\n",
              "      <th>19</th>\n",
              "      <td>74</td>\n",
              "      <td>4</td>\n",
              "      <td>2</td>\n",
              "    </tr>\n",
              "    <tr>\n",
              "      <th>20</th>\n",
              "      <td>75</td>\n",
              "      <td>0</td>\n",
              "      <td>1</td>\n",
              "    </tr>\n",
              "    <tr>\n",
              "      <th>21</th>\n",
              "      <td>76</td>\n",
              "      <td>0</td>\n",
              "      <td>0</td>\n",
              "    </tr>\n",
              "    <tr>\n",
              "      <th>22</th>\n",
              "      <td>77</td>\n",
              "      <td>1</td>\n",
              "      <td>0</td>\n",
              "    </tr>\n",
              "  </tbody>\n",
              "</table>\n",
              "</div>"
            ],
            "text/plain": [
              "    height  obs  exp\n",
              "0       55    0    0\n",
              "1       56    1    1\n",
              "2       57    1    2\n",
              "3       58    6    7\n",
              "4       59   23   20\n",
              "5       60   48   48\n",
              "6       61   90  103\n",
              "7       62  175  187\n",
              "8       63  317  293\n",
              "9       64  393  395\n",
              "10      65  462  458\n",
              "11      66  458  455\n",
              "12      67  413  390\n",
              "13      68  264  287\n",
              "14      69  177  182\n",
              "15      70   97   99\n",
              "16      71   46   46\n",
              "17      72   17   19\n",
              "18      73    7    6\n",
              "19      74    4    2\n",
              "20      75    0    1\n",
              "21      76    0    0\n",
              "22      77    1    0"
            ]
          },
          "metadata": {
            "tags": []
          },
          "execution_count": 23
        }
      ]
    },
    {
      "cell_type": "code",
      "metadata": {
        "colab": {
          "base_uri": "https://localhost:8080/"
        },
        "id": "Y_rLLAtxhyrM",
        "outputId": "98d62365-dfec-45a3-dad0-d833727f9959"
      },
      "source": [
        "# Group classes together so all heights have values ≥ 5\n",
        "df = pd.concat([df[df['height'] <= 58].sum().to_frame().transpose(),\n",
        "                df[(df['height'] > 58) & (df['height'] < 73)],\n",
        "                df[df['height'] >= 73].sum().to_frame().transpose()], axis=0)\n",
        "\n",
        "# Chi-square test\n",
        "chi2_test = stats.chisquare(f_obs=df['obs'], f_exp=df['exp'], ddof=2)\n",
        "\n",
        "# Test H_0\n",
        "test(alpha=0.05, p_value=chi2_test[1])"
      ],
      "execution_count": 24,
      "outputs": [
        {
          "output_type": "stream",
          "text": [
            "Unable to reject the null hypothesis with a significance level of 0.05\n"
          ],
          "name": "stdout"
        }
      ]
    },
    {
      "cell_type": "markdown",
      "metadata": {
        "id": "hmqCfIdqmhOM"
      },
      "source": [
        "(b) $H_0: X \\sim N(\\mu_0, \\sigma^2_0)$"
      ]
    },
    {
      "cell_type": "code",
      "metadata": {
        "colab": {
          "base_uri": "https://localhost:8080/",
          "height": 297
        },
        "id": "cIy5n1QcmnQK",
        "outputId": "2bf987ec-a6b2-496f-8597-ca3ac314dcbb"
      },
      "source": [
        "df = pd.DataFrame({'breadth':np.arange(start=13, stop=17, step=0.5),\n",
        "                   'obs':[1,37,291,971,1064,525,98,13]})\n",
        "df"
      ],
      "execution_count": 25,
      "outputs": [
        {
          "output_type": "execute_result",
          "data": {
            "text/html": [
              "<div>\n",
              "<style scoped>\n",
              "    .dataframe tbody tr th:only-of-type {\n",
              "        vertical-align: middle;\n",
              "    }\n",
              "\n",
              "    .dataframe tbody tr th {\n",
              "        vertical-align: top;\n",
              "    }\n",
              "\n",
              "    .dataframe thead th {\n",
              "        text-align: right;\n",
              "    }\n",
              "</style>\n",
              "<table border=\"1\" class=\"dataframe\">\n",
              "  <thead>\n",
              "    <tr style=\"text-align: right;\">\n",
              "      <th></th>\n",
              "      <th>breadth</th>\n",
              "      <th>obs</th>\n",
              "    </tr>\n",
              "  </thead>\n",
              "  <tbody>\n",
              "    <tr>\n",
              "      <th>0</th>\n",
              "      <td>13.0</td>\n",
              "      <td>1</td>\n",
              "    </tr>\n",
              "    <tr>\n",
              "      <th>1</th>\n",
              "      <td>13.5</td>\n",
              "      <td>37</td>\n",
              "    </tr>\n",
              "    <tr>\n",
              "      <th>2</th>\n",
              "      <td>14.0</td>\n",
              "      <td>291</td>\n",
              "    </tr>\n",
              "    <tr>\n",
              "      <th>3</th>\n",
              "      <td>14.5</td>\n",
              "      <td>971</td>\n",
              "    </tr>\n",
              "    <tr>\n",
              "      <th>4</th>\n",
              "      <td>15.0</td>\n",
              "      <td>1064</td>\n",
              "    </tr>\n",
              "    <tr>\n",
              "      <th>5</th>\n",
              "      <td>15.5</td>\n",
              "      <td>525</td>\n",
              "    </tr>\n",
              "    <tr>\n",
              "      <th>6</th>\n",
              "      <td>16.0</td>\n",
              "      <td>98</td>\n",
              "    </tr>\n",
              "    <tr>\n",
              "      <th>7</th>\n",
              "      <td>16.5</td>\n",
              "      <td>13</td>\n",
              "    </tr>\n",
              "  </tbody>\n",
              "</table>\n",
              "</div>"
            ],
            "text/plain": [
              "   breadth   obs\n",
              "0     13.0     1\n",
              "1     13.5    37\n",
              "2     14.0   291\n",
              "3     14.5   971\n",
              "4     15.0  1064\n",
              "5     15.5   525\n",
              "6     16.0    98\n",
              "7     16.5    13"
            ]
          },
          "metadata": {
            "tags": []
          },
          "execution_count": 25
        }
      ]
    },
    {
      "cell_type": "code",
      "metadata": {
        "colab": {
          "base_uri": "https://localhost:8080/",
          "height": 297
        },
        "id": "RVhHSi_KntNi",
        "outputId": "2606fcfc-b693-4b7a-d654-5bcce0115212"
      },
      "source": [
        "# Calculate observed parameters\n",
        "mu_0 = (df['breadth'].add(0.25) * df['obs']).sum() / df['obs'].sum()\n",
        "s_0 = ((df['breadth'].add(0.25) - mu_0).pow(2) * df['obs']).sum() / (df['obs'].sum() - 1)\n",
        "\n",
        "# Declare random variable under H_0\n",
        "X = stats.norm(loc=mu_0, scale=np.sqrt(s_0))\n",
        "\n",
        "# Calculate expected frequencies using the CDF\n",
        "limits = np.arange(start=13, stop=17.5, step=0.5)\n",
        "df['exp'] = ((X.cdf(x=limits[1:]) - X.cdf(x=limits[:-1])) * 3000)\n",
        "\n",
        "# Visualize df\n",
        "df"
      ],
      "execution_count": 26,
      "outputs": [
        {
          "output_type": "execute_result",
          "data": {
            "text/html": [
              "<div>\n",
              "<style scoped>\n",
              "    .dataframe tbody tr th:only-of-type {\n",
              "        vertical-align: middle;\n",
              "    }\n",
              "\n",
              "    .dataframe tbody tr th {\n",
              "        vertical-align: top;\n",
              "    }\n",
              "\n",
              "    .dataframe thead th {\n",
              "        text-align: right;\n",
              "    }\n",
              "</style>\n",
              "<table border=\"1\" class=\"dataframe\">\n",
              "  <thead>\n",
              "    <tr style=\"text-align: right;\">\n",
              "      <th></th>\n",
              "      <th>breadth</th>\n",
              "      <th>obs</th>\n",
              "      <th>exp</th>\n",
              "    </tr>\n",
              "  </thead>\n",
              "  <tbody>\n",
              "    <tr>\n",
              "      <th>0</th>\n",
              "      <td>13.0</td>\n",
              "      <td>1</td>\n",
              "      <td>3.080145</td>\n",
              "    </tr>\n",
              "    <tr>\n",
              "      <th>1</th>\n",
              "      <td>13.5</td>\n",
              "      <td>37</td>\n",
              "      <td>48.740006</td>\n",
              "    </tr>\n",
              "    <tr>\n",
              "      <th>2</th>\n",
              "      <td>14.0</td>\n",
              "      <td>291</td>\n",
              "      <td>322.463611</td>\n",
              "    </tr>\n",
              "    <tr>\n",
              "      <th>3</th>\n",
              "      <td>14.5</td>\n",
              "      <td>971</td>\n",
              "      <td>899.881298</td>\n",
              "    </tr>\n",
              "    <tr>\n",
              "      <th>4</th>\n",
              "      <td>15.0</td>\n",
              "      <td>1064</td>\n",
              "      <td>1065.456632</td>\n",
              "    </tr>\n",
              "    <tr>\n",
              "      <th>5</th>\n",
              "      <td>15.5</td>\n",
              "      <td>525</td>\n",
              "      <td>535.780600</td>\n",
              "    </tr>\n",
              "    <tr>\n",
              "      <th>6</th>\n",
              "      <td>16.0</td>\n",
              "      <td>98</td>\n",
              "      <td>113.960982</td>\n",
              "    </tr>\n",
              "    <tr>\n",
              "      <th>7</th>\n",
              "      <td>16.5</td>\n",
              "      <td>13</td>\n",
              "      <td>10.172049</td>\n",
              "    </tr>\n",
              "  </tbody>\n",
              "</table>\n",
              "</div>"
            ],
            "text/plain": [
              "   breadth   obs          exp\n",
              "0     13.0     1     3.080145\n",
              "1     13.5    37    48.740006\n",
              "2     14.0   291   322.463611\n",
              "3     14.5   971   899.881298\n",
              "4     15.0  1064  1065.456632\n",
              "5     15.5   525   535.780600\n",
              "6     16.0    98   113.960982\n",
              "7     16.5    13    10.172049"
            ]
          },
          "metadata": {
            "tags": []
          },
          "execution_count": 26
        }
      ]
    },
    {
      "cell_type": "code",
      "metadata": {
        "colab": {
          "base_uri": "https://localhost:8080/"
        },
        "id": "dyZ3cmxIv8Ts",
        "outputId": "abcd4903-fbc0-4433-927d-40b1ab2fb813"
      },
      "source": [
        "# Group classes together to have exp ≥ 5\n",
        "df = pd.concat([df[:2].sum().to_frame().transpose(), df[2:]])\n",
        "\n",
        "# Chi-square test\n",
        "chi2_test = stats.chisquare(f_obs=df['obs'], f_exp=df['exp'], ddof=2)\n",
        "\n",
        "# Test H_0\n",
        "test(alpha=0.05, p_value=chi2_test[1])"
      ],
      "execution_count": 27,
      "outputs": [
        {
          "output_type": "stream",
          "text": [
            "Reject null hypothesis with a significance level of 0.05\n"
          ],
          "name": "stdout"
        }
      ]
    },
    {
      "cell_type": "markdown",
      "metadata": {
        "id": "kGZKxVX_Ci9X"
      },
      "source": [
        "# Exercise 9.9\n",
        "Use the data in Table 3 on p. 18 to test (a) whether the red die is unbiased, (b) whether the white die is unbiased, (c) whether the two dice are independent."
      ]
    },
    {
      "cell_type": "code",
      "metadata": {
        "colab": {
          "base_uri": "https://localhost:8080/",
          "height": 235
        },
        "id": "H6lnipF7C784",
        "outputId": "7ac25c91-71b7-47c9-f27c-a3962e388857"
      },
      "source": [
        "df = pd.DataFrame({'w1':[547,609,514,462,551,563], 'w2':[587,655,540,507,562,598],\n",
        "                   'w3':[500,497,468,414,499,519], 'w4':[462,535,438,413,506,487],\n",
        "                   'w5':[621,651,587,509,658,609], 'w6':[690,684,629,611,672,646]},\n",
        "                  index=['r1','r2','r3','r4','r5','r6'])\n",
        "df"
      ],
      "execution_count": 28,
      "outputs": [
        {
          "output_type": "execute_result",
          "data": {
            "text/html": [
              "<div>\n",
              "<style scoped>\n",
              "    .dataframe tbody tr th:only-of-type {\n",
              "        vertical-align: middle;\n",
              "    }\n",
              "\n",
              "    .dataframe tbody tr th {\n",
              "        vertical-align: top;\n",
              "    }\n",
              "\n",
              "    .dataframe thead th {\n",
              "        text-align: right;\n",
              "    }\n",
              "</style>\n",
              "<table border=\"1\" class=\"dataframe\">\n",
              "  <thead>\n",
              "    <tr style=\"text-align: right;\">\n",
              "      <th></th>\n",
              "      <th>w1</th>\n",
              "      <th>w2</th>\n",
              "      <th>w3</th>\n",
              "      <th>w4</th>\n",
              "      <th>w5</th>\n",
              "      <th>w6</th>\n",
              "    </tr>\n",
              "  </thead>\n",
              "  <tbody>\n",
              "    <tr>\n",
              "      <th>r1</th>\n",
              "      <td>547</td>\n",
              "      <td>587</td>\n",
              "      <td>500</td>\n",
              "      <td>462</td>\n",
              "      <td>621</td>\n",
              "      <td>690</td>\n",
              "    </tr>\n",
              "    <tr>\n",
              "      <th>r2</th>\n",
              "      <td>609</td>\n",
              "      <td>655</td>\n",
              "      <td>497</td>\n",
              "      <td>535</td>\n",
              "      <td>651</td>\n",
              "      <td>684</td>\n",
              "    </tr>\n",
              "    <tr>\n",
              "      <th>r3</th>\n",
              "      <td>514</td>\n",
              "      <td>540</td>\n",
              "      <td>468</td>\n",
              "      <td>438</td>\n",
              "      <td>587</td>\n",
              "      <td>629</td>\n",
              "    </tr>\n",
              "    <tr>\n",
              "      <th>r4</th>\n",
              "      <td>462</td>\n",
              "      <td>507</td>\n",
              "      <td>414</td>\n",
              "      <td>413</td>\n",
              "      <td>509</td>\n",
              "      <td>611</td>\n",
              "    </tr>\n",
              "    <tr>\n",
              "      <th>r5</th>\n",
              "      <td>551</td>\n",
              "      <td>562</td>\n",
              "      <td>499</td>\n",
              "      <td>506</td>\n",
              "      <td>658</td>\n",
              "      <td>672</td>\n",
              "    </tr>\n",
              "    <tr>\n",
              "      <th>r6</th>\n",
              "      <td>563</td>\n",
              "      <td>598</td>\n",
              "      <td>519</td>\n",
              "      <td>487</td>\n",
              "      <td>609</td>\n",
              "      <td>646</td>\n",
              "    </tr>\n",
              "  </tbody>\n",
              "</table>\n",
              "</div>"
            ],
            "text/plain": [
              "     w1   w2   w3   w4   w5   w6\n",
              "r1  547  587  500  462  621  690\n",
              "r2  609  655  497  535  651  684\n",
              "r3  514  540  468  438  587  629\n",
              "r4  462  507  414  413  509  611\n",
              "r5  551  562  499  506  658  672\n",
              "r6  563  598  519  487  609  646"
            ]
          },
          "metadata": {
            "tags": []
          },
          "execution_count": 28
        }
      ]
    },
    {
      "cell_type": "markdown",
      "metadata": {
        "id": "y7YjmUhkGKl2"
      },
      "source": [
        "(a) If the red die is unbiased, the number of successes of each class should follow a binomial distribution with probability $\\frac{1}{6}$.\n",
        "\n",
        "$H_0:$ Red die is unbiased"
      ]
    },
    {
      "cell_type": "code",
      "metadata": {
        "colab": {
          "base_uri": "https://localhost:8080/"
        },
        "id": "xLBYdcb0EOnK",
        "outputId": "32ed87db-76f4-4360-b1a0-d43fc093707e"
      },
      "source": [
        "# Number of observations\n",
        "n = df.sum().sum()\n",
        "\n",
        "# Get observed and expected marginal distributions\n",
        "red = df.sum().to_frame().rename(columns={0:'obs'})\n",
        "red['exp'] = n / 6\n",
        "\n",
        "# Chi-square test\n",
        "chi2_test = stats.chisquare(red['obs'], red['exp'], ddof=0)\n",
        "\n",
        "# Test H_0\n",
        "test(alpha=0.05, p_value=chi2_test[1])"
      ],
      "execution_count": 29,
      "outputs": [
        {
          "output_type": "stream",
          "text": [
            "Reject null hypothesis with a significance level of 0.05\n"
          ],
          "name": "stdout"
        }
      ]
    },
    {
      "cell_type": "markdown",
      "metadata": {
        "id": "qLW8skAbLt_n"
      },
      "source": [
        "(b) Likewise, if the white die is unbalanced, the number of successes of each class should follow a binomial distribution with probability $\\frac{1}{6}$.\n",
        "\n",
        "$H_0:$ White die is unbiased"
      ]
    },
    {
      "cell_type": "code",
      "metadata": {
        "colab": {
          "base_uri": "https://localhost:8080/"
        },
        "id": "EUPvdi95LM1F",
        "outputId": "888cba46-008d-407d-84dc-001e14f19b85"
      },
      "source": [
        "# Get observed and expected marginal distributions\n",
        "white = df.sum().to_frame().rename(columns={0:'obs'})\n",
        "white['exp'] = n / 6\n",
        "\n",
        "# Chi-square test\n",
        "chi2_test = stats.chisquare(f_obs=white['obs'], f_exp=white['exp'], ddof=0)\n",
        "\n",
        "# Test H_0\n",
        "test(alpha=0.05, p_value=chi2_test[1])"
      ],
      "execution_count": 30,
      "outputs": [
        {
          "output_type": "stream",
          "text": [
            "Reject null hypothesis with a significance level of 0.05\n"
          ],
          "name": "stdout"
        }
      ]
    },
    {
      "cell_type": "markdown",
      "metadata": {
        "id": "DsJeFc99MhQn"
      },
      "source": [
        "(c) We can use the contingency table to test whether the two die are independent. If they are independent, the conditional distributions should be equal to the marginal distributions.\n",
        "\n",
        "If $A$ and $B$ are independent events, then $P(A|B) = P(A)$ and $P(B|A) = P(B)$\n",
        "\n",
        "There are six classes per die. We have to estimate five independent probability parameters for each die. Hence, the $\\chi^2$ statistic will follow the $\\chi^2$ distribution with $36 - 1 - 5 - 5 = 25$ degrees of freedom.\n",
        "\n",
        "$H_0:$ Red and White dice are independent."
      ]
    },
    {
      "cell_type": "code",
      "metadata": {
        "colab": {
          "base_uri": "https://localhost:8080/"
        },
        "id": "TJIYlZlAMgZa",
        "outputId": "28d875de-459e-4442-fa6e-6b7c5d4b25a4"
      },
      "source": [
        "# Use contingency table to do test\n",
        "chi2_test = stats.chi2_contingency(observed=df, correction=True, lambda_=None)\n",
        "\n",
        "# Test H_0\n",
        "test(alpha=0.05, p_value=chi2_test[1])"
      ],
      "execution_count": 31,
      "outputs": [
        {
          "output_type": "stream",
          "text": [
            "Unable to reject the null hypothesis with a significance level of 0.05\n"
          ],
          "name": "stdout"
        }
      ]
    },
    {
      "cell_type": "markdown",
      "metadata": {
        "id": "BRrNZUiBuFPI"
      },
      "source": [
        "# Exercise 9.10\n",
        "Consider a typical $2 \\times 2$ contingency table:\n",
        "\n",
        "|         | A     | Not A | Total |\n",
        "|---------|-------|-------|-------|\n",
        "|     B   | a     |    b  | a + b |\n",
        "| Not B   | c     |    d  | c + d |\n",
        "|**Total**|**a+c**|**b+d**| **n** |\n",
        "\n",
        "Show that the $\\chi^2$ criterion for testing independence is given by the formula\n",
        "\n",
        "$\\chi^2 = \\frac{n(ad - bc)^2}{(a + b)(c + d)(a + c)(b + d)}$"
      ]
    },
    {
      "cell_type": "markdown",
      "metadata": {
        "id": "xvr6cTuSeiE4"
      },
      "source": [
        "# Exercise 9.11\n",
        "Fisher quotes the following data of Lange on the frequency of criminality among monozygotic and dizygotic twins of criminals:"
      ]
    },
    {
      "cell_type": "code",
      "metadata": {
        "colab": {
          "base_uri": "https://localhost:8080/",
          "height": 111
        },
        "id": "BeqlimFbisfj",
        "outputId": "41aaf600-b2b0-4083-c341-c16eea3cff44"
      },
      "source": [
        "obs = pd.DataFrame({'Convicted':[10, 2], 'Not_convicted':[3, 15]},\n",
        "                   index=['Monozygotic','Dizygotic'])\n",
        "obs"
      ],
      "execution_count": 32,
      "outputs": [
        {
          "output_type": "execute_result",
          "data": {
            "text/html": [
              "<div>\n",
              "<style scoped>\n",
              "    .dataframe tbody tr th:only-of-type {\n",
              "        vertical-align: middle;\n",
              "    }\n",
              "\n",
              "    .dataframe tbody tr th {\n",
              "        vertical-align: top;\n",
              "    }\n",
              "\n",
              "    .dataframe thead th {\n",
              "        text-align: right;\n",
              "    }\n",
              "</style>\n",
              "<table border=\"1\" class=\"dataframe\">\n",
              "  <thead>\n",
              "    <tr style=\"text-align: right;\">\n",
              "      <th></th>\n",
              "      <th>Convicted</th>\n",
              "      <th>Not_convicted</th>\n",
              "    </tr>\n",
              "  </thead>\n",
              "  <tbody>\n",
              "    <tr>\n",
              "      <th>Monozygotic</th>\n",
              "      <td>10</td>\n",
              "      <td>3</td>\n",
              "    </tr>\n",
              "    <tr>\n",
              "      <th>Dizygotic</th>\n",
              "      <td>2</td>\n",
              "      <td>15</td>\n",
              "    </tr>\n",
              "  </tbody>\n",
              "</table>\n",
              "</div>"
            ],
            "text/plain": [
              "             Convicted  Not_convicted\n",
              "Monozygotic         10              3\n",
              "Dizygotic            2             15"
            ]
          },
          "metadata": {
            "tags": []
          },
          "execution_count": 32
        }
      ]
    },
    {
      "cell_type": "markdown",
      "metadata": {
        "id": "ctydIta2izNC"
      },
      "source": [
        "Test whether monozygotic twins of criminals are more likely to be criminals themselves than are dizygoric twins by calculating $\\chi^2$ (a) from the formula, $\\chi^2 = \\sum \\frac{(O - E)^2}{E}$, (b) from the formula in the previous exercise."
      ]
    },
    {
      "cell_type": "code",
      "metadata": {
        "id": "1AQnVKULuDUG",
        "colab": {
          "base_uri": "https://localhost:8080/",
          "height": 111
        },
        "outputId": "944260e6-7131-4378-caa4-025f1a201242"
      },
      "source": [
        "# Declare observed proportions\n",
        "p_con = 12 / 30\n",
        "p_mon = 13 / 30\n",
        "\n",
        "# Calculate expected values\n",
        "exp = pd.DataFrame({'Convicted':[p_con * p_mon, p_con * (1 - p_mon)],\n",
        "                    'Not_convicted':[(1 - p_con) * p_mon, (1 - p_con) * (1 - p_mon)]},\n",
        "                   index=['Monozygotic','Dizygotic']) * 30\n",
        "exp"
      ],
      "execution_count": 33,
      "outputs": [
        {
          "output_type": "execute_result",
          "data": {
            "text/html": [
              "<div>\n",
              "<style scoped>\n",
              "    .dataframe tbody tr th:only-of-type {\n",
              "        vertical-align: middle;\n",
              "    }\n",
              "\n",
              "    .dataframe tbody tr th {\n",
              "        vertical-align: top;\n",
              "    }\n",
              "\n",
              "    .dataframe thead th {\n",
              "        text-align: right;\n",
              "    }\n",
              "</style>\n",
              "<table border=\"1\" class=\"dataframe\">\n",
              "  <thead>\n",
              "    <tr style=\"text-align: right;\">\n",
              "      <th></th>\n",
              "      <th>Convicted</th>\n",
              "      <th>Not_convicted</th>\n",
              "    </tr>\n",
              "  </thead>\n",
              "  <tbody>\n",
              "    <tr>\n",
              "      <th>Monozygotic</th>\n",
              "      <td>5.2</td>\n",
              "      <td>7.8</td>\n",
              "    </tr>\n",
              "    <tr>\n",
              "      <th>Dizygotic</th>\n",
              "      <td>6.8</td>\n",
              "      <td>10.2</td>\n",
              "    </tr>\n",
              "  </tbody>\n",
              "</table>\n",
              "</div>"
            ],
            "text/plain": [
              "             Convicted  Not_convicted\n",
              "Monozygotic        5.2            7.8\n",
              "Dizygotic          6.8           10.2"
            ]
          },
          "metadata": {
            "tags": []
          },
          "execution_count": 33
        }
      ]
    },
    {
      "cell_type": "markdown",
      "metadata": {
        "id": "IjHeyXAZi5MH"
      },
      "source": [
        "(a) Calculate the $\\chi^2$ statistic with original formula"
      ]
    },
    {
      "cell_type": "code",
      "metadata": {
        "id": "AFK_tLxZu16e"
      },
      "source": [
        "chi2_formula_1 = (obs - exp).pow(2).div(exp).sum().sum()"
      ],
      "execution_count": 34,
      "outputs": []
    },
    {
      "cell_type": "markdown",
      "metadata": {
        "id": "X85xT37EjeEH"
      },
      "source": [
        "(b) Calculate the $\\chi^2$ with the formula from Exercise 9.10"
      ]
    },
    {
      "cell_type": "code",
      "metadata": {
        "id": "jMdSpGvWjdCh"
      },
      "source": [
        "# Declare variables\n",
        "a, b, c, d = 10, 3, 2, 15\n",
        "n = np.sum([a, b, c, d])\n",
        "\n",
        "# Use formula\n",
        "chi2_formula_2 = (n * ((a * d) - (b * c))**2) / ((a + b) * (c + d) * (a + c) * (b + d))"
      ],
      "execution_count": 35,
      "outputs": []
    },
    {
      "cell_type": "markdown",
      "metadata": {
        "id": "EbnYWiLvpCJ0"
      },
      "source": [
        "We estimated two parameters (`p_con` and `p_mon`). The $\\chi^2$ statistic will therefore follow a $\\chi^2$ distribution with $4 - 1 - 2 = 1$ degree of freedom."
      ]
    },
    {
      "cell_type": "code",
      "metadata": {
        "colab": {
          "base_uri": "https://localhost:8080/"
        },
        "id": "a_AC7HaFpQ1E",
        "outputId": "3fd3b809-3219-4353-d5d0-6b3a24616d6d"
      },
      "source": [
        "# Declare chi2 RV\n",
        "X = stats.chi2(df=1, loc=0, scale=1)\n",
        "\n",
        "# Calculate p values\n",
        "p_formula_1 = 1 - X.cdf(chi2_formula_1)\n",
        "p_formula_2 = 1 - X.cdf(chi2_formula_2)\n",
        "\n",
        "# Test H_0 with both p values\n",
        "test(alpha=0.05, p_value=p_formula_1)\n",
        "test(alpha=0.05, p_value=p_formula_2)"
      ],
      "execution_count": 36,
      "outputs": [
        {
          "output_type": "stream",
          "text": [
            "Reject null hypothesis with a significance level of 0.05\n",
            "Reject null hypothesis with a significance level of 0.05\n"
          ],
          "name": "stdout"
        }
      ]
    }
  ]
}