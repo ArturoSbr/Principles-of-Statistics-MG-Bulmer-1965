{
  "nbformat": 4,
  "nbformat_minor": 0,
  "metadata": {
    "colab": {
      "name": "9_tests_of_significance",
      "provenance": [],
      "collapsed_sections": [],
      "authorship_tag": "ABX9TyO3+FDWaNTgdSPtHQDqL3FS"
    },
    "kernelspec": {
      "name": "python3",
      "display_name": "Python 3"
    }
  },
  "cells": [
    {
      "cell_type": "markdown",
      "metadata": {
        "id": "7Gi61kv2nojF"
      },
      "source": [
        "# Chapter 9. Tests of Significance\n",
        "\n",
        "Solutions for all exercises listed in Chapter 9 (Tests of Significance) from *Principles of Statistics* (MG Bulmer, 1965)\n",
        "\n",
        "\n",
        "---\n",
        "\n",
        "Set local environment"
      ]
    },
    {
      "cell_type": "code",
      "metadata": {
        "id": "8RzJYmFXC6qi"
      },
      "source": [
        "import numpy as np\n",
        "import pandas as pd\n",
        "from scipy import stats"
      ],
      "execution_count": 1,
      "outputs": []
    },
    {
      "cell_type": "markdown",
      "metadata": {
        "id": "o5r8SQYao0Sb"
      },
      "source": [
        "Define a function to determine if we should accept or reject the null hypothesis given a threshold."
      ]
    },
    {
      "cell_type": "code",
      "metadata": {
        "id": "U91ZkOdLoyaF"
      },
      "source": [
        "def test(alpha=0.05, p_value=0):\n",
        "    if p_value <= alpha:\n",
        "        print('Reject null hypothesis with a significance level of', str(alpha))\n",
        "    else:\n",
        "        print('Unable to reject the null hypothesis with a significance level of', str(alpha))"
      ],
      "execution_count": 2,
      "outputs": []
    },
    {
      "cell_type": "markdown",
      "metadata": {
        "id": "cwwvBA6vm3ns"
      },
      "source": [
        "# Exercise 9.1\n",
        "In one of his experiments Mendel observed 705 plants with purple flowers and 224 plants with white flowers in plants bred from a purple-flowered $\\times$ white-flowered hybrid. Test the hypothesis that the probability of a purple-flowered plant is $\\frac{3}{4}$.\n",
        "\n",
        "*Solution*\n",
        "\n",
        "There is no reason to suppose that $p$ is greater than or less than $p=\\frac{3}{4}$, so use the binomial distribution to perform a two-tailed test.\n",
        "\n",
        "$H_0$: $p=\\frac{3}{4}$"
      ]
    },
    {
      "cell_type": "code",
      "metadata": {
        "colab": {
          "base_uri": "https://localhost:8080/"
        },
        "id": "iPWcbPDJmsZA",
        "outputId": "9217f58c-5b80-4d25-8a69-74c8dcb4c116"
      },
      "source": [
        "test(alpha=0.05, p_value=stats.binom_test(x=705, n=(705 + 224), p=0.75))"
      ],
      "execution_count": 3,
      "outputs": [
        {
          "output_type": "stream",
          "text": [
            "Unable to reject the null hypothesis with a significance level of 0.05\n"
          ],
          "name": "stdout"
        }
      ]
    },
    {
      "cell_type": "markdown",
      "metadata": {
        "id": "Yp0mFz5ost3y"
      },
      "source": [
        "# Exercise 9.2\n",
        "200 women are each given a sample of butter and a sample of margarine and asked to identify the butter; 120 of them do so correctly. Can women tell butter from margarine?\n",
        "\n",
        "*Solution*\n",
        "\n",
        "If women were unable to tell butter from margarine, the probability of labeling butter correctly would be 0.5. Hence, perform a two-tailed test using the binomial distribution.\n",
        "\n",
        "$H_0$: Women cannot tell butter from margarine ($p=0.5$)"
      ]
    },
    {
      "cell_type": "code",
      "metadata": {
        "colab": {
          "base_uri": "https://localhost:8080/"
        },
        "id": "56w39PCns7K_",
        "outputId": "0e4fffec-265e-485f-e957-afed8f7dbb21"
      },
      "source": [
        "test(alpha=0.05, p_value=stats.binom_test(x=120, n=200, p=0.5, alternative='two-sided'))"
      ],
      "execution_count": 4,
      "outputs": [
        {
          "output_type": "stream",
          "text": [
            "Reject null hypothesis with a significance level of 0.05\n"
          ],
          "name": "stdout"
        }
      ]
    },
    {
      "cell_type": "markdown",
      "metadata": {
        "id": "54IeD4idyFtM"
      },
      "source": [
        "# Exercise 9.3\n",
        "In a similar test among 200 men, 108 identify the butter correctly; is there a sex difference in tase discrimination?\n",
        "\n",
        "*Solution*\n",
        "\n",
        "In 9.1 and 9.2, we were comparing the observed occurences against the expected number of observations. We are now comparing the difference between two proportions.\n",
        "\n",
        "If there is no sex difference in taste discrimination, then the theoretical proportion of women who cannot tell the difference between butter and margarine ($P_w$) should be equal to that of men ($P_m$). In other words, we are testing the hypothesis that $Pw = Pm = P$.\n",
        "\n",
        "Transforming a binomial random variable into a proportion implies dividing it by the number of observations.\n",
        "\n",
        "$Y = \\frac{X}{n} \\implies E(Y) = P, V(Y) = \\frac{PQ}{n}$\n",
        "\n",
        "Hence, the statistic $p_w - p_m$ should be normally distributed with mean 0 and variance $PQ(\\frac{1}{n_w} + \\frac{1}{n_m})$.\n",
        "\n",
        "We don't know the true value of $P$, so we'll estimate it with $\\frac{x_w + x_m}{n_w + n_m}$"
      ]
    },
    {
      "cell_type": "code",
      "metadata": {
        "id": "ZqdMJVh8uF6-",
        "colab": {
          "base_uri": "https://localhost:8080/"
        },
        "outputId": "85be43ed-8b58-4ac4-a43a-1dc2efa90c08"
      },
      "source": [
        "# Observed proportions\n",
        "p_w = 120 / 200\n",
        "p_m = 108 / 200\n",
        "\n",
        "# Global proportion\n",
        "p = (120 + 108) / (200 + 200)\n",
        "\n",
        "# Standard deviation\n",
        "sigma = np.sqrt(p * (1 - p) * ((1 / 200) + (1 / 200)))\n",
        "\n",
        "# Statistic\n",
        "s = (p_w - p_m) / sigma\n",
        "s"
      ],
      "execution_count": 5,
      "outputs": [
        {
          "output_type": "execute_result",
          "data": {
            "text/plain": [
              "1.2119357448701642"
            ]
          },
          "metadata": {
            "tags": []
          },
          "execution_count": 5
        }
      ]
    },
    {
      "cell_type": "code",
      "metadata": {
        "colab": {
          "base_uri": "https://localhost:8080/"
        },
        "id": "vxobxebd6UDI",
        "outputId": "16e05bc9-288c-419d-a4b1-ea5525579e09"
      },
      "source": [
        "p_value = 2 * (1 - stats.norm(loc=0, scale=1).cdf(s))\n",
        "test(alpha=0.05, p_value=p_value)"
      ],
      "execution_count": 6,
      "outputs": [
        {
          "output_type": "stream",
          "text": [
            "Unable to reject the null hypothesis with a significance level of 0.05\n"
          ],
          "name": "stdout"
        }
      ]
    },
    {
      "cell_type": "markdown",
      "metadata": {
        "id": "pvC1RWSwG7tV"
      },
      "source": [
        "# Exercise 9.4\n",
        "To test whether it is of advantage to klin-dry barley before sowing, eleven varieties of barley were sown (both klin-dried and not klin-dried). Test whether there is any advantage in klin-drying.\n",
        "\n",
        "The yields, in lb. head corn per acre, are given below:"
      ]
    },
    {
      "cell_type": "code",
      "metadata": {
        "colab": {
          "base_uri": "https://localhost:8080/",
          "height": 390
        },
        "id": "dfyV8NJtHXwm",
        "outputId": "484342a2-86e8-43f4-ba92-bb57e15613c9"
      },
      "source": [
        "df = pd.DataFrame({'dried':[2009,1915,2011,2463,2180,1925,2122,1482,1542,1443,1535],\n",
        "                   'not_dried':[1903,1935,1910,2496,2108,1961,2060,1444,1612,1316,1511]})\n",
        "df"
      ],
      "execution_count": 7,
      "outputs": [
        {
          "output_type": "execute_result",
          "data": {
            "text/html": [
              "<div>\n",
              "<style scoped>\n",
              "    .dataframe tbody tr th:only-of-type {\n",
              "        vertical-align: middle;\n",
              "    }\n",
              "\n",
              "    .dataframe tbody tr th {\n",
              "        vertical-align: top;\n",
              "    }\n",
              "\n",
              "    .dataframe thead th {\n",
              "        text-align: right;\n",
              "    }\n",
              "</style>\n",
              "<table border=\"1\" class=\"dataframe\">\n",
              "  <thead>\n",
              "    <tr style=\"text-align: right;\">\n",
              "      <th></th>\n",
              "      <th>dried</th>\n",
              "      <th>not_dried</th>\n",
              "    </tr>\n",
              "  </thead>\n",
              "  <tbody>\n",
              "    <tr>\n",
              "      <th>0</th>\n",
              "      <td>2009</td>\n",
              "      <td>1903</td>\n",
              "    </tr>\n",
              "    <tr>\n",
              "      <th>1</th>\n",
              "      <td>1915</td>\n",
              "      <td>1935</td>\n",
              "    </tr>\n",
              "    <tr>\n",
              "      <th>2</th>\n",
              "      <td>2011</td>\n",
              "      <td>1910</td>\n",
              "    </tr>\n",
              "    <tr>\n",
              "      <th>3</th>\n",
              "      <td>2463</td>\n",
              "      <td>2496</td>\n",
              "    </tr>\n",
              "    <tr>\n",
              "      <th>4</th>\n",
              "      <td>2180</td>\n",
              "      <td>2108</td>\n",
              "    </tr>\n",
              "    <tr>\n",
              "      <th>5</th>\n",
              "      <td>1925</td>\n",
              "      <td>1961</td>\n",
              "    </tr>\n",
              "    <tr>\n",
              "      <th>6</th>\n",
              "      <td>2122</td>\n",
              "      <td>2060</td>\n",
              "    </tr>\n",
              "    <tr>\n",
              "      <th>7</th>\n",
              "      <td>1482</td>\n",
              "      <td>1444</td>\n",
              "    </tr>\n",
              "    <tr>\n",
              "      <th>8</th>\n",
              "      <td>1542</td>\n",
              "      <td>1612</td>\n",
              "    </tr>\n",
              "    <tr>\n",
              "      <th>9</th>\n",
              "      <td>1443</td>\n",
              "      <td>1316</td>\n",
              "    </tr>\n",
              "    <tr>\n",
              "      <th>10</th>\n",
              "      <td>1535</td>\n",
              "      <td>1511</td>\n",
              "    </tr>\n",
              "  </tbody>\n",
              "</table>\n",
              "</div>"
            ],
            "text/plain": [
              "    dried  not_dried\n",
              "0    2009       1903\n",
              "1    1915       1935\n",
              "2    2011       1910\n",
              "3    2463       2496\n",
              "4    2180       2108\n",
              "5    1925       1961\n",
              "6    2122       2060\n",
              "7    1482       1444\n",
              "8    1542       1612\n",
              "9    1443       1316\n",
              "10   1535       1511"
            ]
          },
          "metadata": {
            "tags": []
          },
          "execution_count": 7
        }
      ]
    },
    {
      "cell_type": "markdown",
      "metadata": {
        "id": "ISWgkWd5f_h-"
      },
      "source": [
        "$H_0: \\mu_{dry} = \\mu_{wet}$\n",
        "\n",
        "We can use the $t$ statistic to do a two-tailed test on the difference between both populations (it is feasible that drying has a negative effect). Note that the samples were taken from the same plants, so they are *not* independent."
      ]
    },
    {
      "cell_type": "code",
      "metadata": {
        "id": "OyNtofkDf9Ne",
        "colab": {
          "base_uri": "https://localhost:8080/"
        },
        "outputId": "e5b1500b-fc08-4d0a-b289-ada81329fed2"
      },
      "source": [
        "# New column with difference\n",
        "df['diff'] = df['dried'] - df['not_dried']\n",
        "\n",
        "# Use ttest_1samp since samples are not independent\n",
        "t_test = stats.ttest_1samp(df['diff'], popmean=0)\n",
        "\n",
        "# Test using p-value\n",
        "test(alpha=0.05, p_value=t_test[1])"
      ],
      "execution_count": 8,
      "outputs": [
        {
          "output_type": "stream",
          "text": [
            "Unable to reject the null hypothesis with a significance level of 0.05\n"
          ],
          "name": "stdout"
        }
      ]
    },
    {
      "cell_type": "markdown",
      "metadata": {
        "id": "X9m-QslO890J"
      },
      "source": [
        "# Exercise 9.5\n",
        "Use the data in Table 22 on p. 210 to test (a) whether there is an increase in comb-growth capons receiving $\\frac{1}{2}$ mg androsterone, (b) whether there is an increase in capons receiving 4 mg, (c) whether there is any difference in capons receiving 4 mg and 8 mg.\n"
      ]
    },
    {
      "cell_type": "code",
      "metadata": {
        "colab": {
          "base_uri": "https://localhost:8080/",
          "height": 204
        },
        "id": "nessthDY9Z76",
        "outputId": "7cc12d74-c217-4962-ae10-1311cb2c1731"
      },
      "source": [
        "df = pd.DataFrame({'half':[8,1,1,3,1], 'four':[17,14,14,19,13],'eight':[17,17,20,18,15]})\n",
        "df"
      ],
      "execution_count": 9,
      "outputs": [
        {
          "output_type": "execute_result",
          "data": {
            "text/html": [
              "<div>\n",
              "<style scoped>\n",
              "    .dataframe tbody tr th:only-of-type {\n",
              "        vertical-align: middle;\n",
              "    }\n",
              "\n",
              "    .dataframe tbody tr th {\n",
              "        vertical-align: top;\n",
              "    }\n",
              "\n",
              "    .dataframe thead th {\n",
              "        text-align: right;\n",
              "    }\n",
              "</style>\n",
              "<table border=\"1\" class=\"dataframe\">\n",
              "  <thead>\n",
              "    <tr style=\"text-align: right;\">\n",
              "      <th></th>\n",
              "      <th>half</th>\n",
              "      <th>four</th>\n",
              "      <th>eight</th>\n",
              "    </tr>\n",
              "  </thead>\n",
              "  <tbody>\n",
              "    <tr>\n",
              "      <th>0</th>\n",
              "      <td>8</td>\n",
              "      <td>17</td>\n",
              "      <td>17</td>\n",
              "    </tr>\n",
              "    <tr>\n",
              "      <th>1</th>\n",
              "      <td>1</td>\n",
              "      <td>14</td>\n",
              "      <td>17</td>\n",
              "    </tr>\n",
              "    <tr>\n",
              "      <th>2</th>\n",
              "      <td>1</td>\n",
              "      <td>14</td>\n",
              "      <td>20</td>\n",
              "    </tr>\n",
              "    <tr>\n",
              "      <th>3</th>\n",
              "      <td>3</td>\n",
              "      <td>19</td>\n",
              "      <td>18</td>\n",
              "    </tr>\n",
              "    <tr>\n",
              "      <th>4</th>\n",
              "      <td>1</td>\n",
              "      <td>13</td>\n",
              "      <td>15</td>\n",
              "    </tr>\n",
              "  </tbody>\n",
              "</table>\n",
              "</div>"
            ],
            "text/plain": [
              "   half  four  eight\n",
              "0     8    17     17\n",
              "1     1    14     17\n",
              "2     1    14     20\n",
              "3     3    19     18\n",
              "4     1    13     15"
            ]
          },
          "metadata": {
            "tags": []
          },
          "execution_count": 9
        }
      ]
    },
    {
      "cell_type": "markdown",
      "metadata": {
        "id": "HPeUJr90Bm3C"
      },
      "source": [
        "`scipy.stats.ttest_1samp` does not have one-tailed tests. Hence, we must define the corresponding $t$ distribution to compare the alpha and p-values.\n",
        "\n",
        "(a) $H_0: \\mu_0 = 0$, $H_1: \\mu_0 \\geq 0$"
      ]
    },
    {
      "cell_type": "code",
      "metadata": {
        "colab": {
          "base_uri": "https://localhost:8080/"
        },
        "id": "supnhXcCAFnF",
        "outputId": "41ae72d1-fb9b-4a92-ec77-5e4eb11cb42b"
      },
      "source": [
        "# Declare statistic\n",
        "T = stats.ttest_1samp(df['half'], popmean=0)[0]\n",
        "\n",
        "# Declare p-value\n",
        "p = 1 - stats.t(df=len(df) - 1, loc=0, scale=1).cdf(T)\n",
        "\n",
        "# Test H_0\n",
        "test(alpha=0.05, p_value=p)"
      ],
      "execution_count": 10,
      "outputs": [
        {
          "output_type": "stream",
          "text": [
            "Unable to reject the null hypothesis with a significance level of 0.05\n"
          ],
          "name": "stdout"
        }
      ]
    },
    {
      "cell_type": "markdown",
      "metadata": {
        "id": "3vgKWF_SExCZ"
      },
      "source": [
        "(b) $H_0: \\mu_0 = 0, H_1: \\mu_0 \\geq 0$"
      ]
    },
    {
      "cell_type": "code",
      "metadata": {
        "colab": {
          "base_uri": "https://localhost:8080/"
        },
        "id": "IxjbtI2qAXDa",
        "outputId": "eb46be8d-45dc-46ea-dd54-7b51a2a99472"
      },
      "source": [
        "# Declare statistic\n",
        "T = stats.ttest_1samp(df['four'], popmean=0)[0]\n",
        "\n",
        "# Declare p-value\n",
        "p = 1 - stats.t(df=len(df) - 1, loc=0, scale=1).cdf(T)\n",
        "\n",
        "# Test H_0\n",
        "test(alpha=0.05, p_value=p)"
      ],
      "execution_count": 11,
      "outputs": [
        {
          "output_type": "stream",
          "text": [
            "Reject null hypothesis with a significance level of 0.05\n"
          ],
          "name": "stdout"
        }
      ]
    },
    {
      "cell_type": "markdown",
      "metadata": {
        "id": "rXx094gtGp-O"
      },
      "source": [
        "(c) $H_0: \\mu_{4mg} = \\mu_{8mg}, H_1: \\mu_{4mg} \\neq \\mu_{8mg}$\n",
        "\n",
        "Since the samples are independent, we must calculate a $T$ statistic assuming that both samples come from a distribution with equal variance and perhaps different means.\n"
      ]
    },
    {
      "cell_type": "code",
      "metadata": {
        "colab": {
          "base_uri": "https://localhost:8080/"
        },
        "id": "mki-GK-_BNlJ",
        "outputId": "4e17661d-c288-463c-83da-9b59f6ce9772"
      },
      "source": [
        "# Declare column with differences\n",
        "df['diff'] = df['four'] - df['eight']\n",
        "\n",
        "# Declare t_test\n",
        "t_test = stats.ttest_ind(a=df['four'], b=df['eight'], equal_var=True)\n",
        "\n",
        "# Test H_0\n",
        "test(alpha=0.05, p_value=t_test[1])"
      ],
      "execution_count": 12,
      "outputs": [
        {
          "output_type": "stream",
          "text": [
            "Unable to reject the null hypothesis with a significance level of 0.05\n"
          ],
          "name": "stdout"
        }
      ]
    },
    {
      "cell_type": "markdown",
      "metadata": {
        "id": "8FRvyMxrD6lH"
      },
      "source": [
        "# Exercise 9.6\n",
        "For Weldon's data in Exercise 6.4, (a) test whether $P = \\frac{1}{2}$ by comparing the total number of successes with its Expected value, (b) test whether the data with $P=p$ follows a binomial distribution.\n",
        "\n",
        "---\n",
        "\n",
        "Weldon threw 12 dice 4096 times, a throw of 4, 5 or 6 being called a success, and obtained the following results"
      ]
    },
    {
      "cell_type": "code",
      "metadata": {
        "colab": {
          "base_uri": "https://localhost:8080/",
          "height": 452
        },
        "id": "DzvbGMyLDo9v",
        "outputId": "9c199579-620a-491a-a550-251529629ef5"
      },
      "source": [
        "df = pd.DataFrame({'X':range(13),\n",
        "                   'obs_freq':[0,7,60,198,430,731,948,847,536,257,71,11,0]})\n",
        "df"
      ],
      "execution_count": 13,
      "outputs": [
        {
          "output_type": "execute_result",
          "data": {
            "text/html": [
              "<div>\n",
              "<style scoped>\n",
              "    .dataframe tbody tr th:only-of-type {\n",
              "        vertical-align: middle;\n",
              "    }\n",
              "\n",
              "    .dataframe tbody tr th {\n",
              "        vertical-align: top;\n",
              "    }\n",
              "\n",
              "    .dataframe thead th {\n",
              "        text-align: right;\n",
              "    }\n",
              "</style>\n",
              "<table border=\"1\" class=\"dataframe\">\n",
              "  <thead>\n",
              "    <tr style=\"text-align: right;\">\n",
              "      <th></th>\n",
              "      <th>X</th>\n",
              "      <th>obs_freq</th>\n",
              "    </tr>\n",
              "  </thead>\n",
              "  <tbody>\n",
              "    <tr>\n",
              "      <th>0</th>\n",
              "      <td>0</td>\n",
              "      <td>0</td>\n",
              "    </tr>\n",
              "    <tr>\n",
              "      <th>1</th>\n",
              "      <td>1</td>\n",
              "      <td>7</td>\n",
              "    </tr>\n",
              "    <tr>\n",
              "      <th>2</th>\n",
              "      <td>2</td>\n",
              "      <td>60</td>\n",
              "    </tr>\n",
              "    <tr>\n",
              "      <th>3</th>\n",
              "      <td>3</td>\n",
              "      <td>198</td>\n",
              "    </tr>\n",
              "    <tr>\n",
              "      <th>4</th>\n",
              "      <td>4</td>\n",
              "      <td>430</td>\n",
              "    </tr>\n",
              "    <tr>\n",
              "      <th>5</th>\n",
              "      <td>5</td>\n",
              "      <td>731</td>\n",
              "    </tr>\n",
              "    <tr>\n",
              "      <th>6</th>\n",
              "      <td>6</td>\n",
              "      <td>948</td>\n",
              "    </tr>\n",
              "    <tr>\n",
              "      <th>7</th>\n",
              "      <td>7</td>\n",
              "      <td>847</td>\n",
              "    </tr>\n",
              "    <tr>\n",
              "      <th>8</th>\n",
              "      <td>8</td>\n",
              "      <td>536</td>\n",
              "    </tr>\n",
              "    <tr>\n",
              "      <th>9</th>\n",
              "      <td>9</td>\n",
              "      <td>257</td>\n",
              "    </tr>\n",
              "    <tr>\n",
              "      <th>10</th>\n",
              "      <td>10</td>\n",
              "      <td>71</td>\n",
              "    </tr>\n",
              "    <tr>\n",
              "      <th>11</th>\n",
              "      <td>11</td>\n",
              "      <td>11</td>\n",
              "    </tr>\n",
              "    <tr>\n",
              "      <th>12</th>\n",
              "      <td>12</td>\n",
              "      <td>0</td>\n",
              "    </tr>\n",
              "  </tbody>\n",
              "</table>\n",
              "</div>"
            ],
            "text/plain": [
              "     X  obs_freq\n",
              "0    0         0\n",
              "1    1         7\n",
              "2    2        60\n",
              "3    3       198\n",
              "4    4       430\n",
              "5    5       731\n",
              "6    6       948\n",
              "7    7       847\n",
              "8    8       536\n",
              "9    9       257\n",
              "10  10        71\n",
              "11  11        11\n",
              "12  12         0"
            ]
          },
          "metadata": {
            "tags": []
          },
          "execution_count": 13
        }
      ]
    },
    {
      "cell_type": "markdown",
      "metadata": {
        "id": "xA2pZvKdFe4e"
      },
      "source": [
        "$H_0: P = \\frac{1}{2}$ in 4096 repetitions\n",
        "\n",
        "Under $H_0$, the observed minus the expected number of successes should follow a normal distribution with mean 0 and variance $4096 \\times V(X)$."
      ]
    },
    {
      "cell_type": "code",
      "metadata": {
        "colab": {
          "base_uri": "https://localhost:8080/"
        },
        "id": "MH43uwQ4HwPj",
        "outputId": "0413fee0-260c-425f-cba3-45e3f08c4096"
      },
      "source": [
        "# Declare random variable under H_0\n",
        "X = stats.binom(n=12, p=0.5)\n",
        "\n",
        "# Total number of successes in 4096 repetitions\n",
        "obs = (df['X'] * df['obs_freq']).sum()\n",
        "\n",
        "# Expected number of successes in 4096 repetitions\n",
        "exp = X.stats('m').item() * 4096\n",
        "\n",
        "# Variance in 4096 repetitions\n",
        "var = X.stats('v').item() * 4096\n",
        "\n",
        "# Calculate statistic\n",
        "z = (obs - exp) / np.sqrt(var)\n",
        "\n",
        "# Calculate p-value\n",
        "p_value = (1 - stats.norm(loc=0, scale=1).cdf(z)) * 2\n",
        "\n",
        "# Test\n",
        "test(alpha=0.05, p_value=p_value)"
      ],
      "execution_count": 14,
      "outputs": [
        {
          "output_type": "stream",
          "text": [
            "Reject null hypothesis with a significance level of 0.05\n"
          ],
          "name": "stdout"
        }
      ]
    },
    {
      "cell_type": "markdown",
      "metadata": {
        "id": "tT3B4HJIXCft"
      },
      "source": [
        "We need a $\\chi^2$ statistic to test the goodness of fit of a binomial distribution with probability of success equal to the observed proportion of successes."
      ]
    },
    {
      "cell_type": "code",
      "metadata": {
        "colab": {
          "base_uri": "https://localhost:8080/"
        },
        "id": "rJ7rbgSGXALD",
        "outputId": "6bec93ff-5b0a-450b-86e4-4ea258a98a08"
      },
      "source": [
        "# Calculate observed proportion of successes\n",
        "p_obs = obs / 4096 / 12\n",
        "\n",
        "# Delcare binomial distribution with P = p_obs\n",
        "X = stats.binom(n=12, p=p_obs)\n",
        "\n",
        "# Declare expected number of successes in 4096 repetitions\n",
        "df['exp_freq'] = X.pmf(df['X']) * 4096\n",
        "\n",
        "# Chi-square test\n",
        "chi_test = stats.chisquare(f_exp=df['exp_freq'], f_obs=df['obs_freq'])\n",
        "\n",
        "# Test H_0\n",
        "test(alpha=0.05, p_value=chi_test[1])"
      ],
      "execution_count": 15,
      "outputs": [
        {
          "output_type": "stream",
          "text": [
            "Unable to reject the null hypothesis with a significance level of 0.05\n"
          ],
          "name": "stdout"
        }
      ]
    },
    {
      "cell_type": "markdown",
      "metadata": {
        "id": "VLepy0iKgOkx"
      },
      "source": [
        "# Exercise 9.7\n",
        "Test the goodness of fit of the Poisson distribution to the data: (a) in Table 13 on p. 92, (b) in Table 15 on p. 96, (c) in Exercise 6.6. In calculating $\\chi^2$ remember that no class should have an Expected value less than 5."
      ]
    },
    {
      "cell_type": "markdown",
      "metadata": {
        "id": "qcKag4L-NLa5"
      },
      "source": [
        "(a) $H_0:$ Deaths from horse kicks follow Poisson distribution with $\\mu = 0.7$"
      ]
    },
    {
      "cell_type": "code",
      "metadata": {
        "id": "j_rAnu7OgNpn",
        "colab": {
          "base_uri": "https://localhost:8080/",
          "height": 235
        },
        "outputId": "41b21e26-d66b-436c-ee0f-d25d62cbc5c3"
      },
      "source": [
        "df = pd.DataFrame({'deaths':range(6), 'obs':[144,91,32,11,2,0], 'exp':[139,97,34,8,1,0]})\n",
        "df"
      ],
      "execution_count": 16,
      "outputs": [
        {
          "output_type": "execute_result",
          "data": {
            "text/html": [
              "<div>\n",
              "<style scoped>\n",
              "    .dataframe tbody tr th:only-of-type {\n",
              "        vertical-align: middle;\n",
              "    }\n",
              "\n",
              "    .dataframe tbody tr th {\n",
              "        vertical-align: top;\n",
              "    }\n",
              "\n",
              "    .dataframe thead th {\n",
              "        text-align: right;\n",
              "    }\n",
              "</style>\n",
              "<table border=\"1\" class=\"dataframe\">\n",
              "  <thead>\n",
              "    <tr style=\"text-align: right;\">\n",
              "      <th></th>\n",
              "      <th>deaths</th>\n",
              "      <th>obs</th>\n",
              "      <th>exp</th>\n",
              "    </tr>\n",
              "  </thead>\n",
              "  <tbody>\n",
              "    <tr>\n",
              "      <th>0</th>\n",
              "      <td>0</td>\n",
              "      <td>144</td>\n",
              "      <td>139</td>\n",
              "    </tr>\n",
              "    <tr>\n",
              "      <th>1</th>\n",
              "      <td>1</td>\n",
              "      <td>91</td>\n",
              "      <td>97</td>\n",
              "    </tr>\n",
              "    <tr>\n",
              "      <th>2</th>\n",
              "      <td>2</td>\n",
              "      <td>32</td>\n",
              "      <td>34</td>\n",
              "    </tr>\n",
              "    <tr>\n",
              "      <th>3</th>\n",
              "      <td>3</td>\n",
              "      <td>11</td>\n",
              "      <td>8</td>\n",
              "    </tr>\n",
              "    <tr>\n",
              "      <th>4</th>\n",
              "      <td>4</td>\n",
              "      <td>2</td>\n",
              "      <td>1</td>\n",
              "    </tr>\n",
              "    <tr>\n",
              "      <th>5</th>\n",
              "      <td>5</td>\n",
              "      <td>0</td>\n",
              "      <td>0</td>\n",
              "    </tr>\n",
              "  </tbody>\n",
              "</table>\n",
              "</div>"
            ],
            "text/plain": [
              "   deaths  obs  exp\n",
              "0       0  144  139\n",
              "1       1   91   97\n",
              "2       2   32   34\n",
              "3       3   11    8\n",
              "4       4    2    1\n",
              "5       5    0    0"
            ]
          },
          "metadata": {
            "tags": []
          },
          "execution_count": 16
        }
      ]
    },
    {
      "cell_type": "code",
      "metadata": {
        "colab": {
          "base_uri": "https://localhost:8080/"
        },
        "id": "Z4tF5zTeLC9O",
        "outputId": "0764ebe6-16d1-46e8-92db-999b651ac2ea"
      },
      "source": [
        "# Combine groups such that df['exp'] >= 5\n",
        "df = pd.concat([df[df['deaths'] <= 2],\n",
        "                df[df['deaths'] > 2].sum().to_frame().transpose()])\n",
        "\n",
        "# Chi-square test with ddof = 1 because mu wasestimated from data\n",
        "chi_test = stats.chisquare(f_obs=df['obs'], f_exp=df['exp'], ddof=1)\n",
        "\n",
        "# Test H_0\n",
        "test(alpha=0.05, p_value=chi_test[1])"
      ],
      "execution_count": 17,
      "outputs": [
        {
          "output_type": "stream",
          "text": [
            "Unable to reject the null hypothesis with a significance level of 0.05\n"
          ],
          "name": "stdout"
        }
      ]
    },
    {
      "cell_type": "markdown",
      "metadata": {
        "id": "wuDVHJx8Oy1J"
      },
      "source": [
        "(b) $H_0:$ Number of accidents follows Poisson with $\\mu = 0.47$"
      ]
    },
    {
      "cell_type": "code",
      "metadata": {
        "colab": {
          "base_uri": "https://localhost:8080/",
          "height": 266
        },
        "id": "pkSUuBuiPIsn",
        "outputId": "6b09658d-2997-4238-a873-4bffc34afb8a"
      },
      "source": [
        "df = pd.DataFrame({'accidents':range(7), 'obs':[447,132,42,21,3,2,0], 'exp':[406,189,44,7,1,0,0]})\n",
        "df"
      ],
      "execution_count": 18,
      "outputs": [
        {
          "output_type": "execute_result",
          "data": {
            "text/html": [
              "<div>\n",
              "<style scoped>\n",
              "    .dataframe tbody tr th:only-of-type {\n",
              "        vertical-align: middle;\n",
              "    }\n",
              "\n",
              "    .dataframe tbody tr th {\n",
              "        vertical-align: top;\n",
              "    }\n",
              "\n",
              "    .dataframe thead th {\n",
              "        text-align: right;\n",
              "    }\n",
              "</style>\n",
              "<table border=\"1\" class=\"dataframe\">\n",
              "  <thead>\n",
              "    <tr style=\"text-align: right;\">\n",
              "      <th></th>\n",
              "      <th>accidents</th>\n",
              "      <th>obs</th>\n",
              "      <th>exp</th>\n",
              "    </tr>\n",
              "  </thead>\n",
              "  <tbody>\n",
              "    <tr>\n",
              "      <th>0</th>\n",
              "      <td>0</td>\n",
              "      <td>447</td>\n",
              "      <td>406</td>\n",
              "    </tr>\n",
              "    <tr>\n",
              "      <th>1</th>\n",
              "      <td>1</td>\n",
              "      <td>132</td>\n",
              "      <td>189</td>\n",
              "    </tr>\n",
              "    <tr>\n",
              "      <th>2</th>\n",
              "      <td>2</td>\n",
              "      <td>42</td>\n",
              "      <td>44</td>\n",
              "    </tr>\n",
              "    <tr>\n",
              "      <th>3</th>\n",
              "      <td>3</td>\n",
              "      <td>21</td>\n",
              "      <td>7</td>\n",
              "    </tr>\n",
              "    <tr>\n",
              "      <th>4</th>\n",
              "      <td>4</td>\n",
              "      <td>3</td>\n",
              "      <td>1</td>\n",
              "    </tr>\n",
              "    <tr>\n",
              "      <th>5</th>\n",
              "      <td>5</td>\n",
              "      <td>2</td>\n",
              "      <td>0</td>\n",
              "    </tr>\n",
              "    <tr>\n",
              "      <th>6</th>\n",
              "      <td>6</td>\n",
              "      <td>0</td>\n",
              "      <td>0</td>\n",
              "    </tr>\n",
              "  </tbody>\n",
              "</table>\n",
              "</div>"
            ],
            "text/plain": [
              "   accidents  obs  exp\n",
              "0          0  447  406\n",
              "1          1  132  189\n",
              "2          2   42   44\n",
              "3          3   21    7\n",
              "4          4    3    1\n",
              "5          5    2    0\n",
              "6          6    0    0"
            ]
          },
          "metadata": {
            "tags": []
          },
          "execution_count": 18
        }
      ]
    },
    {
      "cell_type": "code",
      "metadata": {
        "colab": {
          "base_uri": "https://localhost:8080/"
        },
        "id": "sIx48VehUeSX",
        "outputId": "ba4bd140-234f-4e36-f1b0-27fa3b209818"
      },
      "source": [
        "# Combine groups such that df['exp'] is always >= 5\n",
        "df = pd.concat([df[df['exp'] > 7],\n",
        "                df[df['exp'] <= 7].sum().to_frame().transpose()])\n",
        "\n",
        "# Chi-square test (ddof = 1 because mu was estimated from data)\n",
        "chi_test = stats.chisquare(f_obs=df['obs'], f_exp=df['exp'], ddof=1)\n",
        "\n",
        "# Test H_0\n",
        "test(alpha=0.05, p_value=chi_test[1])"
      ],
      "execution_count": 19,
      "outputs": [
        {
          "output_type": "stream",
          "text": [
            "Reject null hypothesis with a significance level of 0.05\n"
          ],
          "name": "stdout"
        }
      ]
    },
    {
      "cell_type": "markdown",
      "metadata": {
        "id": "LEX3Yf24Vvd0"
      },
      "source": [
        "(c) $H_0:$ Yeast cells follow a Poisson distribution with $\\mu = $"
      ]
    },
    {
      "cell_type": "code",
      "metadata": {
        "colab": {
          "base_uri": "https://localhost:8080/",
          "height": 266
        },
        "id": "9ywRBXslVujJ",
        "outputId": "7aceee05-2f7e-4a4b-c1c8-5eaaa7f978a3"
      },
      "source": [
        "df = pd.DataFrame({'cells':range(7), 'obs':[103,143,98,42,8,4,2]})\n",
        "df"
      ],
      "execution_count": 20,
      "outputs": [
        {
          "output_type": "execute_result",
          "data": {
            "text/html": [
              "<div>\n",
              "<style scoped>\n",
              "    .dataframe tbody tr th:only-of-type {\n",
              "        vertical-align: middle;\n",
              "    }\n",
              "\n",
              "    .dataframe tbody tr th {\n",
              "        vertical-align: top;\n",
              "    }\n",
              "\n",
              "    .dataframe thead th {\n",
              "        text-align: right;\n",
              "    }\n",
              "</style>\n",
              "<table border=\"1\" class=\"dataframe\">\n",
              "  <thead>\n",
              "    <tr style=\"text-align: right;\">\n",
              "      <th></th>\n",
              "      <th>cells</th>\n",
              "      <th>obs</th>\n",
              "    </tr>\n",
              "  </thead>\n",
              "  <tbody>\n",
              "    <tr>\n",
              "      <th>0</th>\n",
              "      <td>0</td>\n",
              "      <td>103</td>\n",
              "    </tr>\n",
              "    <tr>\n",
              "      <th>1</th>\n",
              "      <td>1</td>\n",
              "      <td>143</td>\n",
              "    </tr>\n",
              "    <tr>\n",
              "      <th>2</th>\n",
              "      <td>2</td>\n",
              "      <td>98</td>\n",
              "    </tr>\n",
              "    <tr>\n",
              "      <th>3</th>\n",
              "      <td>3</td>\n",
              "      <td>42</td>\n",
              "    </tr>\n",
              "    <tr>\n",
              "      <th>4</th>\n",
              "      <td>4</td>\n",
              "      <td>8</td>\n",
              "    </tr>\n",
              "    <tr>\n",
              "      <th>5</th>\n",
              "      <td>5</td>\n",
              "      <td>4</td>\n",
              "    </tr>\n",
              "    <tr>\n",
              "      <th>6</th>\n",
              "      <td>6</td>\n",
              "      <td>2</td>\n",
              "    </tr>\n",
              "  </tbody>\n",
              "</table>\n",
              "</div>"
            ],
            "text/plain": [
              "   cells  obs\n",
              "0      0  103\n",
              "1      1  143\n",
              "2      2   98\n",
              "3      3   42\n",
              "4      4    8\n",
              "5      5    4\n",
              "6      6    2"
            ]
          },
          "metadata": {
            "tags": []
          },
          "execution_count": 20
        }
      ]
    },
    {
      "cell_type": "code",
      "metadata": {
        "colab": {
          "base_uri": "https://localhost:8080/",
          "height": 266
        },
        "id": "4dyMmotDWtSI",
        "outputId": "0472abd3-dbbc-4410-a5f1-bac10dd3224b"
      },
      "source": [
        "# Calculate mean\n",
        "mu = (df['cells'] * df['obs']).sum() / df['obs'].sum()\n",
        "\n",
        "# Fit Poisson\n",
        "X = stats.poisson(mu=mu)\n",
        "df['exp'] = X.pmf(df['cells']) * df['obs'].sum()\n",
        "df"
      ],
      "execution_count": 21,
      "outputs": [
        {
          "output_type": "execute_result",
          "data": {
            "text/html": [
              "<div>\n",
              "<style scoped>\n",
              "    .dataframe tbody tr th:only-of-type {\n",
              "        vertical-align: middle;\n",
              "    }\n",
              "\n",
              "    .dataframe tbody tr th {\n",
              "        vertical-align: top;\n",
              "    }\n",
              "\n",
              "    .dataframe thead th {\n",
              "        text-align: right;\n",
              "    }\n",
              "</style>\n",
              "<table border=\"1\" class=\"dataframe\">\n",
              "  <thead>\n",
              "    <tr style=\"text-align: right;\">\n",
              "      <th></th>\n",
              "      <th>cells</th>\n",
              "      <th>obs</th>\n",
              "      <th>exp</th>\n",
              "    </tr>\n",
              "  </thead>\n",
              "  <tbody>\n",
              "    <tr>\n",
              "      <th>0</th>\n",
              "      <td>0</td>\n",
              "      <td>103</td>\n",
              "      <td>106.587319</td>\n",
              "    </tr>\n",
              "    <tr>\n",
              "      <th>1</th>\n",
              "      <td>1</td>\n",
              "      <td>143</td>\n",
              "      <td>140.961730</td>\n",
              "    </tr>\n",
              "    <tr>\n",
              "      <th>2</th>\n",
              "      <td>2</td>\n",
              "      <td>98</td>\n",
              "      <td>93.210944</td>\n",
              "    </tr>\n",
              "    <tr>\n",
              "      <th>3</th>\n",
              "      <td>3</td>\n",
              "      <td>42</td>\n",
              "      <td>41.090491</td>\n",
              "    </tr>\n",
              "    <tr>\n",
              "      <th>4</th>\n",
              "      <td>4</td>\n",
              "      <td>8</td>\n",
              "      <td>13.585544</td>\n",
              "    </tr>\n",
              "    <tr>\n",
              "      <th>5</th>\n",
              "      <td>5</td>\n",
              "      <td>4</td>\n",
              "      <td>3.593376</td>\n",
              "    </tr>\n",
              "    <tr>\n",
              "      <th>6</th>\n",
              "      <td>6</td>\n",
              "      <td>2</td>\n",
              "      <td>0.792040</td>\n",
              "    </tr>\n",
              "  </tbody>\n",
              "</table>\n",
              "</div>"
            ],
            "text/plain": [
              "   cells  obs         exp\n",
              "0      0  103  106.587319\n",
              "1      1  143  140.961730\n",
              "2      2   98   93.210944\n",
              "3      3   42   41.090491\n",
              "4      4    8   13.585544\n",
              "5      5    4    3.593376\n",
              "6      6    2    0.792040"
            ]
          },
          "metadata": {
            "tags": []
          },
          "execution_count": 21
        }
      ]
    },
    {
      "cell_type": "code",
      "metadata": {
        "colab": {
          "base_uri": "https://localhost:8080/"
        },
        "id": "G74Nu4iCYSdL",
        "outputId": "27b93b84-21f8-4555-fe59-9ad2a0ce3e31"
      },
      "source": [
        "# Group classes together such that df['exp'] always >= 5\n",
        "df = pd.concat([df[df['exp'] > 41],\n",
        "                df[df['exp'] < 41].sum().to_frame().transpose()])\n",
        "\n",
        "# Chi-square test (ddof = 1 because mu was estimated from data)\n",
        "chi_test = stats.chisquare(f_obs=df['obs'], f_exp=df['exp'], ddof=1)\n",
        "\n",
        "# Test H_0\n",
        "test(alpha=0.05, p_value=chi_test[1])"
      ],
      "execution_count": 22,
      "outputs": [
        {
          "output_type": "stream",
          "text": [
            "Unable to reject the null hypothesis with a significance level of 0.05\n"
          ],
          "name": "stdout"
        }
      ]
    }
  ]
}