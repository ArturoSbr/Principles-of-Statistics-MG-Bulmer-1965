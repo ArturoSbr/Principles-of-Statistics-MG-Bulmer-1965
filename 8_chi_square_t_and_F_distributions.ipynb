{
  "nbformat": 4,
  "nbformat_minor": 0,
  "metadata": {
    "colab": {
      "name": "8_chi_square_t_and_F_distributions.ipynb",
      "provenance": [],
      "authorship_tag": "ABX9TyP+c+X2FQiSpakZ/iuF4Kxk"
    },
    "kernelspec": {
      "name": "python3",
      "display_name": "Python 3"
    }
  },
  "cells": [
    {
      "cell_type": "markdown",
      "metadata": {
        "id": "7Gi61kv2nojF"
      },
      "source": [
        "# Chapter 8. The $\\chi^2$, $t$ and $f$ distributions\n",
        "\n",
        "Solutions for all exercises listed in Chapter 8 (The $\\chi^2$, $t$ and $F$ distributions) from *Principles of Statistics* (MG Bulmer, 1965)\n",
        "\n",
        "\n",
        "---\n",
        "\n",
        "Set local environment"
      ]
    },
    {
      "cell_type": "code",
      "metadata": {
        "id": "8RzJYmFXC6qi"
      },
      "source": [
        "import numpy as np\n",
        "from scipy import stats"
      ],
      "execution_count": 1,
      "outputs": []
    },
    {
      "cell_type": "markdown",
      "metadata": {
        "id": "zW-tf4hCDBCR"
      },
      "source": [
        "# Exercise 8.1\n",
        "\n",
        "The IQ is approximately normally distributed with $\\mu = 100$ and $\\sigma=16$. In a randomly selected group of 10 people, what is the probability that the observed standard deviation, $s = \\sqrt{\\frac{S^2}{n-1}}$, will be less than 8.8?\n",
        "\n",
        "**Solution**\n",
        "\n",
        "*We know that $\\frac{S^2}{\\sigma^2} \\sim \\chi^2_{n-1}$ and $n = 10$*. Therefore:\n",
        "\n",
        "$\\frac{S^2}{\\sigma^2} = \\frac{s^2 (n - 1)}{\\sigma^2} = \\frac{8.8^2 \\times 9}{16^2}$\n",
        "\n",
        "*So we are looking for $P(X < \\frac{8.8^2 \\times 9}{16^2})$, where $X \\sim \\chi^2_9$*"
      ]
    },
    {
      "cell_type": "code",
      "metadata": {
        "colab": {
          "base_uri": "https://localhost:8080/"
        },
        "id": "hFzCRnIeEfnl",
        "outputId": "f0f8e61a-1516-46dd-b93c-2a0b0036109e"
      },
      "source": [
        "round(stats.chi2(df=9).cdf(8.8**2 * 9 / 16**2), 4)"
      ],
      "execution_count": 2,
      "outputs": [
        {
          "output_type": "execute_result",
          "data": {
            "text/plain": [
              "0.0257"
            ]
          },
          "metadata": {
            "tags": []
          },
          "execution_count": 2
        }
      ]
    },
    {
      "cell_type": "markdown",
      "metadata": {
        "id": "Sw_tqbejDljl"
      },
      "source": [
        "# Exercise 8.2\n",
        "\n",
        "If four observarions are taken from a normal distribution, what is the probability that the difference between the observed mean $\\bar{x}$ and the true mean $\\mu$ will be less than five times the observed standard deviation $s$?\n",
        "\n",
        "**Solution**\n",
        "\n",
        "*Since we are making an inference about the sample mean using $s$, we have to use the $t$ distribution. We know that $T = \\frac{\\bar{x} - \\mu}{\\frac{s}{\\sqrt{n}}}$ follows the $t$ distribution with $(n - 1)$ degrees of freedom. We are looking for:\n",
        "\n",
        "$P(\\bar{x} - \\mu < 5 s) = P(\\frac{\\bar{x} - \\mu)}{s} < 5) = \n",
        "P(\\frac{\\bar{x} - \\mu}{\\frac{s}{\\sqrt{4}}} < 5 \\sqrt{4}) = P(T < 10)$"
      ]
    },
    {
      "cell_type": "code",
      "metadata": {
        "colab": {
          "base_uri": "https://localhost:8080/"
        },
        "id": "39SkjesTHnB-",
        "outputId": "175dbef3-ca49-42d5-e31a-ba49e996a2ba"
      },
      "source": [
        "round(stats.t(df=3).cdf(10), 4)"
      ],
      "execution_count": null,
      "outputs": [
        {
          "output_type": "execute_result",
          "data": {
            "text/plain": [
              "0.9989"
            ]
          },
          "metadata": {
            "tags": []
          },
          "execution_count": 3
        }
      ]
    },
    {
      "cell_type": "markdown",
      "metadata": {
        "id": "2cmHAXeBDlUS"
      },
      "source": [
        "# Exercise 8.3\n",
        "\n",
        "Suppose that the true standard deviation of technician A in performing some chemical determination is half that of technician B. If they each do 7 determinations on the same solution, what is the chance that B will appear to be more accurate than A as judged by their observed standard deviations? (Assume that the errors are normally distributed.)\n",
        "\n",
        "**Solution**\n",
        "\n",
        "*We are being told that $2\\sigma_A = \\sigma_B$. We know that $\\frac{S^2}{\\sigma^2} \\sim \\chi^2_{n-1}$ and $V = \\frac{\\frac{\\chi^2_{f_1}}{f_1}}{\\frac{\\chi^2_{f2}}{f_2}}$ follows the $F$ distribution with $f_1$ and $f_2$ degrees of freedom. Note that $f_1 = f_2$, so the denominators cancel out.*\n",
        "\n",
        "*We want to know the probability that $S_B < S_A$  less than that of A:*\n",
        "\n",
        "$P(S_A > S_B) = P(S^2_A > S^2_B) = P(\\frac{S_A^2}{(2 \\sigma_A)^2} > \\frac{S_B^2}{\\sigma^2_B}) = P(F_{6,6} > 4)$"
      ]
    },
    {
      "cell_type": "code",
      "metadata": {
        "id": "e30xRJgnSQ2V",
        "colab": {
          "base_uri": "https://localhost:8080/"
        },
        "outputId": "4634187a-5131-4172-b39f-8cfc3f4fb83f"
      },
      "source": [
        "round(1 - stats.f(dfn=6, dfd=6).cdf(4), 4)"
      ],
      "execution_count": null,
      "outputs": [
        {
          "output_type": "execute_result",
          "data": {
            "text/plain": [
              "0.0579"
            ]
          },
          "metadata": {
            "tags": []
          },
          "execution_count": 4
        }
      ]
    }
  ]
}